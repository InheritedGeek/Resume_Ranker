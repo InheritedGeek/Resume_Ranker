{
 "cells": [
  {
   "cell_type": "code",
   "execution_count": 174,
   "metadata": {
    "collapsed": false
   },
   "outputs": [],
   "source": [
    "import numpy as np\n",
    "import pandas as pd\n",
    "from time import strptime\n",
    "import calendar\n",
    "import time\n",
    "from dateutil import relativedelta"
   ]
  },
  {
   "cell_type": "code",
   "execution_count": 175,
   "metadata": {
    "collapsed": true
   },
   "outputs": [],
   "source": [
    "tm=calendar.month_abbr[int(time.strftime(\"%m\"))]\n",
    "ty=time.strftime(\"%Y\")\n",
    "curMY=tm+ty"
   ]
  },
  {
   "cell_type": "code",
   "execution_count": 176,
   "metadata": {
    "collapsed": false
   },
   "outputs": [],
   "source": [
    "train_sent=pd.read_csv(\"C:/Users/roy/Desktop/BDA/TrainData.csv\")"
   ]
  },
  {
   "cell_type": "code",
   "execution_count": 177,
   "metadata": {
    "collapsed": true
   },
   "outputs": [],
   "source": [
    "train_date = train_sent[train_sent.Col3 == 'DATE'][\"Col1\"]"
   ]
  },
  {
   "cell_type": "code",
   "execution_count": 178,
   "metadata": {
    "collapsed": false
   },
   "outputs": [],
   "source": [
    "df=train_date.values\n",
    "df1=train_date.iloc[::2]\n",
    "df1=df1.reset_index(drop=True)\n",
    "df2=train_date.iloc[1::2]\n",
    "df2 = df2.reset_index(drop=True)\n",
    "df4=pd.Series(df1.str.cat(df2, sep=''))\n",
    "df44=pd.Series(df1.str.cat(df2, sep=' '))"
   ]
  },
  {
   "cell_type": "code",
   "execution_count": 179,
   "metadata": {
    "collapsed": false
   },
   "outputs": [],
   "source": [
    "df1.replace({'January': 'Jan', 'February': 'Feb', 'March': 'Mar', 'April': 'Apr', 'June': 'Jun', 'July':'Jul', 'August':'Aug', '^September|Sept':'Sep', 'October':'Oct', 'November':'Nov', 'December':'Dec'}, regex=True, inplace=True)\n",
    "df5=df4.replace('^TillDate.|tilldate|tilldate.|Tilldate', curMY, regex=True)"
   ]
  },
  {
   "cell_type": "code",
   "execution_count": 182,
   "metadata": {
    "collapsed": false
   },
   "outputs": [],
   "source": [
    "df6=pd.Series.to_frame(df5)\n",
    "df6 = df6.apply(pd.to_datetime)\n",
    "df6['RefDate']=pd.Series(df1.str.cat(df2,sep=' '))\n",
    "df6['DatesRanked'] = df6['Col1'].rank(ascending=1, method='dense')"
   ]
  },
  {
   "cell_type": "code",
   "execution_count": 189,
   "metadata": {
    "collapsed": false
   },
   "outputs": [
    {
     "data": {
      "text/html": [
       "<div>\n",
       "<table border=\"1\" class=\"dataframe\">\n",
       "  <thead>\n",
       "    <tr style=\"text-align: right;\">\n",
       "      <th></th>\n",
       "      <th>Joining_Date</th>\n",
       "      <th>Joining_Date_in_CV</th>\n",
       "      <th>JoinDate_Rank</th>\n",
       "      <th>Leaving_Date</th>\n",
       "      <th>Leaving_Date_in_CV</th>\n",
       "      <th>LeavingDate_Rank</th>\n",
       "      <th>Duration_in_months</th>\n",
       "    </tr>\n",
       "  </thead>\n",
       "  <tbody>\n",
       "    <tr>\n",
       "      <th>0</th>\n",
       "      <td>2013-04-01</td>\n",
       "      <td>Apr 2013</td>\n",
       "      <td>1.0</td>\n",
       "      <td>2017-07-01</td>\n",
       "      <td>Till Date.</td>\n",
       "      <td>6.0</td>\n",
       "      <td>51.0</td>\n",
       "    </tr>\n",
       "    <tr>\n",
       "      <th>1</th>\n",
       "      <td>2016-02-01</td>\n",
       "      <td>Feb 2016</td>\n",
       "      <td>5.0</td>\n",
       "      <td>2017-07-01</td>\n",
       "      <td>till date</td>\n",
       "      <td>6.0</td>\n",
       "      <td>17.0</td>\n",
       "    </tr>\n",
       "    <tr>\n",
       "      <th>2</th>\n",
       "      <td>2014-09-01</td>\n",
       "      <td>Sep 2014</td>\n",
       "      <td>3.0</td>\n",
       "      <td>2015-12-01</td>\n",
       "      <td>Dec 2015</td>\n",
       "      <td>4.0</td>\n",
       "      <td>15.0</td>\n",
       "    </tr>\n",
       "    <tr>\n",
       "      <th>3</th>\n",
       "      <td>2013-04-01</td>\n",
       "      <td>Apr 2013</td>\n",
       "      <td>1.0</td>\n",
       "      <td>2014-08-01</td>\n",
       "      <td>Aug 2014</td>\n",
       "      <td>2.0</td>\n",
       "      <td>16.0</td>\n",
       "    </tr>\n",
       "  </tbody>\n",
       "</table>\n",
       "</div>"
      ],
      "text/plain": [
       "  Joining_Date Joining_Date_in_CV  JoinDate_Rank Leaving_Date  \\\n",
       "0   2013-04-01           Apr 2013            1.0   2017-07-01   \n",
       "1   2016-02-01           Feb 2016            5.0   2017-07-01   \n",
       "2   2014-09-01           Sep 2014            3.0   2015-12-01   \n",
       "3   2013-04-01           Apr 2013            1.0   2014-08-01   \n",
       "\n",
       "  Leaving_Date_in_CV  LeavingDate_Rank  Duration_in_months  \n",
       "0         Till Date.               6.0                51.0  \n",
       "1          till date               6.0                17.0  \n",
       "2           Dec 2015               4.0                15.0  \n",
       "3           Aug 2014               2.0                16.0  "
      ]
     },
     "execution_count": 189,
     "metadata": {},
     "output_type": "execute_result"
    }
   ],
   "source": [
    "df20=df44.iloc[::2]\n",
    "df20=df20.reset_index(drop=True)\n",
    "df21=df44.iloc[1::2]\n",
    "df21=df21.reset_index(drop=True)\n",
    "df22=pd.concat([df20, df21], axis=1)\n",
    "df22.rename(index=str, columns={\"Col1\": \"Start\", \"Col1\": \"End\"})\n",
    "df23=df6.iloc[::2]\n",
    "df23=df23.reset_index(drop=True)\n",
    "df24=df6.iloc[1::2]\n",
    "df24=df24.reset_index(drop=True)\n",
    "df25=pd.concat([df23, df24], axis=1)\n",
    "df25.columns = ['Joining_Date','Joining_Date_in_CV','JoinDate_Rank','Leaving_Date','Leaving_Date_in_CV','LeavingDate_Rank']\n",
    "pd.DatetimeIndex(df25.Joining_Date).normalize()\n",
    "pd.DatetimeIndex(df25.Leaving_Date).normalize()\n",
    "for i in range(len(df25)):\n",
    "    r = relativedelta.relativedelta(df25.Leaving_Date.iloc[i], df25.Joining_Date.iloc[i])\n",
    "    tot_months=r.months+r.years*12\n",
    "    df25.loc[i, 'Duration_in_months'] = tot_months\n",
    "df25"
   ]
  },
  {
   "cell_type": "code",
   "execution_count": 187,
   "metadata": {
    "collapsed": false
   },
   "outputs": [
    {
     "name": "stdout",
     "output_type": "stream",
     "text": [
      "             Col1 Col2   Col3\n",
      "200          till   VB   DATE\n",
      "201          date   NN   DATE\n",
      "202   Environment   NN      O\n",
      "203             :    :      O\n",
      "204          Java  NNP  SKILL\n",
      "205           JSP  NNP  SKILL\n",
      "206        Struts  NNP  SKILL\n",
      "207     Hibernate  NNP  SKILL\n",
      "208        Oracle  NNP  SKILL\n",
      "209          HTML  NNP  SKILL\n",
      "210           CSS  NNP  SKILL\n",
      "211    JavaScript  NNP  SKILL\n",
      "212          Role  NNP      O\n",
      "213             :    :      O\n",
      "214          Java  NNP  DESIG\n",
      "215     Developer  NNP  DESIG\n",
      "216  Description:  NNP      O\n",
      "217          This   DT      O\n",
      "218      E-Alerts  NNP      O\n",
      "219        System  NNP      O\n",
      "220            is  VBZ      O\n",
      "221     basically   RB      O\n",
      "222            is  VBZ      O\n",
      "223          used  VBN      O\n",
      "224            to   TO      O\n",
      "225          send   VB      O\n",
      "226        alerts  NNS      O\n",
      "227            to   TO      O\n",
      "228           the   DT      O\n",
      "229          bank   NN      O\n",
      "..            ...  ...    ...\n",
      "329            in   IN      O\n",
      "330    developing  VBG      O\n",
      "331     Hibernate  NNP  SKILL\n",
      "332          POJO  NNP  SKILL\n",
      "333       classes   NN  SKILL\n",
      "334     Hibernate  NNP  SKILL\n",
      "335       Mapping  NNP  SKILL\n",
      "336         files  NNS      O\n",
      "337             .    .      O\n",
      "338      Involved  VBN      O\n",
      "339            in   IN      O\n",
      "340          Unit  NNP  SKILL\n",
      "341       Testing  NNP  SKILL\n",
      "342             .    .      O\n",
      "343       Project  NNP      O\n",
      "344            #2  NNP      O\n",
      "345       Project  NNP      O\n",
      "346             :    :      O\n",
      "347      American   JJ      O\n",
      "348          Girl  NNP      O\n",
      "349         Dolls  NNP      O\n",
      "350        Client  NNP      O\n",
      "351             :    :      O\n",
      "352      American   JJ    ORG\n",
      "353          Girl  NNP    ORG\n",
      "354         U.S.A  NNP    LOC\n",
      "355      Duration  NNP      O\n",
      "356             :    :      O\n",
      "357          Sept   JJ   DATE\n",
      "358          2014   CD   DATE\n",
      "\n",
      "[159 rows x 3 columns]\n"
     ]
    }
   ],
   "source": [
    "print (train_sent._slice(slice(200, 359)))"
   ]
  }
 ],
 "metadata": {
  "anaconda-cloud": {},
  "kernelspec": {
   "display_name": "Python 3",
   "language": "python",
   "name": "python3"
  },
  "language_info": {
   "codemirror_mode": {
    "name": "ipython",
    "version": 3
   },
   "file_extension": ".py",
   "mimetype": "text/x-python",
   "name": "python",
   "nbconvert_exporter": "python",
   "pygments_lexer": "ipython3",
   "version": "3.6.0"
  }
 },
 "nbformat": 4,
 "nbformat_minor": 1
}
