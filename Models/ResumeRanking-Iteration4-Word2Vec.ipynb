{
 "cells": [
  {
   "cell_type": "markdown",
   "metadata": {},
   "source": [
    "## Importing Libraries"
   ]
  },
  {
   "cell_type": "code",
   "execution_count": 1,
   "metadata": {
    "collapsed": false
   },
   "outputs": [
    {
     "name": "stderr",
     "output_type": "stream",
     "text": [
      "C:\\ProgramData\\Anaconda3\\lib\\site-packages\\gensim\\utils.py:860: UserWarning: detected Windows; aliasing chunkize to chunkize_serial\n",
      "  warnings.warn(\"detected Windows; aliasing chunkize to chunkize_serial\")\n"
     ]
    }
   ],
   "source": [
    "import io\n",
    "import os\n",
    "import pandas as pd\n",
    "\n",
    "#NLP Libraries\n",
    "\n",
    "import nltk\n",
    "from nltk.corpus import stopwords\n",
    "#from nltk.tag.stanford import StanfordNERTagger\n",
    "\n",
    "#Document Reader Libraries\n",
    "\n",
    "from subprocess import Popen, PIPE\n",
    "from docx import Document\n",
    "import pdfminer\n",
    "from pdfminer.pdfinterp import PDFResourceManager, PDFPageInterpreter\n",
    "from pdfminer.pdfpage import PDFPage\n",
    "from pdfminer.converter import TextConverter\n",
    "from pdfminer.layout import LAParams\n",
    "from io import StringIO\n",
    "\n",
    "from docx import Document\n",
    "from docx.document import Document as _Document\n",
    "from docx.oxml.text.paragraph import CT_P\n",
    "from docx.oxml.table import CT_Tbl\n",
    "from docx.table import _Cell, Table\n",
    "from docx.text.paragraph import Paragraph\n",
    "\n",
    "#Tf-IDf libraries\n",
    "\n",
    "from sklearn.feature_extraction.text import TfidfVectorizer\n",
    "from sklearn.metrics.pairwise import cosine_similarity\n",
    "\n",
    "#fuzzy logic\n",
    "\n",
    "import gensim\n",
    "from fuzzywuzzy import fuzz"
   ]
  },
  {
   "cell_type": "markdown",
   "metadata": {},
   "source": [
    "## Convert PDF to Text - Function"
   ]
  },
  {
   "cell_type": "code",
   "execution_count": 2,
   "metadata": {
    "collapsed": true
   },
   "outputs": [],
   "source": [
    "#Function to convert pdf to text\n",
    "def convert_pdf_to_txt(path):\n",
    "    rsrcmgr = PDFResourceManager()\n",
    "    retstr = StringIO()\n",
    "    codec = 'utf-8'\n",
    "    laparams = LAParams()\n",
    "    device = TextConverter(rsrcmgr, retstr, codec=codec, laparams=laparams)\n",
    "    fp = open(path, 'rb')\n",
    "    interpreter = PDFPageInterpreter(rsrcmgr, device)\n",
    "    password = \"\"\n",
    "    maxpages = 0\n",
    "    caching = True\n",
    "    pagenos=set()\n",
    "    for page in PDFPage.get_pages(fp, pagenos, maxpages=maxpages, password=password,caching=caching, check_extractable=True):\n",
    "        interpreter.process_page(page)\n",
    "    fp.close()\n",
    "    device.close()\n",
    "    str1 = retstr.getvalue()\n",
    "    retstr.close()\n",
    "    return str1\n"
   ]
  },
  {
   "cell_type": "markdown",
   "metadata": {},
   "source": [
    "## Read All Docx Blocks"
   ]
  },
  {
   "cell_type": "code",
   "execution_count": 3,
   "metadata": {
    "collapsed": true
   },
   "outputs": [],
   "source": [
    "#Read All Docx\n",
    "def iter_block_items(parent):\n",
    "    \"\"\"\n",
    "    Generate a reference to each paragraph and table child within *parent*,\n",
    "    in document order. Each returned value is an instance of either Table or\n",
    "    Paragraph. *parent* would most commonly be a reference to a main\n",
    "    Document object, but also works for a _Cell object, which itself can\n",
    "    contain paragraphs and tables.\n",
    "    \"\"\"\n",
    "    if isinstance(parent, _Document):\n",
    "        parent_elm = parent.element.body\n",
    "        # print(parent_elm.xml)\n",
    "    elif isinstance(parent, _Cell):\n",
    "        parent_elm = parent._tc\n",
    "    else:\n",
    "        raise ValueError(\"something's not right\")\n",
    "\n",
    "    for child in parent_elm.iterchildren():\n",
    "        if isinstance(child, CT_P):\n",
    "            yield Paragraph(child, parent)\n",
    "        elif isinstance(child, CT_Tbl):\n",
    "            yield Table(child, parent)"
   ]
  },
  {
   "cell_type": "markdown",
   "metadata": {},
   "source": [
    "## Convert Document to Text including PDF - Function"
   ]
  },
  {
   "cell_type": "code",
   "execution_count": 4,
   "metadata": {
    "collapsed": true
   },
   "outputs": [],
   "source": [
    "#Function to convert doc formats (like .doc, .docx, .odt) to text\n",
    "def document_to_text(filename, file_path):\n",
    "    if filename[-4:] == \".doc\":\n",
    "        cmd = ['C:/antiword/antiword', file_path] #use antiword command\n",
    "        p = Popen(cmd, stdout=PIPE)\n",
    "        stdout, stderr = p.communicate()\n",
    "        return stdout.decode('ascii', 'ignore')\n",
    "    elif filename[-5:] == \".docx\":\n",
    "        doc = Document(file_path)\n",
    "        fullText = []\n",
    "        para_ix=0\n",
    "        tbl_ix=0\n",
    "        for block in iter_block_items(doc):\n",
    "            block_type=block.__class__.__name__\n",
    "            if block_type=='Table':\n",
    "                for row in doc.tables[tbl_ix].rows:\n",
    "                    for cell in row.cells:\n",
    "                        for paracell in cell.paragraphs:\n",
    "                            fullText.append(paracell.text)\n",
    "                tbl_ix+=1\n",
    "            elif block_type=='Paragraph':\n",
    "                fullText.append(doc.paragraphs[para_ix].text)\n",
    "                para_ix+=1\n",
    "        return '\\n'.join(fullText)\n",
    "    elif filename[-4:] == \".odt\":\n",
    "        cmd = ['odt2txt', file_path]\n",
    "        p = Popen(cmd, stdout=PIPE)\n",
    "        stdout, stderr = p.communicate()\n",
    "        return stdout.decode('ascii', 'ignore')\n",
    "    elif filename[-4:] == \".pdf\":\n",
    "        return convert_pdf_to_txt(file_path)"
   ]
  },
  {
   "cell_type": "markdown",
   "metadata": {},
   "source": [
    "## Data Cleaner"
   ]
  },
  {
   "cell_type": "code",
   "execution_count": 5,
   "metadata": {
    "collapsed": true
   },
   "outputs": [],
   "source": [
    "import pandas as pd\n",
    "import re\n",
    "\n",
    "punctuations_list = [',', '?', ':', ';', '!', ')', '(', '\\'','\"','*','/','<','>','{','}','[',']']\n",
    "\n",
    "def cleanStr(mystring):\n",
    "    \n",
    "    # Removing non-utf charachters with space\n",
    "    mystring = re.sub(r'[^\\x00-\\x7F]+', ' ', str(mystring).lower())\n",
    "    \n",
    "    for punctuation in punctuations_list:            \n",
    "        mystring = mystring.replace(punctuation, \"\".join(punctuation).join(\"  \"))\n",
    "        \n",
    "    # Replacing 2 dots with one    \n",
    "    mystring = mystring.replace(\"..\", \". \")\n",
    "    \n",
    "    # Removing Multiple White spaces\n",
    "    message = ' '.join(mystring.split())\n",
    "\n",
    "    return message "
   ]
  },
  {
   "cell_type": "markdown",
   "metadata": {},
   "source": [
    "## Read Sample CVs & JD for Sno.1 JD"
   ]
  },
  {
   "cell_type": "code",
   "execution_count": 36,
   "metadata": {
    "collapsed": true
   },
   "outputs": [],
   "source": [
    "# Read the sample cv1 -JD1\n",
    "Cv1text=document_to_text('CURRENT_052017_NISHTHASHRIVASTAVA_Resume_c162f248-0fd9-4c0c-97b0-c22782d9cba1_NISHTHASHRIVASTAVA2_1.docx','D:/D drive/DataAnalytics_StudyMaterial/IIMB-BDA/ProjectZ/Iteration2/IIM/CURRENT_052017_NISHTHASHRIVASTAVA_Resume_c162f248-0fd9-4c0c-97b0-c22782d9cba1_NISHTHASHRIVASTAVA2_1.docx')"
   ]
  },
  {
   "cell_type": "code",
   "execution_count": 37,
   "metadata": {
    "collapsed": true
   },
   "outputs": [],
   "source": [
    "# Read Sample cv2 - JD1\n",
    "Cv2text=document_to_text('CURRENT_052017_ASHISHJAIN_Resume_02667350-11d5-471d-b3fd-a0c3d8c0d3e7_ASHISHJAIN2_6.docx','D:/D drive/DataAnalytics_StudyMaterial/IIMB-BDA/ProjectZ/Iteration2/IIM/CURRENT_052017_ASHISHJAIN_Resume_02667350-11d5-471d-b3fd-a0c3d8c0d3e7_ASHISHJAIN2_6.docx')\n",
    "#text2=document_to_text('test1.doc','D:/D drive/DataAnalytics_StudyMaterial/IIMB-BDA/ProjectZ/Iteration2/Sno1/test1.doc')"
   ]
  },
  {
   "cell_type": "code",
   "execution_count": 38,
   "metadata": {
    "collapsed": false
   },
   "outputs": [],
   "source": [
    "#Read sample JD1\n",
    "JdText=document_to_text('Jd-Sno6.docx','D:/D drive/DataAnalytics_StudyMaterial/IIMB-BDA/ProjectZ/Iteration2/Sno6/Jd-Sno6.docx')\n",
    "#text3=document_to_text('test3.pdf', 'D:/D drive/DataAnalytics_StudyMaterial/IIMB-BDA/ProjectZ/Iteration2/Sno1/test3.pdf')"
   ]
  },
  {
   "cell_type": "code",
   "execution_count": 41,
   "metadata": {
    "collapsed": false
   },
   "outputs": [
    {
     "data": {
      "text/plain": [
       "'Role : Application Developer Role Description : Design, develop, and configure software systems to meet market and/or client requirements either end-to-end from analysis, design, implementation, quality assurance (including testing), to delivery and maintenance of the software product or system or for a specific phase of the lifecycle. Apply knowledge of technologies, applications, methodologies, processes and tools to support a client, project or entity. \\nMust have Skills : Teradata BI'"
      ]
     },
     "execution_count": 41,
     "metadata": {},
     "output_type": "execute_result"
    }
   ],
   "source": [
    "JdText"
   ]
  },
  {
   "cell_type": "code",
   "execution_count": 27,
   "metadata": {
    "collapsed": false
   },
   "outputs": [],
   "source": [
    "cv1=Cv1text.split()\n",
    "cv2=Cv2text.split()\n",
    "JD=JdText.split()"
   ]
  },
  {
   "cell_type": "code",
   "execution_count": 17,
   "metadata": {
    "collapsed": false
   },
   "outputs": [],
   "source": [
    "documentsJD1=(JdText,Cv1text,Cv2text)"
   ]
  },
  {
   "cell_type": "code",
   "execution_count": 42,
   "metadata": {
    "collapsed": false
   },
   "outputs": [],
   "source": [
    "#tfidf_vectorizer = TfidfVectorizer(stop_words='english', ngram_range=[2,2])\n",
    "tfidf_vectorizer = TfidfVectorizer( ngram_range=[2,2])\n",
    "#tfidf_vectorizer = TfidfVectorizer()\n",
    "tfidf_matrix1 = tfidf_vectorizer.fit_transform(documentsJD1)"
   ]
  },
  {
   "cell_type": "code",
   "execution_count": 43,
   "metadata": {
    "collapsed": false
   },
   "outputs": [
    {
     "name": "stdout",
     "output_type": "stream",
     "text": [
      "(3, 1058)\n"
     ]
    }
   ],
   "source": [
    "print (tfidf_matrix1.shape)"
   ]
  },
  {
   "cell_type": "code",
   "execution_count": 44,
   "metadata": {
    "collapsed": false
   },
   "outputs": [
    {
     "data": {
      "text/plain": [
       "array([[ 1.        ,  0.        ,  0.00302468]])"
      ]
     },
     "execution_count": 44,
     "metadata": {},
     "output_type": "execute_result"
    }
   ],
   "source": [
    "cosine_similarity(tfidf_matrix1[0:1], tfidf_matrix1)"
   ]
  },
  {
   "cell_type": "markdown",
   "metadata": {},
   "source": [
    "From the cosine similarity the CV of 1st candidate - Shalini is more close to JD than that of 2nd Candidate Usha\n",
    "and same is corroborated by the data where Shalini is selected and Usha is rejected"
   ]
  },
  {
   "cell_type": "markdown",
   "metadata": {},
   "source": [
    "## Read Sample CVs & JD for Sno.5 JD"
   ]
  },
  {
   "cell_type": "code",
   "execution_count": 4,
   "metadata": {
    "collapsed": false
   },
   "outputs": [
    {
     "ename": "PackageNotFoundError",
     "evalue": "Package not found at 'D:/D drive/DataAnalytics_StudyMaterial/IIMB-BDA/ProjectZ/Iteration2/Sno5/CURRENT_052017_LaliteshUpadhyaya_Resume_9db2850b-a607-4a84-899d-1b0f9a0a8459_LaliteshUpadhyaya4_6.docx'",
     "output_type": "error",
     "traceback": [
      "\u001b[0;31m---------------------------------------------------------------------------\u001b[0m",
      "\u001b[0;31mPackageNotFoundError\u001b[0m                      Traceback (most recent call last)",
      "\u001b[0;32m<ipython-input-4-a9f12a0a8fe9>\u001b[0m in \u001b[0;36m<module>\u001b[0;34m()\u001b[0m\n\u001b[1;32m      1\u001b[0m \u001b[1;31m# Read the sample cv1 -JD5\u001b[0m\u001b[1;33m\u001b[0m\u001b[1;33m\u001b[0m\u001b[0m\n\u001b[0;32m----> 2\u001b[0;31m \u001b[0mCv1text\u001b[0m\u001b[1;33m=\u001b[0m\u001b[0mdocument_to_text\u001b[0m\u001b[1;33m(\u001b[0m\u001b[1;34m'CURRENT_052017_LaliteshUpadhyaya_Resume_9db2850b-a607-4a84-899d-1b0f9a0a8459_LaliteshUpadhyaya4_6.docx'\u001b[0m\u001b[1;33m,\u001b[0m\u001b[1;34m'D:/D drive/DataAnalytics_StudyMaterial/IIMB-BDA/ProjectZ/Iteration2/Sno5/CURRENT_052017_LaliteshUpadhyaya_Resume_9db2850b-a607-4a84-899d-1b0f9a0a8459_LaliteshUpadhyaya4_6.docx'\u001b[0m\u001b[1;33m)\u001b[0m\u001b[1;33m\u001b[0m\u001b[0m\n\u001b[0m\u001b[1;32m      3\u001b[0m \u001b[1;33m\u001b[0m\u001b[0m\n\u001b[1;32m      4\u001b[0m \u001b[1;31m# Read Sample cv2 - JD5\u001b[0m\u001b[1;33m\u001b[0m\u001b[1;33m\u001b[0m\u001b[0m\n\u001b[1;32m      5\u001b[0m \u001b[0mCv2text\u001b[0m\u001b[1;33m=\u001b[0m\u001b[0mdocument_to_text\u001b[0m\u001b[1;33m(\u001b[0m\u001b[1;34m'CURRENT_032017_HIRALPARMAR_Resume_3e8d6f3d-2b01-4603-8a09-12a840772afc_hiral2_0.pdf'\u001b[0m\u001b[1;33m,\u001b[0m\u001b[1;34m'D:/D drive/DataAnalytics_StudyMaterial/IIMB-BDA/ProjectZ/Iteration2/Sno5/CURRENT_032017_HIRALPARMAR_Resume_3e8d6f3d-2b01-4603-8a09-12a840772afc_hiral2_0.pdf'\u001b[0m\u001b[1;33m)\u001b[0m\u001b[1;33m\u001b[0m\u001b[0m\n",
      "\u001b[0;32m<ipython-input-3-108a5a5ad095>\u001b[0m in \u001b[0;36mdocument_to_text\u001b[0;34m(filename, file_path)\u001b[0m\n\u001b[1;32m      7\u001b[0m         \u001b[1;32mreturn\u001b[0m \u001b[0mstdout\u001b[0m\u001b[1;33m.\u001b[0m\u001b[0mdecode\u001b[0m\u001b[1;33m(\u001b[0m\u001b[1;34m'ascii'\u001b[0m\u001b[1;33m,\u001b[0m \u001b[1;34m'ignore'\u001b[0m\u001b[1;33m)\u001b[0m\u001b[1;33m\u001b[0m\u001b[0m\n\u001b[1;32m      8\u001b[0m     \u001b[1;32melif\u001b[0m \u001b[0mfilename\u001b[0m\u001b[1;33m[\u001b[0m\u001b[1;33m-\u001b[0m\u001b[1;36m5\u001b[0m\u001b[1;33m:\u001b[0m\u001b[1;33m]\u001b[0m \u001b[1;33m==\u001b[0m \u001b[1;34m\".docx\"\u001b[0m\u001b[1;33m:\u001b[0m\u001b[1;33m\u001b[0m\u001b[0m\n\u001b[0;32m----> 9\u001b[0;31m         \u001b[0mdoc\u001b[0m \u001b[1;33m=\u001b[0m \u001b[0mDocument\u001b[0m\u001b[1;33m(\u001b[0m\u001b[0mfile_path\u001b[0m\u001b[1;33m)\u001b[0m\u001b[1;33m\u001b[0m\u001b[0m\n\u001b[0m\u001b[1;32m     10\u001b[0m         \u001b[0mfullText\u001b[0m \u001b[1;33m=\u001b[0m \u001b[1;33m[\u001b[0m\u001b[1;33m]\u001b[0m\u001b[1;33m\u001b[0m\u001b[0m\n\u001b[1;32m     11\u001b[0m         \u001b[1;32mfor\u001b[0m \u001b[0mpara\u001b[0m \u001b[1;32min\u001b[0m \u001b[0mdoc\u001b[0m\u001b[1;33m.\u001b[0m\u001b[0mparagraphs\u001b[0m\u001b[1;33m:\u001b[0m\u001b[1;33m\u001b[0m\u001b[0m\n",
      "\u001b[0;32mC:\\ProgramData\\Anaconda3\\lib\\site-packages\\docx\\api.py\u001b[0m in \u001b[0;36mDocument\u001b[0;34m(docx)\u001b[0m\n\u001b[1;32m     23\u001b[0m     \"\"\"\n\u001b[1;32m     24\u001b[0m     \u001b[0mdocx\u001b[0m \u001b[1;33m=\u001b[0m \u001b[0m_default_docx_path\u001b[0m\u001b[1;33m(\u001b[0m\u001b[1;33m)\u001b[0m \u001b[1;32mif\u001b[0m \u001b[0mdocx\u001b[0m \u001b[1;32mis\u001b[0m \u001b[1;32mNone\u001b[0m \u001b[1;32melse\u001b[0m \u001b[0mdocx\u001b[0m\u001b[1;33m\u001b[0m\u001b[0m\n\u001b[0;32m---> 25\u001b[0;31m     \u001b[0mdocument_part\u001b[0m \u001b[1;33m=\u001b[0m \u001b[0mPackage\u001b[0m\u001b[1;33m.\u001b[0m\u001b[0mopen\u001b[0m\u001b[1;33m(\u001b[0m\u001b[0mdocx\u001b[0m\u001b[1;33m)\u001b[0m\u001b[1;33m.\u001b[0m\u001b[0mmain_document_part\u001b[0m\u001b[1;33m\u001b[0m\u001b[0m\n\u001b[0m\u001b[1;32m     26\u001b[0m     \u001b[1;32mif\u001b[0m \u001b[0mdocument_part\u001b[0m\u001b[1;33m.\u001b[0m\u001b[0mcontent_type\u001b[0m \u001b[1;33m!=\u001b[0m \u001b[0mCT\u001b[0m\u001b[1;33m.\u001b[0m\u001b[0mWML_DOCUMENT_MAIN\u001b[0m\u001b[1;33m:\u001b[0m\u001b[1;33m\u001b[0m\u001b[0m\n\u001b[1;32m     27\u001b[0m         \u001b[0mtmpl\u001b[0m \u001b[1;33m=\u001b[0m \u001b[1;34m\"file '%s' is not a Word file, content type is '%s'\"\u001b[0m\u001b[1;33m\u001b[0m\u001b[0m\n",
      "\u001b[0;32mC:\\ProgramData\\Anaconda3\\lib\\site-packages\\docx\\opc\\package.py\u001b[0m in \u001b[0;36mopen\u001b[0;34m(cls, pkg_file)\u001b[0m\n\u001b[1;32m    114\u001b[0m         \u001b[1;33m*\u001b[0m\u001b[0mpkg_file\u001b[0m\u001b[1;33m*\u001b[0m\u001b[1;33m.\u001b[0m\u001b[1;33m\u001b[0m\u001b[0m\n\u001b[1;32m    115\u001b[0m         \"\"\"\n\u001b[0;32m--> 116\u001b[0;31m         \u001b[0mpkg_reader\u001b[0m \u001b[1;33m=\u001b[0m \u001b[0mPackageReader\u001b[0m\u001b[1;33m.\u001b[0m\u001b[0mfrom_file\u001b[0m\u001b[1;33m(\u001b[0m\u001b[0mpkg_file\u001b[0m\u001b[1;33m)\u001b[0m\u001b[1;33m\u001b[0m\u001b[0m\n\u001b[0m\u001b[1;32m    117\u001b[0m         \u001b[0mpackage\u001b[0m \u001b[1;33m=\u001b[0m \u001b[0mcls\u001b[0m\u001b[1;33m(\u001b[0m\u001b[1;33m)\u001b[0m\u001b[1;33m\u001b[0m\u001b[0m\n\u001b[1;32m    118\u001b[0m         \u001b[0mUnmarshaller\u001b[0m\u001b[1;33m.\u001b[0m\u001b[0munmarshal\u001b[0m\u001b[1;33m(\u001b[0m\u001b[0mpkg_reader\u001b[0m\u001b[1;33m,\u001b[0m \u001b[0mpackage\u001b[0m\u001b[1;33m,\u001b[0m \u001b[0mPartFactory\u001b[0m\u001b[1;33m)\u001b[0m\u001b[1;33m\u001b[0m\u001b[0m\n",
      "\u001b[0;32mC:\\ProgramData\\Anaconda3\\lib\\site-packages\\docx\\opc\\pkgreader.py\u001b[0m in \u001b[0;36mfrom_file\u001b[0;34m(pkg_file)\u001b[0m\n\u001b[1;32m     30\u001b[0m         \u001b[0mReturn\u001b[0m \u001b[0ma\u001b[0m \u001b[1;33m|\u001b[0m\u001b[0mPackageReader\u001b[0m\u001b[1;33m|\u001b[0m \u001b[0minstance\u001b[0m \u001b[0mloaded\u001b[0m \u001b[1;32mwith\u001b[0m \u001b[0mcontents\u001b[0m \u001b[0mof\u001b[0m \u001b[1;33m*\u001b[0m\u001b[0mpkg_file\u001b[0m\u001b[1;33m*\u001b[0m\u001b[1;33m.\u001b[0m\u001b[1;33m\u001b[0m\u001b[0m\n\u001b[1;32m     31\u001b[0m         \"\"\"\n\u001b[0;32m---> 32\u001b[0;31m         \u001b[0mphys_reader\u001b[0m \u001b[1;33m=\u001b[0m \u001b[0mPhysPkgReader\u001b[0m\u001b[1;33m(\u001b[0m\u001b[0mpkg_file\u001b[0m\u001b[1;33m)\u001b[0m\u001b[1;33m\u001b[0m\u001b[0m\n\u001b[0m\u001b[1;32m     33\u001b[0m         \u001b[0mcontent_types\u001b[0m \u001b[1;33m=\u001b[0m \u001b[0m_ContentTypeMap\u001b[0m\u001b[1;33m.\u001b[0m\u001b[0mfrom_xml\u001b[0m\u001b[1;33m(\u001b[0m\u001b[0mphys_reader\u001b[0m\u001b[1;33m.\u001b[0m\u001b[0mcontent_types_xml\u001b[0m\u001b[1;33m)\u001b[0m\u001b[1;33m\u001b[0m\u001b[0m\n\u001b[1;32m     34\u001b[0m         \u001b[0mpkg_srels\u001b[0m \u001b[1;33m=\u001b[0m \u001b[0mPackageReader\u001b[0m\u001b[1;33m.\u001b[0m\u001b[0m_srels_for\u001b[0m\u001b[1;33m(\u001b[0m\u001b[0mphys_reader\u001b[0m\u001b[1;33m,\u001b[0m \u001b[0mPACKAGE_URI\u001b[0m\u001b[1;33m)\u001b[0m\u001b[1;33m\u001b[0m\u001b[0m\n",
      "\u001b[0;32mC:\\ProgramData\\Anaconda3\\lib\\site-packages\\docx\\opc\\phys_pkg.py\u001b[0m in \u001b[0;36m__new__\u001b[0;34m(cls, pkg_file)\u001b[0m\n\u001b[1;32m     29\u001b[0m             \u001b[1;32melse\u001b[0m\u001b[1;33m:\u001b[0m\u001b[1;33m\u001b[0m\u001b[0m\n\u001b[1;32m     30\u001b[0m                 raise PackageNotFoundError(\n\u001b[0;32m---> 31\u001b[0;31m                     \u001b[1;34m\"Package not found at '%s'\"\u001b[0m \u001b[1;33m%\u001b[0m \u001b[0mpkg_file\u001b[0m\u001b[1;33m\u001b[0m\u001b[0m\n\u001b[0m\u001b[1;32m     32\u001b[0m                 )\n\u001b[1;32m     33\u001b[0m         \u001b[1;32melse\u001b[0m\u001b[1;33m:\u001b[0m  \u001b[1;31m# assume it's a stream and pass it to Zip reader to sort out\u001b[0m\u001b[1;33m\u001b[0m\u001b[0m\n",
      "\u001b[0;31mPackageNotFoundError\u001b[0m: Package not found at 'D:/D drive/DataAnalytics_StudyMaterial/IIMB-BDA/ProjectZ/Iteration2/Sno5/CURRENT_052017_LaliteshUpadhyaya_Resume_9db2850b-a607-4a84-899d-1b0f9a0a8459_LaliteshUpadhyaya4_6.docx'"
     ]
    }
   ],
   "source": [
    "# Read the sample cv1 -JD5\n",
    "Cv1text=document_to_text('CURRENT_052017_LaliteshUpadhyaya_Resume_9db2850b-a607-4a84-899d-1b0f9a0a8459_LaliteshUpadhyaya4_6.docx','D:/D drive/DataAnalytics_StudyMaterial/IIMB-BDA/ProjectZ/Iteration2/Sno5/CURRENT_052017_LaliteshUpadhyaya_Resume_9db2850b-a607-4a84-899d-1b0f9a0a8459_LaliteshUpadhyaya4_6.docx')\n",
    "\n",
    "# Read Sample cv2 - JD5\n",
    "Cv2text=document_to_text('CURRENT_032017_HIRALPARMAR_Resume_3e8d6f3d-2b01-4603-8a09-12a840772afc_hiral2_0.pdf','D:/D drive/DataAnalytics_StudyMaterial/IIMB-BDA/ProjectZ/Iteration2/Sno5/CURRENT_032017_HIRALPARMAR_Resume_3e8d6f3d-2b01-4603-8a09-12a840772afc_hiral2_0.pdf')\n",
    "\n",
    "#Read sample JD5\n",
    "JdText=document_to_text('Jd-Sno5.docx','D:/D drive/DataAnalytics_StudyMaterial/IIMB-BDA/ProjectZ/Iteration2/Sno5/Jd-Sno5.docx')\n",
    "\n"
   ]
  },
  {
   "cell_type": "code",
   "execution_count": 56,
   "metadata": {
    "collapsed": true
   },
   "outputs": [],
   "source": [
    "documentsJD5=(JdText,Cv1text,Cv2text)"
   ]
  },
  {
   "cell_type": "code",
   "execution_count": 58,
   "metadata": {
    "collapsed": false
   },
   "outputs": [],
   "source": [
    "tfidf_matrix5 = tfidf_vectorizer.fit_transform(documentsJD5)"
   ]
  },
  {
   "cell_type": "code",
   "execution_count": 59,
   "metadata": {
    "collapsed": false
   },
   "outputs": [
    {
     "name": "stdout",
     "output_type": "stream",
     "text": [
      "(3, 573)\n"
     ]
    }
   ],
   "source": [
    "print (tfidf_matrix5.shape)"
   ]
  },
  {
   "cell_type": "code",
   "execution_count": 61,
   "metadata": {
    "collapsed": false
   },
   "outputs": [
    {
     "data": {
      "text/plain": [
       "array([[ 1.        ,  0.2278712 ,  0.18104144]])"
      ]
     },
     "execution_count": 61,
     "metadata": {},
     "output_type": "execute_result"
    }
   ],
   "source": [
    "cosine_similarity(tfidf_matrix5[0:1], tfidf_matrix5)"
   ]
  },
  {
   "cell_type": "markdown",
   "metadata": {},
   "source": [
    "From the cosine similarity the CV of 1st candidate - Laitesh is more close to JD than that of 2nd Candidate Hiral \n",
    "However in the data Lalitesh is rejected but because he is demanding higher CTC and not because of not holding relevent skillset. \n",
    "The rejection reason for this sample is outside of the JD & CV similarity ranking"
   ]
  },
  {
   "cell_type": "code",
   "execution_count": 160,
   "metadata": {
    "collapsed": false
   },
   "outputs": [],
   "source": [
    "# Read the sample Accept cv1 -JD\n",
    "Cv1text=document_to_text('CURRENT_042017_SethuramKishore Ch_Resume_514570f0-3c55-4382-96f1-65f9a73bf119_Sethuram9_0.doc','D:/D drive/DataAnalytics_StudyMaterial/IIMB-BDA/ProjectZ/Iteration2/IIM/CURRENT_042017_SethuramKishore Ch_Resume_514570f0-3c55-4382-96f1-65f9a73bf119_Sethuram9_0.doc')\n",
    "Cv2text=document_to_text('CURRENT_032017_DishantPatel_Resume_f88c74e3-8545-4156-a708-8d093885288e_DishantPatel6_0.docx','D:/D drive/DataAnalytics_StudyMaterial/IIMB-BDA/ProjectZ/Iteration2/IIM/CURRENT_032017_DishantPatel_Resume_f88c74e3-8545-4156-a708-8d093885288e_DishantPatel6_0.docx')\n",
    "Cv3text=document_to_text('CURRENT_032017_umashankar_Resume_77f65cee-4bce-4d83-9103-cc47c019eb96_umashankar11_0 (1).doc','D:/D drive/DataAnalytics_StudyMaterial/IIMB-BDA/ProjectZ/Iteration2/IIM/CURRENT_032017_umashankar_Resume_77f65cee-4bce-4d83-9103-cc47c019eb96_umashankar11_0 (1).doc')\n",
    "\n",
    "# Read Sample Rejectcv2 - JD\n",
    "#Cv3text=document_to_text('CURRENT_052017_HarikrishnaPalla_Resume_0b50617e-97f1-4b22-94c1-0fa51548daa2_harikrishnapalla5_0.doc','D:/D drive/DataAnalytics_StudyMaterial/IIMB-BDA/ProjectZ/Iteration2/IIM/CURRENT_052017_HarikrishnaPalla_Resume_0b50617e-97f1-4b22-94c1-0fa51548daa2_harikrishnapalla5_0.doc')\n",
    "Cv4text=document_to_text('Ganesh[5_0].doc','D:/D drive/DataAnalytics_StudyMaterial/IIMB-BDA/ProjectZ/Iteration2/IIM/Ganesh[5_0].doc')\n",
    "\n",
    "#Cv5text=document_to_text('CURRENT_052017_RagunathanAnnadurai_Resume_3a1aca2d-751e-45b8-8975-69a310116353_RagunathanAnnadurai3_6.docx','D:/D drive/DataAnalytics_StudyMaterial/IIMB-BDA/ProjectZ/Iteration2/IIM/CURRENT_052017_RagunathanAnnadurai_Resume_3a1aca2d-751e-45b8-8975-69a310116353_RagunathanAnnadurai3_6.docx')\n",
    "#Read sample JD5\n",
    "JdText=document_to_text('JD.docx','D:/D drive/DataAnalytics_StudyMaterial/IIMB-BDA/ProjectZ/Iteration2/TestingGrounds/JD.docx')\n",
    "\n"
   ]
  },
  {
   "cell_type": "code",
   "execution_count": 63,
   "metadata": {
    "collapsed": false
   },
   "outputs": [],
   "source": [
    "#documentsJD=(JdText,Cv1text,Cv2text,Cv3text,)\n",
    "documentsJD=(JdText,Cv1text,Cv2text,Cv3text,Cv4text)#,Cv5text)\n"
   ]
  },
  {
   "cell_type": "code",
   "execution_count": 69,
   "metadata": {
    "collapsed": false
   },
   "outputs": [],
   "source": [
    "#tfidf_vectorizer = TfidfVectorizer(stop_words='english', ngram_range=[2,2])\n",
    "tfidf_vectorizer = TfidfVectorizer( ngram_range=[2,2])\n",
    "# tfidf_vectorizer = TfidfVectorizer()\n",
    "tfidf_matrix5 = tfidf_vectorizer.fit_transform(documentsJD)"
   ]
  },
  {
   "cell_type": "code",
   "execution_count": 70,
   "metadata": {
    "collapsed": false
   },
   "outputs": [
    {
     "name": "stdout",
     "output_type": "stream",
     "text": [
      "(5, 3395)\n"
     ]
    }
   ],
   "source": [
    "print (tfidf_matrix5.shape)"
   ]
  },
  {
   "cell_type": "code",
   "execution_count": 71,
   "metadata": {
    "collapsed": false
   },
   "outputs": [
    {
     "data": {
      "text/plain": [
       "array([[ 1.        ,  0.026105  ,  0.00608045,  0.02179648,  0.02056105]])"
      ]
     },
     "execution_count": 71,
     "metadata": {},
     "output_type": "execute_result"
    }
   ],
   "source": [
    "cosine_similarity(tfidf_matrix5[0:1], tfidf_matrix5)"
   ]
  },
  {
   "cell_type": "code",
   "execution_count": 22,
   "metadata": {
    "collapsed": false
   },
   "outputs": [
    {
     "data": {
      "text/plain": [
       "1"
      ]
     },
     "execution_count": 22,
     "metadata": {},
     "output_type": "execute_result"
    }
   ],
   "source": [
    "fuzz.ratio(JdText,Cv3text)"
   ]
  },
  {
   "cell_type": "code",
   "execution_count": 17,
   "metadata": {
    "collapsed": false
   },
   "outputs": [
    {
     "data": {
      "text/plain": [
       "86"
      ]
     },
     "execution_count": 17,
     "metadata": {},
     "output_type": "execute_result"
    }
   ],
   "source": [
    "fuzz.WRatio(JdText,Cv4text)"
   ]
  },
  {
   "cell_type": "code",
   "execution_count": 23,
   "metadata": {
    "collapsed": false
   },
   "outputs": [
    {
     "data": {
      "text/plain": [
       "25"
      ]
     },
     "execution_count": 23,
     "metadata": {},
     "output_type": "execute_result"
    }
   ],
   "source": [
    "len(set(str(JdText).lower().split()).intersection(set(str(Cv1text).lower().split())))"
   ]
  },
  {
   "cell_type": "markdown",
   "metadata": {},
   "source": [
    "## Word2VecModels"
   ]
  },
  {
   "cell_type": "code",
   "execution_count": 10,
   "metadata": {
    "collapsed": true
   },
   "outputs": [],
   "source": [
    "model = gensim.models.KeyedVectors.load_word2vec_format('D:/D drive/DataAnalytics_StudyMaterial/IIMB-BDA/ProjectZ/Iteration2/TestingGrounds/GoogleNews-vectors-negative300.bin.gz', binary=True)"
   ]
  },
  {
   "cell_type": "code",
   "execution_count": 6,
   "metadata": {
    "collapsed": true
   },
   "outputs": [],
   "source": [
    "#model2=gensim.models.Word2Vec.load(\"D:/D drive/DataAnalytics_StudyMaterial/IIMB-BDA/ProjectZ/Iteration2/res2vecModITDomain4CBOW.w2v\")\n",
    "model2=gensim.models.Word2Vec.load(\"D:/D drive/DataAnalytics_StudyMaterial/IIMB-BDA/ProjectZ/Iteration2/res2vecModITDomain4SG.w2v\")"
   ]
  },
  {
   "cell_type": "code",
   "execution_count": 7,
   "metadata": {
    "collapsed": true
   },
   "outputs": [],
   "source": [
    "os.chdir('D:/D drive/DataAnalytics_StudyMaterial/IIMB-BDA/ProjectZ/Iteration2')"
   ]
  },
  {
   "cell_type": "code",
   "execution_count": 7,
   "metadata": {
    "collapsed": true
   },
   "outputs": [],
   "source": [
    "model3=gensim.models.Word2Vec.load(\"res2vecModCntntWriter2CBOW.w2v\")"
   ]
  },
  {
   "cell_type": "code",
   "execution_count": 8,
   "metadata": {
    "collapsed": false
   },
   "outputs": [],
   "source": [
    "def wmd(s1, s2):\n",
    "    s1 = str(s1).lower().split()\n",
    "    s2 = str(s2).lower().split()\n",
    "    stop_words = stopwords.words('english')\n",
    "    s1 = [w for w in s1 if w not in stop_words]\n",
    "    s2 = [w for w in s2 if w not in stop_words]\n",
    "    return model2.wmdistance(s1, s2)"
   ]
  },
  {
   "cell_type": "code",
   "execution_count": 10,
   "metadata": {
    "collapsed": true
   },
   "outputs": [],
   "source": [
    "from nltk.corpus import stopwords"
   ]
  },
  {
   "cell_type": "code",
   "execution_count": 9,
   "metadata": {
    "collapsed": true
   },
   "outputs": [],
   "source": [
    "import pandas as pd\n",
    "import numpy as np\n",
    "import glob"
   ]
  },
  {
   "cell_type": "code",
   "execution_count": 11,
   "metadata": {
    "collapsed": false
   },
   "outputs": [
    {
     "data": {
      "text/plain": [
       "'D:\\\\D drive\\\\DataAnalytics_StudyMaterial\\\\IIMB-BDA\\\\ProjectZ\\\\Iteration2\\\\Aujas'"
      ]
     },
     "execution_count": 11,
     "metadata": {},
     "output_type": "execute_result"
    }
   ],
   "source": [
    "os.getcwd()"
   ]
  },
  {
   "cell_type": "code",
   "execution_count": 48,
   "metadata": {
    "collapsed": true
   },
   "outputs": [],
   "source": [
    "os.chdir('D:\\\\D drive\\\\DataAnalytics_StudyMaterial\\\\IIMB-BDA\\\\ProjectZ\\\\Iteration2')"
   ]
  },
  {
   "cell_type": "code",
   "execution_count": 57,
   "metadata": {
    "collapsed": false
   },
   "outputs": [],
   "source": [
    "JDTxt=cleanStr(document_to_text('Job Description.docx',os.path.join('./TestingGrounds/','JD.docx')))"
   ]
  },
  {
   "cell_type": "code",
   "execution_count": 50,
   "metadata": {
    "collapsed": false
   },
   "outputs": [],
   "source": [
    "resume_filenames = sorted(glob.glob(os.path.join('./IIM/',\"*.*\")))"
   ]
  },
  {
   "cell_type": "code",
   "execution_count": 51,
   "metadata": {
    "collapsed": false
   },
   "outputs": [
    {
     "data": {
      "text/plain": [
       "['./IIM\\\\Abhi Kumar.docx',\n",
       " './IIM\\\\Al Gorithm.pdf',\n",
       " './IIM\\\\AmitBats[6_0].doc',\n",
       " './IIM\\\\BalakrishnaReddyS[4_6].docx',\n",
       " './IIM\\\\Bharath-Paturi-CV.pdf',\n",
       " './IIM\\\\CURRENT_022017_Santosh kumartoleti_Resume_f0fb3c53-c308-4f86-b335-b05ebd2cccc9_SantoshkumarToleti2_6.docx',\n",
       " './IIM\\\\CURRENT_032017_BhaktiSubhash Naik_Resume_cf61cd93-ff05-4fc4-85ec-42301b5456f5_BhaktiSubhashNaik4_9.doc',\n",
       " './IIM\\\\CURRENT_032017_Daljeet Singh DuggalDUGGAL_Resume_adb59f9d-a2e4-46b8-abdc-375b61107dc5_DaljeetSinghDuggal6_0.docx',\n",
       " './IIM\\\\CURRENT_032017_DishantPatel_Resume_f88c74e3-8545-4156-a708-8d093885288e_DishantPatel6_0.docx',\n",
       " './IIM\\\\CURRENT_032017_HIRALPARMAR_Resume_3e8d6f3d-2b01-4603-8a09-12a840772afc_hiral2_0.pdf',\n",
       " './IIM\\\\CURRENT_032017_SHALINISHALINI K_Resume_e49f1c7b-d151-44b9-9afe-b774a6852495_SHALINIK2_7.docx',\n",
       " './IIM\\\\CURRENT_032017_SandeeV S_Resume_2cd5e682-f1f0-4d95-9483-57a25f6965c0_SandeeVS4_3.doc',\n",
       " './IIM\\\\CURRENT_032017_SnehlataKumari_Resume_2224bb2b-a3f9-4083-9d5d-5b0a158be3fc_SnehlataKumari2_8.doc',\n",
       " './IIM\\\\CURRENT_032017_ravisankar_Resume_f243d558-3e41-4fa6-a67d-f324fb19b2d6_ravisankar4_5.doc',\n",
       " './IIM\\\\CURRENT_032017_umashankar_Resume_77f65cee-4bce-4d83-9103-cc47c019eb96_umashankar11_0 (1).doc',\n",
       " './IIM\\\\CURRENT_032017_yerramanenikoteswararao_Resume_560553c9-3c04-49c3-8702-a53b153ddb22_yerramanenikoteswararao5_2.docx',\n",
       " './IIM\\\\CURRENT_042017_KARANVIRSINGH_Resume_24452b3d-e135-415d-b99e-a7c8a40d8891_KaranvirSingh2_2.docx',\n",
       " './IIM\\\\CURRENT_042017_SAGARDEWAN_Resume_1161c5a0-f1f9-4c5e-a9d3-d79d1ebbc32d_SAGARDEWAN2_4.docx',\n",
       " './IIM\\\\CURRENT_042017_SethuramKishore Ch_Resume_514570f0-3c55-4382-96f1-65f9a73bf119_Sethuram9_0.doc',\n",
       " './IIM\\\\CURRENT_052017_ASHISHJAIN_Resume_02667350-11d5-471d-b3fd-a0c3d8c0d3e7_ASHISHJAIN2_6.docx',\n",
       " './IIM\\\\CURRENT_052017_DeepanjanGhosh_Resume_ccd2dad2-b2cd-4ae9-95e4-859c0896fa8e_DeepanjanGhosh3_4.docx',\n",
       " './IIM\\\\CURRENT_052017_DineshReddy_Resume_553992ad-15ce-45cb-844d-95afffa7ff4f_3_1.docx',\n",
       " './IIM\\\\CURRENT_052017_HarikrishnaPalla_Resume_0b50617e-97f1-4b22-94c1-0fa51548daa2_harikrishnapalla5_0.doc',\n",
       " './IIM\\\\CURRENT_052017_LaliteshUpadhyaya_Resume_9db2850b-a607-4a84-899d-1b0f9a0a8459_LaliteshUpadhyaya4_6.docx',\n",
       " './IIM\\\\CURRENT_052017_NISHTHASHRIVASTAVA_Resume_c162f248-0fd9-4c0c-97b0-c22782d9cba1_NISHTHASHRIVASTAVA2_1.docx',\n",
       " './IIM\\\\CURRENT_052017_PHANI TEJAYELLAPRAGADA VISAKHA_Resume_a72368b8-befc-4686-afdf-e2cf26735238_PhaniTeja3_5.docx',\n",
       " './IIM\\\\CURRENT_052017_RagunathanAnnadurai_Resume_3a1aca2d-751e-45b8-8975-69a310116353_RagunathanAnnadurai3_6.docx',\n",
       " './IIM\\\\CURRENT_052017_SAIKUMARKADA_Resume_a80bc2c6-71f8-4336-b4d9-7a8de2899966_KSaiKumar4_2.pdf',\n",
       " './IIM\\\\CURRENT_052017_SaradhiPoluru_Resume_96f4e1db-a0b4-4d86-b78a-15737964766e_Saradhi3_3.docx',\n",
       " './IIM\\\\CURRENT_052017_SaranSaran Kumar_Resume_3fa61230-f101-46b3-9cc4-b64192da89fd_SaranKumar4_0.doc',\n",
       " './IIM\\\\CURRENT_052017_Shaikh ShadmaWarsi_Resume_af9ac017-9ce8-4e1b-b6c9-73d21feb820d_ShaikhShadmaWarsi3_3.docx',\n",
       " './IIM\\\\CURRENT_052017_VIVEK KUMAR REDDYMUDUGANTI_Resume_f9d5afc7-1ddc-4702-9a6e-d6775cf9f68f_VivekReddy3_0.doc',\n",
       " './IIM\\\\CURRENT_052017_YeshasMandya Devaraju_Resume_3fbd57d9-cd9e-4d75-bfad-38f1c526b427_YeshasMD4_3.docx',\n",
       " './IIM\\\\CURRENT_052017_lakshmiprasad_Resume_1111a5b8-bac2-4e92-97f7-12ac4ea82ca4_lakshmiprasad4_0.doc',\n",
       " './IIM\\\\CURRENT_052017_usharani_Resume_651d8412-2f0a-4908-a641-2c802d432158_Usha3_2.docx',\n",
       " './IIM\\\\CURRENT_102016_PraphullaKumbhar_Resume_180a15b7-da2e-41d3-8238-28af8bd8000e_PraphullaKumbhar9_0.doc',\n",
       " './IIM\\\\CURRENT_122016_BhagyashriKulkarni_Resume_7255583c-6e60-475a-ada2-4e9e2e64e159_BhagyashriKulkarni4_1.doc',\n",
       " './IIM\\\\CURRENT_122016_ShikhaSelot_Resume_834060f4-f4c0-498b-9b20-f1da5911bb52_ShikhaSelot5_0.docx',\n",
       " './IIM\\\\Ganesh[5_0].doc',\n",
       " './IIM\\\\JOHN J. DOE.docx',\n",
       " './IIM\\\\John Paul.docx',\n",
       " './IIM\\\\Joy Charlotte.docx',\n",
       " './IIM\\\\MACK CROLANGUAGE.pdf',\n",
       " './IIM\\\\Mohit Patra.docx',\n",
       " './IIM\\\\Munish-Kaushik - 2017.docx',\n",
       " './IIM\\\\N Y Patil.docx',\n",
       " './IIM\\\\NagendraSwami[2_0].docx',\n",
       " './IIM\\\\PrasannaKumar.docx',\n",
       " './IIM\\\\Raj Malhotra.docx',\n",
       " './IIM\\\\RajashekharaiahM[4_0].docx',\n",
       " './IIM\\\\Rajesh[6_0].docx',\n",
       " './IIM\\\\RohitKhanna.docx',\n",
       " './IIM\\\\SARANJITH KRISHNAN.docx',\n",
       " './IIM\\\\SWETA[2_11].pdf',\n",
       " './IIM\\\\Sahib Singh.docx',\n",
       " './IIM\\\\Sam Vinay.docx',\n",
       " './IIM\\\\Shwetarathore[5_0].docx',\n",
       " './IIM\\\\Sumit Shastry.docx',\n",
       " './IIM\\\\Sundar Rajan.docx',\n",
       " './IIM\\\\Sunil Kumar Petluri1.pdf',\n",
       " './IIM\\\\VNPoornimaDeviS[4_7].docx',\n",
       " './IIM\\\\Venkatesh[4_1].doc',\n",
       " './IIM\\\\Victor Frankfurt.docx',\n",
       " './IIM\\\\kishorekumar.docx',\n",
       " './IIM\\\\punitSingh.docx',\n",
       " './IIM\\\\~$nkatesh[4_1].doc']"
      ]
     },
     "execution_count": 51,
     "metadata": {},
     "output_type": "execute_result"
    }
   ],
   "source": [
    "resume_filenames"
   ]
  },
  {
   "cell_type": "code",
   "execution_count": 52,
   "metadata": {
    "collapsed": true
   },
   "outputs": [],
   "source": [
    "ResFileArr=np.asarray(resume_filenames)"
   ]
  },
  {
   "cell_type": "code",
   "execution_count": 58,
   "metadata": {
    "collapsed": false
   },
   "outputs": [
    {
     "name": "stdout",
     "output_type": "stream",
     "text": [
      "0\n",
      "1\n",
      "2\n",
      "3\n",
      "4\n",
      "5\n",
      "6\n",
      "7\n",
      "8\n",
      "9\n",
      "10\n",
      "11\n",
      "12\n",
      "13\n",
      "14\n",
      "15\n",
      "16\n",
      "17\n",
      "18\n",
      "19\n",
      "20\n",
      "21\n",
      "22\n",
      "23\n",
      "24\n",
      "25\n",
      "26\n",
      "27\n",
      "28\n",
      "29\n",
      "30\n",
      "31\n",
      "32\n",
      "33\n",
      "34\n",
      "35\n",
      "36\n",
      "37\n",
      "38\n",
      "39\n",
      "40\n",
      "41\n",
      "42\n",
      "43\n",
      "44\n",
      "45\n",
      "46\n",
      "47\n",
      "48\n",
      "49\n",
      "50\n",
      "51\n",
      "52\n",
      "53\n",
      "54\n",
      "55\n",
      "56\n",
      "57\n",
      "58\n",
      "59\n",
      "60\n",
      "61\n",
      "62\n",
      "63\n",
      "64\n",
      "65\n",
      "Wall time: 4min 45s\n"
     ]
    }
   ],
   "source": [
    "%%time\n",
    "WMDScore=[]\n",
    "for dfRow in range(len(resume_filenames)):\n",
    "    print(dfRow)\n",
    "    Cvtxt=cleanStr(document_to_text(resume_filenames[dfRow],resume_filenames[dfRow]))\n",
    "    WMDScore.append(wmd(JDTxt,Cvtxt))\n",
    "    #CvRejtxt=cleanStr(document_to_text(JDCV_df.ix[dfRow][2],os.path.join('./IIM/',JDCV_df.ix[dfRow][2])))\n",
    "    #scoreSel.append(wmd(JdText,CvSeltxt))\n",
    "    #scoreRej.append(wmd(JdText,CvRejtxt))"
   ]
  },
  {
   "cell_type": "code",
   "execution_count": 59,
   "metadata": {
    "collapsed": false
   },
   "outputs": [],
   "source": [
    "WMDScoreArr=np.asarray(WMDScore)"
   ]
  },
  {
   "cell_type": "code",
   "execution_count": 60,
   "metadata": {
    "collapsed": false
   },
   "outputs": [],
   "source": [
    "CVJD = pd.DataFrame()\n",
    "CVJD['ResumeFile']=ResFileArr\n",
    "CVJD['WMDScore']=WMDScoreArr"
   ]
  },
  {
   "cell_type": "code",
   "execution_count": 61,
   "metadata": {
    "collapsed": false
   },
   "outputs": [
    {
     "name": "stderr",
     "output_type": "stream",
     "text": [
      "C:\\ProgramData\\Anaconda3\\lib\\site-packages\\ipykernel\\__main__.py:1: FutureWarning: sort(columns=....) is deprecated, use sort_values(by=.....)\n",
      "  if __name__ == '__main__':\n"
     ]
    }
   ],
   "source": [
    "CVJD.sort('WMDScore').to_csv('TestAllCV-TeraDataJDScore.csv')"
   ]
  },
  {
   "cell_type": "code",
   "execution_count": 11,
   "metadata": {
    "collapsed": false
   },
   "outputs": [],
   "source": [
    "JDCV_df = pd.read_csv('ResumeSelRejFileData.tsv',sep='\\t')"
   ]
  },
  {
   "cell_type": "code",
   "execution_count": 12,
   "metadata": {
    "collapsed": false
   },
   "outputs": [
    {
     "data": {
      "text/html": [
       "<div>\n",
       "<table border=\"1\" class=\"dataframe\">\n",
       "  <thead>\n",
       "    <tr style=\"text-align: right;\">\n",
       "      <th></th>\n",
       "      <th>JD</th>\n",
       "      <th>ResumeSelectedFile</th>\n",
       "      <th>ResumeRejected File</th>\n",
       "    </tr>\n",
       "  </thead>\n",
       "  <tbody>\n",
       "    <tr>\n",
       "      <th>0</th>\n",
       "      <td>Design, build and configure applications.Must ...</td>\n",
       "      <td>CURRENT_032017_SHALINISHALINI K_Resume_e49f1c7...</td>\n",
       "      <td>CURRENT_052017_usharani_Resume_651d8412-2f0a-4...</td>\n",
       "    </tr>\n",
       "    <tr>\n",
       "      <th>1</th>\n",
       "      <td>Role : Application Developer Role Description ...</td>\n",
       "      <td>CURRENT_032017_Daljeet Singh DuggalDUGGAL_Resu...</td>\n",
       "      <td>File_Not_Found</td>\n",
       "    </tr>\n",
       "    <tr>\n",
       "      <th>2</th>\n",
       "      <td>Role : Application Developer Role.Description ...</td>\n",
       "      <td>File_Not_Found</td>\n",
       "      <td>File_Not_Found</td>\n",
       "    </tr>\n",
       "    <tr>\n",
       "      <th>3</th>\n",
       "      <td>Role : Application Developer Role Description ...</td>\n",
       "      <td>CURRENT_042017_SAGARDEWAN_Resume_1161c5a0-f1f9...</td>\n",
       "      <td>CURRENT_042017_KARANVIRSINGH_Resume_24452b3d-e...</td>\n",
       "    </tr>\n",
       "    <tr>\n",
       "      <th>4</th>\n",
       "      <td>Role : Application Developer Role Description ...</td>\n",
       "      <td>CURRENT_032017_HIRALPARMAR_Resume_3e8d6f3d-2b0...</td>\n",
       "      <td>CURRENT_052017_LaliteshUpadhyaya_Resume_9db285...</td>\n",
       "    </tr>\n",
       "    <tr>\n",
       "      <th>5</th>\n",
       "      <td>Role : Application Developer Role Description ...</td>\n",
       "      <td>CURRENT_052017_NISHTHASHRIVASTAVA_Resume_c162f...</td>\n",
       "      <td>CURRENT_052017_ASHISHJAIN_Resume_02667350-11d5...</td>\n",
       "    </tr>\n",
       "    <tr>\n",
       "      <th>6</th>\n",
       "      <td>Role : Role Description :Role : Role Descripti...</td>\n",
       "      <td>CURRENT_052017_SaranSaran Kumar_Resume_3fa6123...</td>\n",
       "      <td>CURRENT_052017_DineshReddy_Resume_553992ad-15c...</td>\n",
       "    </tr>\n",
       "    <tr>\n",
       "      <th>7</th>\n",
       "      <td>Role: Application Developer.Role Description: ...</td>\n",
       "      <td>CURRENT_052017_SaradhiPoluru_Resume_96f4e1db-a...</td>\n",
       "      <td>CURRENT_052017_Shaikh ShadmaWarsi_Resume_af9ac...</td>\n",
       "    </tr>\n",
       "    <tr>\n",
       "      <th>8</th>\n",
       "      <td>Role: Application Developer. Role Description:...</td>\n",
       "      <td>CURRENT_052017_VIVEK KUMAR REDDYMUDUGANTI_Resu...</td>\n",
       "      <td>SWETA[2_11].pdf</td>\n",
       "    </tr>\n",
       "    <tr>\n",
       "      <th>9</th>\n",
       "      <td>Role: Application Developer.Role Description: ...</td>\n",
       "      <td>CURRENT_052017_SAIKUMARKADA_Resume_a80bc2c6-71...</td>\n",
       "      <td>RajashekharaiahM[4_0].docx</td>\n",
       "    </tr>\n",
       "    <tr>\n",
       "      <th>10</th>\n",
       "      <td>Role: Application Developer.Role Description: ...</td>\n",
       "      <td>CURRENT_052017_DeepanjanGhosh_Resume_ccd2dad2-...</td>\n",
       "      <td>Rajesh[6_0].docx</td>\n",
       "    </tr>\n",
       "    <tr>\n",
       "      <th>11</th>\n",
       "      <td>Role : Application Developer.Role Description:...</td>\n",
       "      <td>CURRENT_052017_PHANI TEJAYELLAPRAGADA VISAKHA_...</td>\n",
       "      <td>CURRENT_052017_lakshmiprasad_Resume_1111a5b8-b...</td>\n",
       "    </tr>\n",
       "    <tr>\n",
       "      <th>12</th>\n",
       "      <td>Role: Application Developer.Role Description: ...</td>\n",
       "      <td>CURRENT_052017_YeshasMandya Devaraju_Resume_3f...</td>\n",
       "      <td>Venkatesh[4_1].doc</td>\n",
       "    </tr>\n",
       "    <tr>\n",
       "      <th>13</th>\n",
       "      <td>Role: Application Developer.Role Description: ...</td>\n",
       "      <td>CURRENT_052017_HarikrishnaPalla_Resume_0b50617...</td>\n",
       "      <td>AmitBats[6_0].doc</td>\n",
       "    </tr>\n",
       "    <tr>\n",
       "      <th>14</th>\n",
       "      <td>Role: Application Developer.Role Description: ...</td>\n",
       "      <td>CURRENT_052017_RagunathanAnnadurai_Resume_3a1a...</td>\n",
       "      <td>File_Not_Found</td>\n",
       "    </tr>\n",
       "    <tr>\n",
       "      <th>15</th>\n",
       "      <td>Role : Application Developer  Role Description...</td>\n",
       "      <td>CURRENT_102016_PraphullaKumbhar_Resume_180a15b...</td>\n",
       "      <td>NagendraSwami[2_0].docx</td>\n",
       "    </tr>\n",
       "    <tr>\n",
       "      <th>16</th>\n",
       "      <td>Role : Application Developer  Role Description...</td>\n",
       "      <td>CURRENT_122016_BhagyashriKulkarni_Resume_72555...</td>\n",
       "      <td>File_Not_Found</td>\n",
       "    </tr>\n",
       "    <tr>\n",
       "      <th>17</th>\n",
       "      <td>Role : Application Developer  Role Description...</td>\n",
       "      <td>CURRENT_122016_ShikhaSelot_Resume_834060f4-f4c...</td>\n",
       "      <td>Shwetarathore[5_0].docx</td>\n",
       "    </tr>\n",
       "    <tr>\n",
       "      <th>18</th>\n",
       "      <td>Role : Tester  Role Description : Provide expe...</td>\n",
       "      <td>CURRENT_032017_ravisankar_Resume_f243d558-3e41...</td>\n",
       "      <td>File_Not_Found</td>\n",
       "    </tr>\n",
       "    <tr>\n",
       "      <th>19</th>\n",
       "      <td>Role : Application Developer  Role Description...</td>\n",
       "      <td>CURRENT_032017_SnehlataKumari_Resume_2224bb2b-...</td>\n",
       "      <td>BalakrishnaReddyS[4_6].docx</td>\n",
       "    </tr>\n",
       "    <tr>\n",
       "      <th>20</th>\n",
       "      <td>Role : Application Developer  Role Description...</td>\n",
       "      <td>CURRENT_032017_umashankar_Resume_77f65cee-4bce...</td>\n",
       "      <td>CURRENT_032017_SandeeV S_Resume_2cd5e682-f1f0-...</td>\n",
       "    </tr>\n",
       "    <tr>\n",
       "      <th>21</th>\n",
       "      <td>Role : User Experience Engineer  Role Descript...</td>\n",
       "      <td>CURRENT_042017_SethuramKishore Ch_Resume_51457...</td>\n",
       "      <td>CURRENT_032017_DishantPatel_Resume_f88c74e3-85...</td>\n",
       "    </tr>\n",
       "    <tr>\n",
       "      <th>22</th>\n",
       "      <td>Role : User Experience Engineer  Role Descript...</td>\n",
       "      <td>File_Not_Found</td>\n",
       "      <td>Ganesh[5_0].doc</td>\n",
       "    </tr>\n",
       "  </tbody>\n",
       "</table>\n",
       "</div>"
      ],
      "text/plain": [
       "                                                   JD  \\\n",
       "0   Design, build and configure applications.Must ...   \n",
       "1   Role : Application Developer Role Description ...   \n",
       "2   Role : Application Developer Role.Description ...   \n",
       "3   Role : Application Developer Role Description ...   \n",
       "4   Role : Application Developer Role Description ...   \n",
       "5   Role : Application Developer Role Description ...   \n",
       "6   Role : Role Description :Role : Role Descripti...   \n",
       "7   Role: Application Developer.Role Description: ...   \n",
       "8   Role: Application Developer. Role Description:...   \n",
       "9   Role: Application Developer.Role Description: ...   \n",
       "10  Role: Application Developer.Role Description: ...   \n",
       "11  Role : Application Developer.Role Description:...   \n",
       "12  Role: Application Developer.Role Description: ...   \n",
       "13  Role: Application Developer.Role Description: ...   \n",
       "14  Role: Application Developer.Role Description: ...   \n",
       "15  Role : Application Developer  Role Description...   \n",
       "16  Role : Application Developer  Role Description...   \n",
       "17  Role : Application Developer  Role Description...   \n",
       "18  Role : Tester  Role Description : Provide expe...   \n",
       "19  Role : Application Developer  Role Description...   \n",
       "20  Role : Application Developer  Role Description...   \n",
       "21  Role : User Experience Engineer  Role Descript...   \n",
       "22  Role : User Experience Engineer  Role Descript...   \n",
       "\n",
       "                                   ResumeSelectedFile  \\\n",
       "0   CURRENT_032017_SHALINISHALINI K_Resume_e49f1c7...   \n",
       "1   CURRENT_032017_Daljeet Singh DuggalDUGGAL_Resu...   \n",
       "2                                      File_Not_Found   \n",
       "3   CURRENT_042017_SAGARDEWAN_Resume_1161c5a0-f1f9...   \n",
       "4   CURRENT_032017_HIRALPARMAR_Resume_3e8d6f3d-2b0...   \n",
       "5   CURRENT_052017_NISHTHASHRIVASTAVA_Resume_c162f...   \n",
       "6   CURRENT_052017_SaranSaran Kumar_Resume_3fa6123...   \n",
       "7   CURRENT_052017_SaradhiPoluru_Resume_96f4e1db-a...   \n",
       "8   CURRENT_052017_VIVEK KUMAR REDDYMUDUGANTI_Resu...   \n",
       "9   CURRENT_052017_SAIKUMARKADA_Resume_a80bc2c6-71...   \n",
       "10  CURRENT_052017_DeepanjanGhosh_Resume_ccd2dad2-...   \n",
       "11  CURRENT_052017_PHANI TEJAYELLAPRAGADA VISAKHA_...   \n",
       "12  CURRENT_052017_YeshasMandya Devaraju_Resume_3f...   \n",
       "13  CURRENT_052017_HarikrishnaPalla_Resume_0b50617...   \n",
       "14  CURRENT_052017_RagunathanAnnadurai_Resume_3a1a...   \n",
       "15  CURRENT_102016_PraphullaKumbhar_Resume_180a15b...   \n",
       "16  CURRENT_122016_BhagyashriKulkarni_Resume_72555...   \n",
       "17  CURRENT_122016_ShikhaSelot_Resume_834060f4-f4c...   \n",
       "18  CURRENT_032017_ravisankar_Resume_f243d558-3e41...   \n",
       "19  CURRENT_032017_SnehlataKumari_Resume_2224bb2b-...   \n",
       "20  CURRENT_032017_umashankar_Resume_77f65cee-4bce...   \n",
       "21  CURRENT_042017_SethuramKishore Ch_Resume_51457...   \n",
       "22                                     File_Not_Found   \n",
       "\n",
       "                                  ResumeRejected File  \n",
       "0   CURRENT_052017_usharani_Resume_651d8412-2f0a-4...  \n",
       "1                                      File_Not_Found  \n",
       "2                                      File_Not_Found  \n",
       "3   CURRENT_042017_KARANVIRSINGH_Resume_24452b3d-e...  \n",
       "4   CURRENT_052017_LaliteshUpadhyaya_Resume_9db285...  \n",
       "5   CURRENT_052017_ASHISHJAIN_Resume_02667350-11d5...  \n",
       "6   CURRENT_052017_DineshReddy_Resume_553992ad-15c...  \n",
       "7   CURRENT_052017_Shaikh ShadmaWarsi_Resume_af9ac...  \n",
       "8                                     SWETA[2_11].pdf  \n",
       "9                          RajashekharaiahM[4_0].docx  \n",
       "10                                   Rajesh[6_0].docx  \n",
       "11  CURRENT_052017_lakshmiprasad_Resume_1111a5b8-b...  \n",
       "12                                 Venkatesh[4_1].doc  \n",
       "13                                  AmitBats[6_0].doc  \n",
       "14                                     File_Not_Found  \n",
       "15                            NagendraSwami[2_0].docx  \n",
       "16                                     File_Not_Found  \n",
       "17                            Shwetarathore[5_0].docx  \n",
       "18                                     File_Not_Found  \n",
       "19                        BalakrishnaReddyS[4_6].docx  \n",
       "20  CURRENT_032017_SandeeV S_Resume_2cd5e682-f1f0-...  \n",
       "21  CURRENT_032017_DishantPatel_Resume_f88c74e3-85...  \n",
       "22                                    Ganesh[5_0].doc  "
      ]
     },
     "execution_count": 12,
     "metadata": {},
     "output_type": "execute_result"
    }
   ],
   "source": [
    "JDCV_df"
   ]
  },
  {
   "cell_type": "code",
   "execution_count": 15,
   "metadata": {
    "collapsed": false
   },
   "outputs": [
    {
     "name": "stdout",
     "output_type": "stream",
     "text": [
      "0\n",
      "1\n",
      "2\n",
      "3\n",
      "4\n",
      "5\n",
      "6\n",
      "7\n",
      "8\n",
      "9\n",
      "10\n",
      "11\n",
      "12\n",
      "13\n",
      "14\n",
      "15\n",
      "16\n",
      "17\n",
      "18\n",
      "19\n",
      "20\n",
      "21\n",
      "22\n",
      "Wall time: 32.8 s\n"
     ]
    }
   ],
   "source": [
    "%%time\n",
    "scoreSel=[]\n",
    "scoreRej=[]\n",
    "for dfRow in range(len(JDCV_df)):\n",
    "    print(dfRow)\n",
    "    if (dfRow==6):\n",
    "        scoreSel.append(np.NaN)\n",
    "        scoreRej.append(np.NaN)\n",
    "    else:        \n",
    "        JdText=JDCV_df.ix[dfRow][0]\n",
    "        CvSeltxt=cleanStr(document_to_text(JDCV_df.ix[dfRow][1],os.path.join('./IIM/',JDCV_df.ix[dfRow][1])))\n",
    "        CvRejtxt=cleanStr(document_to_text(JDCV_df.ix[dfRow][2],os.path.join('./IIM/',JDCV_df.ix[dfRow][2])))\n",
    "        scoreSel.append(wmd(JdText,CvSeltxt))\n",
    "        scoreRej.append(wmd(JdText,CvRejtxt))\n",
    "    \n",
    "    "
   ]
  },
  {
   "cell_type": "code",
   "execution_count": 179,
   "metadata": {
    "collapsed": false
   },
   "outputs": [],
   "source": [
    "dfRow=22\n",
    "JdText=JDCV_df.ix[dfRow][0]\n",
    "CvSeltxt=cleanStr(document_to_text(JDCV_df.ix[dfRow][1],os.path.join('./IIM/',JDCV_df.ix[dfRow][1])))\n",
    "CvRejtxt=cleanStr(document_to_text(JDCV_df.ix[dfRow][2],os.path.join('./IIM/',JDCV_df.ix[dfRow][2])))\n",
    "scoreSel.append(wmd(JdText,CvSeltxt))\n",
    "scoreRej.append(wmd(JdText,CvRejtxt))"
   ]
  },
  {
   "cell_type": "code",
   "execution_count": 14,
   "metadata": {
    "collapsed": false
   },
   "outputs": [],
   "source": [
    "scoreSel.append(np.NaN)\n",
    "scoreRej.append(np.NaN)"
   ]
  },
  {
   "cell_type": "code",
   "execution_count": 16,
   "metadata": {
    "collapsed": false
   },
   "outputs": [],
   "source": [
    "ScrSelArr=np.asarray(scoreSel)\n",
    "ScrRejArr=np.asanyarray(scoreRej)"
   ]
  },
  {
   "cell_type": "code",
   "execution_count": 17,
   "metadata": {
    "collapsed": false
   },
   "outputs": [],
   "source": [
    "JDCV_df['ScoreSel']=ScrSelArr\n",
    "JDCV_df['ScoreRej']=ScrRejArr"
   ]
  },
  {
   "cell_type": "code",
   "execution_count": 18,
   "metadata": {
    "collapsed": false
   },
   "outputs": [],
   "source": [
    "JDCV_df.to_csv(\"Word2VecITDomainScore_SG1.csv\")"
   ]
  },
  {
   "cell_type": "code",
   "execution_count": 207,
   "metadata": {
    "collapsed": true
   },
   "outputs": [],
   "source": [
    "JdText='Role : Tester  Role Description : Provide expertise in the planning, constructing and execution of test scripts. Apply business and functional knowledge including testing standards, guidelines, and testing methodology to meet the teams overall test objectives. Ensure all testing results are easily accessible and understandable. Track defects to closure and keep defect repository up-to-date.  Must have Skills : TOSCA Testsuite  Good to Have Skills :  Test Automation  Job Description Additional Comments :'"
   ]
  },
  {
   "cell_type": "code",
   "execution_count": 208,
   "metadata": {
    "collapsed": true
   },
   "outputs": [],
   "source": [
    "Cv1text=cleanStr(document_to_text('CURRENT_122016_ShikhaSelot_Resume_834060f4-f4c0-498b-9b20-f1da5911bb52_ShikhaSelot5_0.docx',os.path.join('./IIM/','CURRENT_122016_ShikhaSelot_Resume_834060f4-f4c0-498b-9b20-f1da5911bb52_ShikhaSelot5_0.docx')))"
   ]
  },
  {
   "cell_type": "code",
   "execution_count": 209,
   "metadata": {
    "collapsed": false
   },
   "outputs": [
    {
     "data": {
      "text/plain": [
       "0.20460103679273195"
      ]
     },
     "execution_count": 209,
     "metadata": {},
     "output_type": "execute_result"
    }
   ],
   "source": [
    "wmd(JdText,Cv1text)"
   ]
  },
  {
   "cell_type": "code",
   "execution_count": 145,
   "metadata": {
    "collapsed": false
   },
   "outputs": [
    {
     "data": {
      "text/plain": [
       "inf"
      ]
     },
     "execution_count": 145,
     "metadata": {},
     "output_type": "execute_result"
    }
   ],
   "source": [
    "wmd(\"I love India\",\"Indu\")"
   ]
  },
  {
   "cell_type": "code",
   "execution_count": 163,
   "metadata": {
    "collapsed": false
   },
   "outputs": [
    {
     "data": {
      "text/plain": [
       "0.7996079282793358"
      ]
     },
     "execution_count": 163,
     "metadata": {},
     "output_type": "execute_result"
    }
   ],
   "source": [
    "wmd(JdText,Cv3text)"
   ]
  },
  {
   "cell_type": "code",
   "execution_count": 164,
   "metadata": {
    "collapsed": false
   },
   "outputs": [
    {
     "data": {
      "text/plain": [
       "0.8738800347081267"
      ]
     },
     "execution_count": 164,
     "metadata": {},
     "output_type": "execute_result"
    }
   ],
   "source": [
    "wmd(JdText,Cv4text)"
   ]
  },
  {
   "cell_type": "code",
   "execution_count": 123,
   "metadata": {
    "collapsed": false
   },
   "outputs": [
    {
     "data": {
      "text/plain": [
       "1.8100193399270326"
      ]
     },
     "execution_count": 123,
     "metadata": {},
     "output_type": "execute_result"
    }
   ],
   "source": [
    "wmd(JdText,Cv5text)"
   ]
  },
  {
   "cell_type": "code",
   "execution_count": 89,
   "metadata": {
    "collapsed": false
   },
   "outputs": [
    {
     "data": {
      "text/plain": [
       "2.943863868713379"
      ]
     },
     "execution_count": 89,
     "metadata": {},
     "output_type": "execute_result"
    }
   ],
   "source": [
    "wmd(\"\", \"\")"
   ]
  },
  {
   "cell_type": "code",
   "execution_count": 90,
   "metadata": {
    "collapsed": true
   },
   "outputs": [],
   "source": [
    "import glob"
   ]
  },
  {
   "cell_type": "code",
   "execution_count": 92,
   "metadata": {
    "collapsed": false
   },
   "outputs": [],
   "source": [
    "import codecs"
   ]
  },
  {
   "cell_type": "code",
   "execution_count": null,
   "metadata": {
    "collapsed": true
   },
   "outputs": [],
   "source": []
  }
 ],
 "metadata": {
  "kernelspec": {
   "display_name": "Python 3",
   "language": "python",
   "name": "python3"
  },
  "language_info": {
   "codemirror_mode": {
    "name": "ipython",
    "version": 3
   },
   "file_extension": ".py",
   "mimetype": "text/x-python",
   "name": "python",
   "nbconvert_exporter": "python",
   "pygments_lexer": "ipython3",
   "version": "3.6.0"
  }
 },
 "nbformat": 4,
 "nbformat_minor": 2
}
