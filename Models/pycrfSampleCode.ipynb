{
 "cells": [
  {
   "cell_type": "code",
   "execution_count": 1,
   "metadata": {
    "collapsed": false
   },
   "outputs": [
    {
     "name": "stdout",
     "output_type": "stream",
     "text": [
      "0.18.1\n"
     ]
    }
   ],
   "source": [
    "from itertools import chain\n",
    "import nltk\n",
    "from sklearn.metrics import classification_report, confusion_matrix\n",
    "from sklearn.preprocessing import LabelBinarizer\n",
    "import sklearn\n",
    "import pycrfsuite\n",
    "\n",
    "print(sklearn.__version__)"
   ]
  },
  {
   "cell_type": "code",
   "execution_count": 2,
   "metadata": {
    "collapsed": false
   },
   "outputs": [],
   "source": [
    "def load_file(filename):\n",
    "    fp = open(filename, encoding='utf8')#,'Ur')\n",
    "    data_list = []\n",
    "    sent=[]\n",
    "    x=0\n",
    "    for line in fp:\n",
    "        if (line.strip()=='.\\t.\\tO'):\n",
    "            sent.append(tuple(line.strip().split('\\t')))\n",
    "            data_list.append(sent)\n",
    "            sent=[]\n",
    "        else:\n",
    "            if(line.strip()==''):\n",
    "                x=1\n",
    "            else:\n",
    "                sent.append(tuple(line.strip().split('\\t')))\n",
    "    fp.close()\n",
    "    return data_list\n",
    "\n",
    "        #print (line)\n",
    "        #data_list.append(tuple(line.strip().split(',')))"
   ]
  },
  {
   "cell_type": "code",
   "execution_count": 3,
   "metadata": {
    "collapsed": false
   },
   "outputs": [],
   "source": [
    "#train_sent_smpl=load_file(\"D:/D drive/DataAnalytics_StudyMaterial/IIMB-BDA/ProjectZ/Iteration2/Train1Sample.csv\")\n",
    "#train_sent_smpl=load_file(\"D:/D drive/DataAnalytics_StudyMaterial/IIMB-BDA/ProjectZ/Iteration2/TrainData.csv\")\n",
    "train_sent_smpl=load_file(\"D:/D drive/DataAnalytics_StudyMaterial/IIMB-BDA/ProjectZ/Iteration3/TrainData.csv\")"
   ]
  },
  {
   "cell_type": "code",
   "execution_count": 4,
   "metadata": {
    "collapsed": false
   },
   "outputs": [],
   "source": [
    "#test_sent_sampl=load_file(\"D:/D drive/DataAnalytics_StudyMaterial/IIMB-BDA/ProjectZ/Iteration2/Test1Sample.csv\")\n",
    "#test_sent_sampl=load_file(\"D:/D drive/DataAnalytics_StudyMaterial/IIMB-BDA/ProjectZ/Iteration2/TestData.csv\")\n",
    "test_sent_sampl=load_file(\"D:/D drive/DataAnalytics_StudyMaterial/IIMB-BDA/ProjectZ/Iteration3/TestData.csv\")"
   ]
  },
  {
   "cell_type": "code",
   "execution_count": 6,
   "metadata": {
    "collapsed": false
   },
   "outputs": [
    {
     "data": {
      "text/plain": [
       "['train.txt', 'test.txt']"
      ]
     },
     "execution_count": 6,
     "metadata": {},
     "output_type": "execute_result"
    }
   ],
   "source": [
    "#nltk.corpus.conll2000.fileids()"
   ]
  },
  {
   "cell_type": "code",
   "execution_count": 7,
   "metadata": {
    "collapsed": false
   },
   "outputs": [
    {
     "name": "stdout",
     "output_type": "stream",
     "text": [
      "Wall time: 4.06 s\n"
     ]
    }
   ],
   "source": [
    "%%time\n",
    "#train_sents = list(nltk.corpus.conll2000.iob_sents('train.txt'))\n",
    "#test_sents = list(nltk.corpus.conll2000.iob_sents('test.txt'))"
   ]
  },
  {
   "cell_type": "code",
   "execution_count": 13,
   "metadata": {
    "collapsed": false
   },
   "outputs": [
    {
     "data": {
      "text/plain": [
       "[('Hands', 'NNS', 'O'),\n",
       " ('on', 'IN', 'O'),\n",
       " ('experience', 'NN', 'WRKEX'),\n",
       " ('in', 'IN', 'O'),\n",
       " ('Java', 'NNP', 'SKILL'),\n",
       " ('and', 'CC', 'O'),\n",
       " ('J2EE', 'NNP', 'SKILL'),\n",
       " ('(JDBC', 'NNP', 'SKILL'),\n",
       " ('Servlet', 'NNP', 'SKILL'),\n",
       " ('JSP).', 'NNP', 'SKILL'),\n",
       " ('.', '.', 'O')]"
      ]
     },
     "execution_count": 13,
     "metadata": {},
     "output_type": "execute_result"
    }
   ],
   "source": [
    "train_sent_smpl[1]\n"
   ]
  },
  {
   "cell_type": "code",
   "execution_count": 36,
   "metadata": {
    "collapsed": true
   },
   "outputs": [],
   "source": [
    "def word2features(sent, i):\n",
    "    word = sent[i][0]\n",
    "    postag = sent[i][1]\n",
    "    features = [\n",
    "        'bias',\n",
    "        'word.lower=' + word.lower(),\n",
    "        'word[-3:]=' + word[-3:],\n",
    "        'word[-2:]=' + word[-2:],\n",
    "        'word.isupper=%s' % word.isupper(),\n",
    "        #'word.istitle=%s' % word.istitle(),\n",
    "        'word.isdigit=%s' % word.isdigit(),\n",
    "        'postag=' + postag,\n",
    "        'postag[:2]=' + postag[:2],\n",
    "    ]\n",
    "    if i > 0:\n",
    "        word1 = sent[i-1][0]\n",
    "        postag1 = sent[i-1][1]\n",
    "        features.extend([\n",
    "            '-1:word.lower=' + word1.lower(),\n",
    "            #'-1:word.istitle=%s' % word1.istitle(),\n",
    "            '-1:word.isupper=%s' % word1.isupper(),\n",
    "            '-1:postag=' + postag1,\n",
    "            '-1:postag[:2]=' + postag1[:2],\n",
    "        ])\n",
    "    else:\n",
    "        features.append('BOS')\n",
    "        \n",
    "    if i < len(sent)-1:\n",
    "        word1 = sent[i+1][0]\n",
    "        postag1 = sent[i+1][1]\n",
    "        features.extend([\n",
    "            '+1:word.lower=' + word1.lower(),\n",
    "            #'+1:word.istitle=%s' % word1.istitle(),\n",
    "            '+1:word.isupper=%s' % word1.isupper(),\n",
    "            '+1:postag=' + postag1,\n",
    "            '+1:postag[:2]=' + postag1[:2],\n",
    "        ])\n",
    "    else:\n",
    "        features.append('EOS')\n",
    "                \n",
    "    return features\n",
    "\n",
    "\n",
    "def sent2features(sent):\n",
    "    return [word2features(sent, i) for i in range(len(sent))]\n",
    "\n",
    "def sent2labels(sent):\n",
    "    return [label for token, postag, label in sent]\n",
    "\n",
    "def sent2tokens(sent):\n",
    "    return [token for token, postag, label in sent]"
   ]
  },
  {
   "cell_type": "code",
   "execution_count": 49,
   "metadata": {
    "collapsed": false
   },
   "outputs": [
    {
     "name": "stdout",
     "output_type": "stream",
     "text": [
      "[['bias', 'word.lower=hands', 'word[-3:]=nds', 'word[-2:]=ds', 'word.isupper=False', 'word.isdigit=False', 'postag=NNS', 'postag[:2]=NN', 'BOS', '+1:word.lower=on', '+1:word.isupper=False', '+1:postag=IN', '+1:postag[:2]=IN'], ['bias', 'word.lower=on', 'word[-3:]=on', 'word[-2:]=on', 'word.isupper=False', 'word.isdigit=False', 'postag=IN', 'postag[:2]=IN', '-1:word.lower=hands', '-1:word.isupper=False', '-1:postag=NNS', '-1:postag[:2]=NN', '+1:word.lower=experience', '+1:word.isupper=False', '+1:postag=NN', '+1:postag[:2]=NN'], ['bias', 'word.lower=experience', 'word[-3:]=nce', 'word[-2:]=ce', 'word.isupper=False', 'word.isdigit=False', 'postag=NN', 'postag[:2]=NN', '-1:word.lower=on', '-1:word.isupper=False', '-1:postag=IN', '-1:postag[:2]=IN', '+1:word.lower=in', '+1:word.isupper=False', '+1:postag=IN', '+1:postag[:2]=IN'], ['bias', 'word.lower=in', 'word[-3:]=in', 'word[-2:]=in', 'word.isupper=False', 'word.isdigit=False', 'postag=IN', 'postag[:2]=IN', '-1:word.lower=experience', '-1:word.isupper=False', '-1:postag=NN', '-1:postag[:2]=NN', '+1:word.lower=java', '+1:word.isupper=False', '+1:postag=NNP', '+1:postag[:2]=NN'], ['bias', 'word.lower=java', 'word[-3:]=ava', 'word[-2:]=va', 'word.isupper=False', 'word.isdigit=False', 'postag=NNP', 'postag[:2]=NN', '-1:word.lower=in', '-1:word.isupper=False', '-1:postag=IN', '-1:postag[:2]=IN', '+1:word.lower=and', '+1:word.isupper=False', '+1:postag=CC', '+1:postag[:2]=CC'], ['bias', 'word.lower=and', 'word[-3:]=and', 'word[-2:]=nd', 'word.isupper=False', 'word.isdigit=False', 'postag=CC', 'postag[:2]=CC', '-1:word.lower=java', '-1:word.isupper=False', '-1:postag=NNP', '-1:postag[:2]=NN', '+1:word.lower=j2ee', '+1:word.isupper=True', '+1:postag=NNP', '+1:postag[:2]=NN'], ['bias', 'word.lower=j2ee', 'word[-3:]=2EE', 'word[-2:]=EE', 'word.isupper=True', 'word.isdigit=False', 'postag=NNP', 'postag[:2]=NN', '-1:word.lower=and', '-1:word.isupper=False', '-1:postag=CC', '-1:postag[:2]=CC', '+1:word.lower=(jdbc', '+1:word.isupper=True', '+1:postag=NNP', '+1:postag[:2]=NN'], ['bias', 'word.lower=(jdbc', 'word[-3:]=DBC', 'word[-2:]=BC', 'word.isupper=True', 'word.isdigit=False', 'postag=NNP', 'postag[:2]=NN', '-1:word.lower=j2ee', '-1:word.isupper=True', '-1:postag=NNP', '-1:postag[:2]=NN', '+1:word.lower=servlet', '+1:word.isupper=False', '+1:postag=NNP', '+1:postag[:2]=NN'], ['bias', 'word.lower=servlet', 'word[-3:]=let', 'word[-2:]=et', 'word.isupper=False', 'word.isdigit=False', 'postag=NNP', 'postag[:2]=NN', '-1:word.lower=(jdbc', '-1:word.isupper=True', '-1:postag=NNP', '-1:postag[:2]=NN', '+1:word.lower=jsp).', '+1:word.isupper=True', '+1:postag=NNP', '+1:postag[:2]=NN'], ['bias', 'word.lower=jsp).', 'word[-3:]=P).', 'word[-2:]=).', 'word.isupper=True', 'word.isdigit=False', 'postag=NNP', 'postag[:2]=NN', '-1:word.lower=servlet', '-1:word.isupper=False', '-1:postag=NNP', '-1:postag[:2]=NN', '+1:word.lower=.', '+1:word.isupper=False', '+1:postag=.', '+1:postag[:2]=.'], ['bias', 'word.lower=.', 'word[-3:]=.', 'word[-2:]=.', 'word.isupper=False', 'word.isdigit=False', 'postag=.', 'postag[:2]=.', '-1:word.lower=jsp).', '-1:word.isupper=True', '-1:postag=NNP', '-1:postag[:2]=NN', 'EOS']]\n"
     ]
    }
   ],
   "source": [
    "x=sent2features(train_sent_smpl[1])\n",
    "print(x)"
   ]
  },
  {
   "cell_type": "code",
   "execution_count": 6,
   "metadata": {
    "collapsed": false
   },
   "outputs": [
    {
     "data": {
      "text/plain": [
       "2398"
      ]
     },
     "execution_count": 6,
     "metadata": {},
     "output_type": "execute_result"
    }
   ],
   "source": [
    "len(train_sent_smpl)"
   ]
  },
  {
   "cell_type": "code",
   "execution_count": 7,
   "metadata": {
    "collapsed": false
   },
   "outputs": [
    {
     "data": {
      "text/plain": [
       "191"
      ]
     },
     "execution_count": 7,
     "metadata": {},
     "output_type": "execute_result"
    }
   ],
   "source": [
    "len(test_sent_sampl)"
   ]
  },
  {
   "cell_type": "code",
   "execution_count": 37,
   "metadata": {
    "collapsed": false
   },
   "outputs": [
    {
     "name": "stdout",
     "output_type": "stream",
     "text": [
      "Wall time: 444 ms\n"
     ]
    }
   ],
   "source": [
    "%%time\n",
    "X_train = [sent2features(s) for s in train_sent_smpl]\n",
    "y_train = [sent2labels(s) for s in train_sent_smpl]\n",
    "\n",
    "X_test = [sent2features(s) for s in test_sent_sampl]\n",
    "y_test = [sent2labels(s) for s in test_sent_sampl]"
   ]
  },
  {
   "cell_type": "code",
   "execution_count": 38,
   "metadata": {
    "collapsed": false
   },
   "outputs": [
    {
     "name": "stdout",
     "output_type": "stream",
     "text": [
      "Wall time: 858 ms\n"
     ]
    }
   ],
   "source": [
    "%%time\n",
    "trainer = pycrfsuite.Trainer(verbose=False)\n",
    "\n",
    "for xseq, yseq in zip(X_train, y_train):\n",
    "    trainer.append(xseq, yseq)"
   ]
  },
  {
   "cell_type": "code",
   "execution_count": 39,
   "metadata": {
    "collapsed": true
   },
   "outputs": [],
   "source": [
    "trainer.set_params({\n",
    "    'c1': 1.0,   # coefficient for L1 penalty\n",
    "    'c2': 1e-3,  # coefficient for L2 penalty\n",
    "    'max_iterations': 300,  # stop earlier\n",
    "\n",
    "    # include transitions that are possible, but not observed\n",
    "    'feature.possible_transitions': True\n",
    "})"
   ]
  },
  {
   "cell_type": "code",
   "execution_count": 40,
   "metadata": {
    "collapsed": false
   },
   "outputs": [
    {
     "data": {
      "text/plain": [
       "['feature.minfreq',\n",
       " 'feature.possible_states',\n",
       " 'feature.possible_transitions',\n",
       " 'c1',\n",
       " 'c2',\n",
       " 'max_iterations',\n",
       " 'num_memories',\n",
       " 'epsilon',\n",
       " 'period',\n",
       " 'delta',\n",
       " 'linesearch',\n",
       " 'max_linesearch']"
      ]
     },
     "execution_count": 40,
     "metadata": {},
     "output_type": "execute_result"
    }
   ],
   "source": [
    "trainer.params()"
   ]
  },
  {
   "cell_type": "code",
   "execution_count": 12,
   "metadata": {
    "collapsed": true
   },
   "outputs": [],
   "source": [
    "import os"
   ]
  },
  {
   "cell_type": "code",
   "execution_count": 13,
   "metadata": {
    "collapsed": false
   },
   "outputs": [
    {
     "data": {
      "text/plain": [
       "'C:\\\\Users\\\\Shashank Shekar'"
      ]
     },
     "execution_count": 13,
     "metadata": {},
     "output_type": "execute_result"
    }
   ],
   "source": [
    "os.getcwd()"
   ]
  },
  {
   "cell_type": "code",
   "execution_count": 14,
   "metadata": {
    "collapsed": true
   },
   "outputs": [],
   "source": [
    "os.chdir(\"D:/D drive/DataAnalytics_StudyMaterial/IIMB-BDA/ProjectZ/Iteration3\")"
   ]
  },
  {
   "cell_type": "code",
   "execution_count": 41,
   "metadata": {
    "collapsed": false
   },
   "outputs": [
    {
     "name": "stdout",
     "output_type": "stream",
     "text": [
      "Wall time: 24.4 s\n"
     ]
    }
   ],
   "source": [
    "%%time\n",
    "#trainer.train('conll2002-esp.crfsuite')\n",
    "trainer.train('TotalCV5.crfsuite')"
   ]
  },
  {
   "cell_type": "code",
   "execution_count": 42,
   "metadata": {
    "collapsed": false
   },
   "outputs": [
    {
     "data": {
      "text/plain": [
       "{'active_features': 3891,\n",
       " 'error_norm': 74.131236,\n",
       " 'feature_norm': 70.94096,\n",
       " 'linesearch_step': 1.0,\n",
       " 'linesearch_trials': 1,\n",
       " 'loss': 10124.279483,\n",
       " 'num': 300,\n",
       " 'scores': {},\n",
       " 'time': 0.08}"
      ]
     },
     "execution_count": 42,
     "metadata": {},
     "output_type": "execute_result"
    }
   ],
   "source": [
    "trainer.logparser.last_iteration"
   ]
  },
  {
   "cell_type": "code",
   "execution_count": 29,
   "metadata": {
    "collapsed": false
   },
   "outputs": [
    {
     "data": {
      "text/plain": [
       "{'active_features': 3037,\n",
       " 'error_norm': 54.124337,\n",
       " 'feature_norm': 79.539067,\n",
       " 'linesearch_step': 0.5,\n",
       " 'linesearch_trials': 2,\n",
       " 'loss': 10747.827798,\n",
       " 'num': 919,\n",
       " 'scores': {},\n",
       " 'time': 0.144}"
      ]
     },
     "execution_count": 29,
     "metadata": {},
     "output_type": "execute_result"
    }
   ],
   "source": [
    "trainer.logparser.last_iteration"
   ]
  },
  {
   "cell_type": "code",
   "execution_count": 16,
   "metadata": {
    "collapsed": false
   },
   "outputs": [
    {
     "data": {
      "text/plain": [
       "{'active_features': 3738,\n",
       " 'error_norm': 73.534805,\n",
       " 'feature_norm': 71.145594,\n",
       " 'linesearch_step': 0.5,\n",
       " 'linesearch_trials': 2,\n",
       " 'loss': 10079.875607,\n",
       " 'num': 500,\n",
       " 'scores': {},\n",
       " 'time': 0.18}"
      ]
     },
     "execution_count": 16,
     "metadata": {},
     "output_type": "execute_result"
    }
   ],
   "source": [
    "trainer.logparser.last_iteration"
   ]
  },
  {
   "cell_type": "code",
   "execution_count": 43,
   "metadata": {
    "collapsed": false
   },
   "outputs": [
    {
     "name": "stdout",
     "output_type": "stream",
     "text": [
      "300 {'num': 300, 'scores': {}, 'loss': 10124.279483, 'feature_norm': 70.94096, 'error_norm': 74.131236, 'active_features': 3891, 'linesearch_trials': 1, 'linesearch_step': 1.0, 'time': 0.08}\n"
     ]
    }
   ],
   "source": [
    "print (len(trainer.logparser.iterations), trainer.logparser.iterations[-1])"
   ]
  },
  {
   "cell_type": "code",
   "execution_count": 44,
   "metadata": {
    "collapsed": false
   },
   "outputs": [
    {
     "data": {
      "text/plain": [
       "<contextlib.closing at 0xd25777c630>"
      ]
     },
     "execution_count": 44,
     "metadata": {},
     "output_type": "execute_result"
    }
   ],
   "source": [
    "tagger = pycrfsuite.Tagger()\n",
    "tagger.open('TotalCV5.crfsuite')"
   ]
  },
  {
   "cell_type": "code",
   "execution_count": 45,
   "metadata": {
    "collapsed": false
   },
   "outputs": [
    {
     "name": "stdout",
     "output_type": "stream",
     "text": [
      "Extensive knowledge of CoreJava concepts like OOPS Concepts Multithreading Exception Handling Interfaces Abstract Class and Collection Framework. .\n",
      "\n",
      "Predicted: O O O O O O SKILL SKILL SKILL SKILL SKILL SKILL SKILL SKILL O SKILL SKILL O\n",
      "Correct:   O O O SKILL O O SKILL SKILL SKILL SKILL SKILL SKILL SKILL SKILL SKILL SKILL SKILL O\n"
     ]
    }
   ],
   "source": [
    "example_sent = test_sent_sampl[2]\n",
    "print(' '.join(sent2tokens(example_sent)), end='\\n\\n')\n",
    "\n",
    "print(\"Predicted:\", ' '.join(tagger.tag(sent2features(example_sent))))\n",
    "print(\"Correct:  \", ' '.join(sent2labels(example_sent)))"
   ]
  },
  {
   "cell_type": "code",
   "execution_count": 33,
   "metadata": {
    "collapsed": true
   },
   "outputs": [],
   "source": [
    "def bio_classification_report(y_true, y_pred):\n",
    "    \"\"\"\n",
    "    Classification report for a list of BIO-encoded sequences.\n",
    "    It computes token-level metrics and discards \"O\" labels.\n",
    "    \n",
    "    Note that it requires scikit-learn 0.15+ (or a version from github master)\n",
    "    to calculate averages properly!\n",
    "    \"\"\"\n",
    "    lb = LabelBinarizer()\n",
    "    y_true_combined = lb.fit_transform(list(chain.from_iterable(y_true)))\n",
    "    y_pred_combined = lb.transform(list(chain.from_iterable(y_pred)))\n",
    "        \n",
    "    tagset = set(lb.classes_) - {'O'}\n",
    "    tagset = sorted(tagset, key=lambda tag: tag.split('-', 1)[::-1])\n",
    "    class_indices = {cls: idx for idx, cls in enumerate(lb.classes_)}\n",
    "    \n",
    "    return classification_report(\n",
    "        y_true_combined,\n",
    "        y_pred_combined,\n",
    "        labels = [class_indices[cls] for cls in tagset],\n",
    "        target_names = tagset,\n",
    "    )"
   ]
  },
  {
   "cell_type": "code",
   "execution_count": 46,
   "metadata": {
    "collapsed": false
   },
   "outputs": [
    {
     "name": "stdout",
     "output_type": "stream",
     "text": [
      "Wall time: 67 ms\n"
     ]
    }
   ],
   "source": [
    "%%time\n",
    "y_pred = [tagger.tag(xseq) for xseq in X_test]"
   ]
  },
  {
   "cell_type": "code",
   "execution_count": 47,
   "metadata": {
    "collapsed": false
   },
   "outputs": [
    {
     "name": "stdout",
     "output_type": "stream",
     "text": [
      "             precision    recall  f1-score   support\n",
      "\n",
      "       DATE       0.94      0.74      0.83        91\n",
      "      DESIG       0.81      0.68      0.74        25\n",
      "        EDU       0.83      0.52      0.64        46\n",
      "        LOC       0.86      0.52      0.65        46\n",
      "        ORG       0.71      0.61      0.65       119\n",
      "       PERS       0.82      0.56      0.67        16\n",
      "      SKILL       0.85      0.66      0.74       726\n",
      "\n",
      "avg / total       0.84      0.65      0.73      1069\n",
      "\n"
     ]
    }
   ],
   "source": [
    "#more Newer Report\n",
    "print(bio_classification_report(y_test, y_pred))"
   ]
  },
  {
   "cell_type": "code",
   "execution_count": 35,
   "metadata": {
    "collapsed": false
   },
   "outputs": [
    {
     "name": "stdout",
     "output_type": "stream",
     "text": [
      "             precision    recall  f1-score   support\n",
      "\n",
      "       DATE       0.96      0.75      0.84        91\n",
      "      DESIG       0.76      0.76      0.76        25\n",
      "        EDU       0.79      0.41      0.54        46\n",
      "        LOC       0.84      0.46      0.59        46\n",
      "        ORG       0.71      0.56      0.63       119\n",
      "       PERS       0.83      0.31      0.45        16\n",
      "      SKILL       0.82      0.63      0.71       726\n",
      "\n",
      "avg / total       0.82      0.61      0.70      1069\n",
      "\n"
     ]
    }
   ],
   "source": [
    "#Newer Report\n",
    "print(bio_classification_report(y_test, y_pred))"
   ]
  },
  {
   "cell_type": "code",
   "execution_count": 22,
   "metadata": {
    "collapsed": false
   },
   "outputs": [
    {
     "name": "stdout",
     "output_type": "stream",
     "text": [
      "             precision    recall  f1-score   support\n",
      "\n",
      "       DATE       0.96      0.76      0.85        91\n",
      "      DESIG       0.81      0.68      0.74        25\n",
      "        EDU       0.96      0.52      0.68        46\n",
      "        LOC       0.89      0.54      0.68        46\n",
      "        ORG       0.68      0.61      0.64       119\n",
      "       PERS       0.80      0.75      0.77        16\n",
      "      SKILL       0.84      0.65      0.73       726\n",
      "\n",
      "avg / total       0.84      0.65      0.73      1069\n",
      "\n"
     ]
    }
   ],
   "source": [
    "#New Report\n",
    "print(bio_classification_report(y_test, y_pred))"
   ]
  },
  {
   "cell_type": "code",
   "execution_count": 12,
   "metadata": {
    "collapsed": false
   },
   "outputs": [
    {
     "name": "stdout",
     "output_type": "stream",
     "text": [
      "             precision    recall  f1-score   support\n",
      "\n",
      "       DATE       0.96      0.76      0.85        91\n",
      "      DESIG       0.81      0.68      0.74        25\n",
      "        EDU       0.96      0.52      0.68        46\n",
      "      EMAIL       1.00      1.00      1.00         7\n",
      "        LOC       0.89      0.54      0.68        46\n",
      "        ORG       0.68      0.61      0.64       119\n",
      "       PERS       0.87      0.81      0.84        16\n",
      "      PHONE       0.80      0.80      0.80        10\n",
      "      SKILL       0.84      0.65      0.73       726\n",
      "      WRKEX       0.84      0.64      0.73        25\n",
      "\n",
      "avg / total       0.84      0.65      0.73      1111\n",
      "\n"
     ]
    }
   ],
   "source": [
    "# Old Report\n",
    "print(bio_classification_report(y_test, y_pred))"
   ]
  },
  {
   "cell_type": "code",
   "execution_count": 13,
   "metadata": {
    "collapsed": true
   },
   "outputs": [],
   "source": [
    "import seaborn as sns\n",
    "import matplotlib as mplt\n",
    "import matplotlib.pyplot as plt\n",
    "%matplotlib inline "
   ]
  },
  {
   "cell_type": "code",
   "execution_count": 76,
   "metadata": {
    "collapsed": false
   },
   "outputs": [],
   "source": [
    "import pandas as pd\n",
    "import numpy as np\n",
    "import itertools as it"
   ]
  },
  {
   "cell_type": "code",
   "execution_count": 124,
   "metadata": {
    "collapsed": true
   },
   "outputs": [],
   "source": [
    "def show_values(pc, fmt=\"%.2f\", **kw):\n",
    "    '''\n",
    "    Heatmap with text in each cell with matplotlib's pyplot\n",
    "    Source: https://stackoverflow.com/a/25074150/395857 \n",
    "    By HYRY\n",
    "    '''\n",
    "    pc.update_scalarmappable()\n",
    "    ax = pc.get_axes()\n",
    "    for p, color, value in zip(pc.get_paths(), pc.get_facecolors(), pc.get_array()):\n",
    "        x, y = p.vertices[:-2, :].mean(0)\n",
    "        if np.all(color[:3] > 0.5):\n",
    "            color = (0.0, 0.0, 0.0)\n",
    "        else:\n",
    "            color = (1.0, 1.0, 1.0)\n",
    "        ax.text(x, y, fmt % value, ha=\"center\", va=\"center\", color=color, **kw)\n",
    "\n",
    "\n",
    "def cm2inch(*tupl):\n",
    "    '''\n",
    "    Specify figure size in centimeter in matplotlib\n",
    "    Source: https://stackoverflow.com/a/22787457/395857\n",
    "    By gns-ank\n",
    "    '''\n",
    "    inch = 2.54\n",
    "    if type(tupl[0]) == tuple:\n",
    "        return tuple(i/inch for i in tupl[0])\n",
    "    else:\n",
    "        return tuple(i/inch for i in tupl)\n",
    "\n",
    "\n",
    "def heatmap(AUC, title, xlabel, ylabel, xticklabels, yticklabels, figure_width=40, figure_height=20, correct_orientation=False, cmap='RdBu'):\n",
    "    '''\n",
    "    Inspired by:\n",
    "    - https://stackoverflow.com/a/16124677/395857 \n",
    "    - https://stackoverflow.com/a/25074150/395857\n",
    "    '''\n",
    "\n",
    "    # Plot it out\n",
    "    fig, ax = plt.subplots()    \n",
    "    #c = ax.pcolor(AUC, edgecolors='k', linestyle= 'dashed', linewidths=0.2, cmap='RdBu', vmin=0.0, vmax=1.0)\n",
    "    c = ax.pcolor(AUC, edgecolors='k', linestyle= 'dashed', linewidths=0.2, cmap=cmap)\n",
    "\n",
    "    # put the major ticks at the middle of each cell\n",
    "    ax.set_yticks(np.arange(AUC.shape[0]) + 0.5, minor=False)\n",
    "    ax.set_xticks(np.arange(AUC.shape[1]) + 0.5, minor=False)\n",
    "\n",
    "    # set tick labels\n",
    "    #ax.set_xticklabels(np.arange(1,AUC.shape[1]+1), minor=False)\n",
    "    ax.set_xticklabels(xticklabels, minor=False)\n",
    "    ax.set_yticklabels(yticklabels, minor=False)\n",
    "\n",
    "    # set title and x/y labels\n",
    "    plt.title(title)\n",
    "    plt.xlabel(xlabel)\n",
    "    plt.ylabel(ylabel)      \n",
    "\n",
    "    # Remove last blank column\n",
    "    plt.xlim( (0, AUC.shape[1]) )\n",
    "\n",
    "    # Turn off all the ticks\n",
    "    ax = plt.gca()    \n",
    "    for t in ax.xaxis.get_major_ticks():\n",
    "        t.tick1On = False\n",
    "        t.tick2On = False\n",
    "    for t in ax.yaxis.get_major_ticks():\n",
    "        t.tick1On = False\n",
    "        t.tick2On = False\n",
    "\n",
    "    # Add color bar\n",
    "    plt.colorbar(c)\n",
    "\n",
    "    # Add text in each cell \n",
    "    show_values(c)\n",
    "\n",
    "    # Proper orientation (origin at the top left instead of bottom left)\n",
    "    if correct_orientation:\n",
    "        ax.invert_yaxis()\n",
    "        ax.xaxis.tick_top()       \n",
    "\n",
    "    # resize \n",
    "    fig = plt.gcf()\n",
    "    #fig.set_size_inches(cm2inch(40, 20))\n",
    "    #fig.set_size_inches(cm2inch(40*4, 20*4))\n",
    "    fig.set_size_inches(cm2inch(figure_width, figure_height))\n",
    "    \n",
    "def plot_classification_report(classification_report):\n",
    "    '''\n",
    "    Plot scikit-learn classification report.\n",
    "    Extension based on https://stackoverflow.com/a/31689645/395857 \n",
    "    '''\n",
    "    title='Classification report '\n",
    "    cmap = sns.diverging_palette(220, 10, as_cmap=True)\n",
    "    #cmap=plt.cm.Blues\n",
    "    lines = classification_report.split('\\n')\n",
    "\n",
    "    classes = []\n",
    "    plotMat = []\n",
    "    support = []\n",
    "    class_names = []\n",
    "    for line in lines[2 : (len(lines) - 2)]:\n",
    "        t = line.strip().split()\n",
    "        if len(t) < 2: continue\n",
    "        classes.append(t[0])\n",
    "        v = [float(x) for x in t[1: len(t) - 1]]\n",
    "        support.append(int(t[-1]))\n",
    "        class_names.append(t[0])\n",
    "        #print(v)\n",
    "        plotMat.append(v)\n",
    "\n",
    "    #print('plotMat: {0}'.format(plotMat))\n",
    "    #print('support: {0}'.format(support))\n",
    "\n",
    "    xlabel = 'Metrics'\n",
    "    ylabel = 'Classes'\n",
    "    xticklabels = ['Precision', 'Recall', 'F1-score']\n",
    "    #yticklabels = ['{0} ({1})'.format(class_names[idx], sup) for idx, sup  in enumerate(support)]\n",
    "    yticklabels = class_names\n",
    "    figure_width = 25\n",
    "    figure_height = len(class_names) + 7\n",
    "    correct_orientation = False\n",
    "    #plt.title(title)\n",
    "    #plt.plot(np.array(plotMat))\n",
    "    #plt.legend(loc = 'lower right')\n",
    "    #plt.xticks=(,yticklabels)\n",
    "    #plt.plot([0, 1], [0, 1],'r--')\n",
    "    #plt.xlim(list(class_names))#[idx] for idx in enumerate(yticklabels)))\n",
    "    #plt.ylim([0, 1])\n",
    "    #plt.ylabel(\"Value\")\n",
    "    #plt.xlabel(\"Classes\")\n",
    "    #plt.show()\n",
    "    heatmap(np.array(plotMat),title,xlabel, ylabel, xticklabels,yticklabels, figure_width, figure_height, correct_orientation, cmap)"
   ]
  },
  {
   "cell_type": "code",
   "execution_count": 125,
   "metadata": {
    "collapsed": false
   },
   "outputs": [
    {
     "name": "stderr",
     "output_type": "stream",
     "text": [
      "C:\\ProgramData\\Anaconda3\\lib\\site-packages\\matplotlib\\artist.py:233: MatplotlibDeprecationWarning: get_axes has been deprecated in mpl 1.5, please use the\n",
      "axes property.  A removal date has not been set.\n",
      "  stacklevel=1)\n"
     ]
    },
    {
     "data": {
      "image/png": "[encoded data removed]",
      "text/plain": [
       "<matplotlib.figure.Figure at 0x986f650d30>"
      ]
     },
     "metadata": {},
     "output_type": "display_data"
    }
   ],
   "source": [
    "plot_classification_report(bio_classification_report(y_test, y_pred))"
   ]
  },
  {
   "cell_type": "code",
   "execution_count": 44,
   "metadata": {
    "collapsed": false
   },
   "outputs": [
    {
     "data": {
      "text/plain": [
       "'             precision    recall  f1-score   support\\n\\n       DATE       0.96      0.76      0.85        91\\n      DESIG       0.81      0.68      0.74        25\\n        EDU       0.96      0.52      0.68        46\\n      EMAIL       1.00      1.00      1.00         7\\n        LOC       0.89      0.54      0.68        46\\n        ORG       0.68      0.61      0.64       119\\n       PERS       0.87      0.81      0.84        16\\n      PHONE       0.80      0.80      0.80        10\\n      SKILL       0.84      0.65      0.73       726\\n      WRKEX       0.84      0.64      0.73        25\\n\\navg / total       0.84      0.65      0.73      1111\\n'"
      ]
     },
     "execution_count": 44,
     "metadata": {},
     "output_type": "execute_result"
    }
   ],
   "source": [
    "bio_classification_report(y_test, y_pred)"
   ]
  },
  {
   "cell_type": "code",
   "execution_count": 48,
   "metadata": {
    "collapsed": false
   },
   "outputs": [
    {
     "name": "stdout",
     "output_type": "stream",
     "text": [
      "Top likely transitions:\n",
      "WRKEX  -> WRKEX   6.150599\n",
      "EDU    -> EDU     5.484971\n",
      "DESIG  -> DESIG   5.193139\n",
      "PHONE  -> PHONE   4.815161\n",
      "EMAIL  -> EMAIL   3.908476\n",
      "ORG    -> ORG     3.896673\n",
      "LOC    -> LOC     3.843320\n",
      "EMAIL  -> PHONE   3.761063\n",
      "PERS   -> PERS    3.400839\n",
      "ORG    -> LOC     3.189286\n",
      "SKILL  -> SKILL   3.117889\n",
      "DATE   -> DATE    2.937322\n",
      "PHONE  -> EMAIL   2.394929\n",
      "EDU    -> ORG     2.105549\n",
      "O      -> O       1.484295\n",
      "\n",
      "Top unlikely transitions:\n",
      "PHONE  -> SKILL   -1.017871\n",
      "SKILL  -> DESIG   -1.118224\n",
      "O      -> EMAIL   -1.168566\n",
      "LOC    -> SKILL   -1.237296\n",
      "SKILL  -> PHONE   -1.324623\n",
      "ORG    -> SKILL   -1.337159\n",
      "DATE   -> SKILL   -1.344196\n",
      "PERS   -> O       -1.393979\n",
      "SKILL  -> DATE    -1.466845\n",
      "SKILL  -> ORG     -1.574068\n",
      "EDU    -> SKILL   -1.575574\n",
      "SKILL  -> PERS    -1.898789\n",
      "SKILL  -> EDU     -1.979873\n",
      "PERS   -> ORG     -2.160918\n",
      "PERS   -> SKILL   -2.748393\n"
     ]
    }
   ],
   "source": [
    "from collections import Counter\n",
    "info = tagger.info()\n",
    "\n",
    "def print_transitions(trans_features):\n",
    "    for (label_from, label_to), weight in trans_features:\n",
    "        print(\"%-6s -> %-7s %0.6f\" % (label_from, label_to, weight))\n",
    "\n",
    "print(\"Top likely transitions:\")\n",
    "print_transitions(Counter(info.transitions).most_common(15))\n",
    "\n",
    "print(\"\\nTop unlikely transitions:\")\n",
    "print_transitions(Counter(info.transitions).most_common()[-15:])"
   ]
  },
  {
   "cell_type": "code",
   "execution_count": 32,
   "metadata": {
    "collapsed": false
   },
   "outputs": [
    {
     "name": "stdout",
     "output_type": "stream",
     "text": [
      "Top likely transitions:\n",
      "EMAIL  -> EMAIL   3.757939\n",
      "EDU    -> EDU     3.633941\n",
      "WRKEX  -> WRKEX   3.517239\n",
      "ORG    -> ORG     3.428494\n",
      "LOC    -> LOC     3.313029\n",
      "DESIG  -> DESIG   3.215806\n",
      "PHONE  -> PHONE   3.133305\n",
      "PERS   -> PERS    2.719366\n",
      "EMAIL  -> PHONE   2.564856\n",
      "ORG    -> LOC     2.270312\n",
      "DATE   -> DATE    2.222121\n",
      "SKILL  -> SKILL   1.862740\n",
      "PHONE  -> EMAIL   1.685653\n",
      "O      -> O       1.564512\n",
      "PERS   -> EMAIL   0.785996\n",
      "\n",
      "Top unlikely transitions:\n",
      "SKILL  -> LOC     -1.920234\n",
      "DATE   -> SKILL   -1.947272\n",
      "ORG    -> SKILL   -1.990016\n",
      "DESIG  -> SKILL   -2.007271\n",
      "SKILL  -> ORG     -2.038188\n",
      "PERS   -> ORG     -2.153862\n",
      "SKILL  -> DESIG   -2.230103\n",
      "PHONE  -> SKILL   -2.284765\n",
      "SKILL  -> PHONE   -2.444673\n",
      "SKILL  -> DATE    -2.457903\n",
      "WRKEX  -> SKILL   -2.528212\n",
      "SKILL  -> EDU     -2.983153\n",
      "SKILL  -> PERS    -3.030185\n",
      "EDU    -> SKILL   -3.181291\n",
      "PERS   -> SKILL   -3.211644\n"
     ]
    }
   ],
   "source": [
    "from collections import Counter\n",
    "info = tagger.info()\n",
    "\n",
    "def print_transitions(trans_features):\n",
    "    for (label_from, label_to), weight in trans_features:\n",
    "        print(\"%-6s -> %-7s %0.6f\" % (label_from, label_to, weight))\n",
    "\n",
    "print(\"Top likely transitions:\")\n",
    "print_transitions(Counter(info.transitions).most_common(15))\n",
    "\n",
    "print(\"\\nTop unlikely transitions:\")\n",
    "print_transitions(Counter(info.transitions).most_common()[-15:])"
   ]
  },
  {
   "cell_type": "code",
   "execution_count": 33,
   "metadata": {
    "collapsed": false
   },
   "outputs": [
    {
     "name": "stdout",
     "output_type": "stream",
     "text": [
      "Top positive:\n",
      "6.386089 O      word.lower=using\n",
      "6.031084 DATE   -1:word.lower=till\n",
      "4.836144 DATE   word.lower=may\n",
      "4.832337 SKILL  word.lower=hive\n",
      "4.650458 ORG    word.lower=telenet\n",
      "4.328767 LOC    word.lower=bangalore\n",
      "4.303009 SKILL  word.lower=jquery\n",
      "4.301115 SKILL  word.lower=angular\n",
      "4.290237 WRKEX  +1:word.lower=years\n",
      "4.170748 SKILL  word.lower=spark\n",
      "4.103823 SKILL  word.lower=wordpress\n",
      "4.092707 LOC    word.lower=hyderabad\n",
      "4.075117 ORG    word.lower=hospital\n",
      "4.069478 SKILL  word.lower=unix\n",
      "4.055064 O      EOS\n",
      "3.991890 LOC    word.lower=pune\n",
      "3.934869 ORG    -1:word.lower=client:\n",
      "3.856411 DESIG  -1:word.lower=team\n",
      "3.850966 WRKEX  +1:word.lower=year\n",
      "3.816833 SKILL  word[-2:]=JS\n",
      "\n",
      "Top negative:\n",
      "-1.406615 SKILL  -1:word.lower=java\n",
      "-1.407054 LOC    word[-2:]=on\n",
      "-1.426566 PHONE  BOS\n",
      "-1.441366 O      word.lower=dell\n",
      "-1.459049 O      word.lower=certificate\n",
      "-1.566300 SKILL  word.lower=experience\n",
      "-1.589936 O      word.lower=manual\n",
      "-1.642699 O      word[-3:]=pal\n",
      "-1.749610 O      word.lower=hospital\n",
      "-1.792006 o      bias\n",
      "-1.792480 O      +1:word.lower=india\n",
      "-1.836381 O      +1:word.lower=company:\n",
      "-1.903302 O      +1:word.lower=â€“\n",
      "-1.938250 O      word[-3:]=dle\n",
      "-1.943049 O      word.lower=oracle\n",
      "-1.974505 O      +1:word.lower=designer\n",
      "-1.983713 O      +1:word.lower=science\n",
      "-2.173715 O      word[-3:]=com\n",
      "-2.324225 O      -1:word.lower=â€“\n",
      "-2.362172 O      +1:word.lower=demand\n"
     ]
    }
   ],
   "source": [
    "def print_state_features(state_features):\n",
    "    for (attr, label), weight in state_features:\n",
    "        print(\"%0.6f %-6s %s\" % (weight, label, attr))    \n",
    "\n",
    "print(\"Top positive:\")\n",
    "print_state_features(Counter(info.state_features).most_common(20))\n",
    "\n",
    "print(\"\\nTop negative:\")\n",
    "print_state_features(Counter(info.state_features).most_common()[-20:])"
   ]
  },
  {
   "cell_type": "code",
   "execution_count": null,
   "metadata": {
    "collapsed": true
   },
   "outputs": [],
   "source": []
  },
  {
   "cell_type": "code",
   "execution_count": null,
   "metadata": {
    "collapsed": true
   },
   "outputs": [],
   "source": []
  }
 ],
 "metadata": {
  "kernelspec": {
   "display_name": "Python 3",
   "language": "python",
   "name": "python3"
  },
  "language_info": {
   "codemirror_mode": {
    "name": "ipython",
    "version": 3
   },
   "file_extension": ".py",
   "mimetype": "text/x-python",
   "name": "python",
   "nbconvert_exporter": "python",
   "pygments_lexer": "ipython3",
   "version": "3.6.0"
  }
 },
 "nbformat": 4,
 "nbformat_minor": 2
}
