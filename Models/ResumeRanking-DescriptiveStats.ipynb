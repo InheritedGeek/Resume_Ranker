{
 "cells": [
  {
   "cell_type": "code",
   "execution_count": 6,
   "metadata": {
    "collapsed": false
   },
   "outputs": [],
   "source": [
    "import codecs\n",
    "import glob\n",
    "import logging\n",
    "import multiprocessing\n",
    "import os\n",
    "import pprint\n",
    "import re\n",
    "import pandas as pd\n",
    "import numpy as np\n",
    "\n",
    "#NLP Libraries\n",
    "\n",
    "import nltk\n",
    "from nltk.corpus import stopwords\n",
    "#from nltk.tag.stanford import StanfordNERTagger\n",
    "\n",
    "#Document Reader Libraries\n",
    "\n",
    "from subprocess import Popen, PIPE\n",
    "from docx import Document\n",
    "import pdfminer\n",
    "from pdfminer.pdfinterp import PDFResourceManager, PDFPageInterpreter\n",
    "from pdfminer.pdfpage import PDFPage\n",
    "from pdfminer.converter import TextConverter\n",
    "from pdfminer.layout import LAParams\n",
    "from io import StringIO\n",
    "\n",
    "from docx import Document\n",
    "from docx.document import Document as _Document\n",
    "from docx.oxml.text.paragraph import CT_P\n",
    "from docx.oxml.table import CT_Tbl\n",
    "from docx.table import _Cell, Table\n",
    "from docx.text.paragraph import Paragraph\n",
    "\n",
    "#Tf-IDf libraries\n",
    "\n",
    "from sklearn.feature_extraction.text import TfidfVectorizer\n",
    "from sklearn.metrics.pairwise import cosine_similarity\n",
    "\n",
    "#fuzzy logic\n",
    "\n",
    "import gensim\n",
    "from fuzzywuzzy import fuzz"
   ]
  },
  {
   "cell_type": "markdown",
   "metadata": {},
   "source": [
    "## Convert PDF to text function"
   ]
  },
  {
   "cell_type": "code",
   "execution_count": 2,
   "metadata": {
    "collapsed": true
   },
   "outputs": [],
   "source": [
    "#Function to convert pdf to text\n",
    "def convert_pdf_to_txt(path):\n",
    "    rsrcmgr = PDFResourceManager()\n",
    "    retstr = StringIO()\n",
    "    codec = 'utf-8'\n",
    "    laparams = LAParams()\n",
    "    device = TextConverter(rsrcmgr, retstr, codec=codec, laparams=laparams)\n",
    "    fp = open(path, 'rb')\n",
    "    interpreter = PDFPageInterpreter(rsrcmgr, device)\n",
    "    password = \"\"\n",
    "    maxpages = 0\n",
    "    caching = True\n",
    "    pagenos=set()\n",
    "    for page in PDFPage.get_pages(fp, pagenos, maxpages=maxpages, password=password,caching=caching, check_extractable=True):\n",
    "        interpreter.process_page(page)\n",
    "    fp.close()\n",
    "    device.close()\n",
    "    str1 = retstr.getvalue()\n",
    "    retstr.close()\n",
    "    return str1\n"
   ]
  },
  {
   "cell_type": "markdown",
   "metadata": {},
   "source": [
    "## Read All docx blocks"
   ]
  },
  {
   "cell_type": "code",
   "execution_count": 3,
   "metadata": {
    "collapsed": true
   },
   "outputs": [],
   "source": [
    "#Read All Docx\n",
    "def iter_block_items(parent):\n",
    "    \"\"\"\n",
    "    Generate a reference to each paragraph and table child within *parent*,\n",
    "    in document order. Each returned value is an instance of either Table or\n",
    "    Paragraph. *parent* would most commonly be a reference to a main\n",
    "    Document object, but also works for a _Cell object, which itself can\n",
    "    contain paragraphs and tables.\n",
    "    \"\"\"\n",
    "    if isinstance(parent, _Document):\n",
    "        parent_elm = parent.element.body\n",
    "        # print(parent_elm.xml)\n",
    "    elif isinstance(parent, _Cell):\n",
    "        parent_elm = parent._tc\n",
    "    else:\n",
    "        raise ValueError(\"something's not right\")\n",
    "\n",
    "    for child in parent_elm.iterchildren():\n",
    "        if isinstance(child, CT_P):\n",
    "            yield Paragraph(child, parent)\n",
    "        elif isinstance(child, CT_Tbl):\n",
    "            yield Table(child, parent)"
   ]
  },
  {
   "cell_type": "markdown",
   "metadata": {},
   "source": [
    "## Convert Document to text "
   ]
  },
  {
   "cell_type": "code",
   "execution_count": 4,
   "metadata": {
    "collapsed": true
   },
   "outputs": [],
   "source": [
    "#Function to convert doc formats (like .doc, .docx, .odt) to text\n",
    "def document_to_text(filename, file_path):\n",
    "    if filename[-4:] == \".doc\":\n",
    "        cmd = ['C:/antiword/antiword', file_path] #use antiword command\n",
    "        p = Popen(cmd, stdout=PIPE)\n",
    "        stdout, stderr = p.communicate()\n",
    "        return stdout.decode('ascii', 'ignore')\n",
    "    elif filename[-5:] == \".docx\":\n",
    "        doc = Document(file_path)\n",
    "        fullText = []\n",
    "        para_ix=0\n",
    "        tbl_ix=0\n",
    "        for block in iter_block_items(doc):\n",
    "            block_type=block.__class__.__name__\n",
    "            if block_type=='Table':\n",
    "                for row in doc.tables[tbl_ix].rows:\n",
    "                    for cell in row.cells:\n",
    "                        for paracell in cell.paragraphs:\n",
    "                            fullText.append(paracell.text)\n",
    "                tbl_ix+=1\n",
    "            elif block_type=='Paragraph':\n",
    "                fullText.append(doc.paragraphs[para_ix].text)\n",
    "                para_ix+=1\n",
    "        return '\\n'.join(fullText)\n",
    "    elif filename[-4:] == \".odt\":\n",
    "        cmd = ['odt2txt', file_path]\n",
    "        p = Popen(cmd, stdout=PIPE)\n",
    "        stdout, stderr = p.communicate()\n",
    "        return stdout.decode('ascii', 'ignore')\n",
    "    elif filename[-4:] == \".pdf\":\n",
    "        return convert_pdf_to_txt(file_path)"
   ]
  },
  {
   "cell_type": "markdown",
   "metadata": {},
   "source": [
    "## Data Cleaner"
   ]
  },
  {
   "cell_type": "code",
   "execution_count": 5,
   "metadata": {
    "collapsed": true
   },
   "outputs": [],
   "source": [
    "\n",
    "punctuations_list = [',', '?', ':', ';', '!', ')', '(', '\\'','\"','*','/','<','>','{','}','[',']']\n",
    "\n",
    "def cleanStr(mystring):\n",
    "    \n",
    "    # Removing non-utf charachters with space\n",
    "    mystring = re.sub(r'[^\\x00-\\x7F]+', ' ', str(mystring).lower())\n",
    "    \n",
    "    for punctuation in punctuations_list:            \n",
    "        mystring = mystring.replace(punctuation, \"\".join(punctuation).join(\"  \"))\n",
    "        \n",
    "    # Replacing 2 dots with one    \n",
    "    mystring = mystring.replace(\"..\", \". \")\n",
    "    \n",
    "    # Removing Multiple White spaces\n",
    "    message = ' '.join(mystring.split())\n",
    "\n",
    "    return message "
   ]
  },
  {
   "cell_type": "code",
   "execution_count": 7,
   "metadata": {
    "collapsed": false
   },
   "outputs": [
    {
     "data": {
      "text/plain": [
       "'C:\\\\Users\\\\Shashank Shekar'"
      ]
     },
     "execution_count": 7,
     "metadata": {},
     "output_type": "execute_result"
    }
   ],
   "source": [
    "os.getcwd()"
   ]
  },
  {
   "cell_type": "code",
   "execution_count": 8,
   "metadata": {
    "collapsed": true
   },
   "outputs": [],
   "source": [
    "os.chdir(\"D:\\\\D drive\\\\DataAnalytics_StudyMaterial\\\\IIMB-BDA\\\\ProjectZ\\\\Iteration2\")"
   ]
  },
  {
   "cell_type": "code",
   "execution_count": 115,
   "metadata": {
    "collapsed": true
   },
   "outputs": [],
   "source": [
    "#resume_filenames = sorted(glob.glob(os.path.join('./IIM2',\"*.*\")))\n",
    "resume_filenames = sorted(glob.glob(os.path.join('./Case Writer-Applications/CaseWriterModel/TrainData',\"*.*\")))"
   ]
  },
  {
   "cell_type": "code",
   "execution_count": 116,
   "metadata": {
    "collapsed": false
   },
   "outputs": [
    {
     "data": {
      "text/plain": [
       "100"
      ]
     },
     "execution_count": 116,
     "metadata": {},
     "output_type": "execute_result"
    }
   ],
   "source": [
    "len(resume_filenames)"
   ]
  },
  {
   "cell_type": "code",
   "execution_count": 92,
   "metadata": {
    "collapsed": false
   },
   "outputs": [],
   "source": [
    "ITJD_df = pd.read_csv('IT-Jd.csv',sep='\\t')"
   ]
  },
  {
   "cell_type": "code",
   "execution_count": 93,
   "metadata": {
    "collapsed": false
   },
   "outputs": [
    {
     "data": {
      "text/html": [
       "<div>\n",
       "<table border=\"1\" class=\"dataframe\">\n",
       "  <thead>\n",
       "    <tr style=\"text-align: right;\">\n",
       "      <th></th>\n",
       "      <th>Sno</th>\n",
       "      <th>JD</th>\n",
       "    </tr>\n",
       "  </thead>\n",
       "  <tbody>\n",
       "    <tr>\n",
       "      <th>0</th>\n",
       "      <td>1</td>\n",
       "      <td>Design, build and configure applications\\r\\nMu...</td>\n",
       "    </tr>\n",
       "    <tr>\n",
       "      <th>1</th>\n",
       "      <td>2</td>\n",
       "      <td>Role : Application Developer Role Description ...</td>\n",
       "    </tr>\n",
       "    <tr>\n",
       "      <th>2</th>\n",
       "      <td>3</td>\n",
       "      <td>Role : Application Developer Role Description ...</td>\n",
       "    </tr>\n",
       "    <tr>\n",
       "      <th>3</th>\n",
       "      <td>4</td>\n",
       "      <td>Role : Application Developer Role Description ...</td>\n",
       "    </tr>\n",
       "    <tr>\n",
       "      <th>4</th>\n",
       "      <td>5</td>\n",
       "      <td>Role : Application Developer Role Description ...</td>\n",
       "    </tr>\n",
       "  </tbody>\n",
       "</table>\n",
       "</div>"
      ],
      "text/plain": [
       "   Sno                                                 JD\n",
       "0    1  Design, build and configure applications\\r\\nMu...\n",
       "1    2  Role : Application Developer Role Description ...\n",
       "2    3  Role : Application Developer Role Description ...\n",
       "3    4  Role : Application Developer Role Description ...\n",
       "4    5  Role : Application Developer Role Description ..."
      ]
     },
     "execution_count": 93,
     "metadata": {},
     "output_type": "execute_result"
    }
   ],
   "source": [
    "ITJD_df.head()"
   ]
  },
  {
   "cell_type": "code",
   "execution_count": 101,
   "metadata": {
    "collapsed": false
   },
   "outputs": [
    {
     "data": {
      "text/plain": [
       "'Design, build and configure applications\\r\\nMust have Skills : Java Enterprise Edition Good to Have Skills : Insurance Fundamentals Job Description Additional Comments : Role: Java Developer Skill: Java Minimum Skill Requirement: (~3-4 pointers against each item) \\r\\n1) Worked on Life & Annuity Product '"
      ]
     },
     "execution_count": 101,
     "metadata": {},
     "output_type": "execute_result"
    }
   ],
   "source": [
    "ITJD_df['JD'][0]"
   ]
  },
  {
   "cell_type": "code",
   "execution_count": 124,
   "metadata": {
    "collapsed": false
   },
   "outputs": [
    {
     "name": "stdout",
     "output_type": "stream",
     "text": [
      "Wall time: 1min 51s\n"
     ]
    }
   ],
   "source": [
    "%%time\n",
    "LenResume=[]\n",
    "uniqResume=[]\n",
    "num_words=0\n",
    "\n",
    "for dfRow in range(len(resume_filenames)):\n",
    "#for dfRow in range(len(ITJD_df['JD'])):\n",
    "    #print(resume_filenames[dfRow])\n",
    "    Cvtxt=cleanStr(document_to_text(resume_filenames[dfRow],resume_filenames[dfRow]))\n",
    "    LenResume.append(len(Cvtxt.split()))\n",
    "    #LenResume.append(len(ITJD_df['JD'][dfRow].split()))\n",
    "    uniqResume.append(len(set(Cvtxt.split())))\n",
    "    #uniqResume.append(len(set(ITJD_df['JD'][dfRow].split())))\n",
    "    \n",
    "    "
   ]
  },
  {
   "cell_type": "code",
   "execution_count": 125,
   "metadata": {
    "collapsed": false
   },
   "outputs": [
    {
     "name": "stdout",
     "output_type": "stream",
     "text": [
      "100\n"
     ]
    }
   ],
   "source": [
    "print(len(LenResume))"
   ]
  },
  {
   "cell_type": "code",
   "execution_count": 126,
   "metadata": {
    "collapsed": false
   },
   "outputs": [
    {
     "name": "stdout",
     "output_type": "stream",
     "text": [
      "421\n"
     ]
    }
   ],
   "source": [
    "print(uniqResume[0])"
   ]
  },
  {
   "cell_type": "code",
   "execution_count": 127,
   "metadata": {
    "collapsed": true
   },
   "outputs": [],
   "source": [
    "ResFileArr=np.asarray(resume_filenames)\n",
    "LenResumeArr=np.asarray(LenResume)\n",
    "uniqResumeArr=np.asarray(uniqResume)"
   ]
  },
  {
   "cell_type": "code",
   "execution_count": 128,
   "metadata": {
    "collapsed": false
   },
   "outputs": [],
   "source": [
    "CVDes = pd.DataFrame()\n",
    "CVDes['ResumeFile']=ResFileArr\n",
    "CVDes['NumWords']=LenResumeArr\n",
    "CVDes['NumUniqWords']=uniqResume\n",
    "#ITJD_df['NumWords']=LenResumeArr\n",
    "#ITJD_df['NumUniqWords']=uniqResumeArr"
   ]
  },
  {
   "cell_type": "code",
   "execution_count": 133,
   "metadata": {
    "collapsed": false
   },
   "outputs": [],
   "source": [
    "CVDes[CVDes['NumWords']>=2000].to_csv(\"name2.csv\")\n"
   ]
  },
  {
   "cell_type": "code",
   "execution_count": 33,
   "metadata": {
    "collapsed": true
   },
   "outputs": [],
   "source": [
    "import seaborn as sn\n",
    "import matplotlib.pyplot as plt\n",
    "%matplotlib inline\n"
   ]
  },
  {
   "cell_type": "code",
   "execution_count": 113,
   "metadata": {
    "collapsed": false
   },
   "outputs": [
    {
     "data": {
      "text/plain": [
       "<matplotlib.axes._subplots.AxesSubplot at 0x8201f5668>"
      ]
     },
     "execution_count": 113,
     "metadata": {},
     "output_type": "execute_result"
    },
    {
     "data": {
      "image/png": "[encoded data removed]",
      "text/plain": [
       "<matplotlib.figure.Figure at 0x8201f5c18>"
      ]
     },
     "metadata": {},
     "output_type": "display_data"
    }
   ],
   "source": [
    "plt.figure(figsize=(7, 7))\n",
    "plt.title(\"No. Of Words Across JDs\")\n",
    "#sn.distplot(CVDes.NumWords)\n",
    "sn.distplot(ITJD_df.NumWords)"
   ]
  },
  {
   "cell_type": "code",
   "execution_count": 88,
   "metadata": {
    "collapsed": false
   },
   "outputs": [
    {
     "name": "stdout",
     "output_type": "stream",
     "text": [
      "Average No. Of  Words= 1004\n",
      "SD of Words= 584\n",
      "Min no. of Words= 72\n",
      "Max no.of Words= 4191\n"
     ]
    }
   ],
   "source": [
    "print('Average No. Of  Words=',round(CVDes['NumWords'].mean()))\n",
    "print('SD of Words=',round(CVDes['NumWords'].std()))\n",
    "print('Min no. of Words=',round(CVDes['NumWords'].min()))\n",
    "print('Max no.of Words=',round(CVDes['NumWords'].max()))"
   ]
  },
  {
   "cell_type": "code",
   "execution_count": 111,
   "metadata": {
    "collapsed": false
   },
   "outputs": [
    {
     "name": "stdout",
     "output_type": "stream",
     "text": [
      "Average No. Of  Words= 80\n",
      "SD of Words= 48\n",
      "Min no. of Words= 10\n",
      "Max no.of Words= 184\n"
     ]
    }
   ],
   "source": [
    "print('Average No. Of  Words=',round(ITJD_df['NumWords'].mean()))\n",
    "print('SD of Words=',round(ITJD_df['NumWords'].std()))\n",
    "print('Min no. of Words=',round(ITJD_df['NumWords'].min()))\n",
    "print('Max no.of Words=',round(ITJD_df['NumWords'].max()))"
   ]
  },
  {
   "cell_type": "code",
   "execution_count": 114,
   "metadata": {
    "collapsed": false
   },
   "outputs": [
    {
     "data": {
      "text/plain": [
       "<matplotlib.axes._subplots.AxesSubplot at 0x8204d5be0>"
      ]
     },
     "execution_count": 114,
     "metadata": {},
     "output_type": "execute_result"
    },
    {
     "data": {
      "image/png": "[encoded data removed]",
      "text/plain": [
       "<matplotlib.figure.Figure at 0x8204d5ba8>"
      ]
     },
     "metadata": {},
     "output_type": "display_data"
    }
   ],
   "source": [
    "plt.figure(figsize=(7, 7))\n",
    "plt.title(\"No. Of Unique Words Across JDs\")\n",
    "#sn.distplot(CVDes.NumUniqWords)\n",
    "sn.distplot(ITJD_df.NumUniqWords)"
   ]
  },
  {
   "cell_type": "code",
   "execution_count": 90,
   "metadata": {
    "collapsed": false
   },
   "outputs": [
    {
     "name": "stdout",
     "output_type": "stream",
     "text": [
      "Average No. Of Unique Words= 432\n",
      "SD of Unique Words= 189\n",
      "Min no. of Unique Words= 54\n",
      "Max no.of Unique Words= 1288\n"
     ]
    }
   ],
   "source": [
    "print('Average No. Of Unique Words=',round(CVDes['NumUniqWords'].mean()))\n",
    "print('SD of Unique Words=',round(CVDes['NumUniqWords'].std()))\n",
    "print('Min no. of Unique Words=',round(CVDes['NumUniqWords'].min()))\n",
    "print('Max no.of Unique Words=',round(CVDes['NumUniqWords'].max()))"
   ]
  },
  {
   "cell_type": "code",
   "execution_count": 112,
   "metadata": {
    "collapsed": false
   },
   "outputs": [
    {
     "name": "stdout",
     "output_type": "stream",
     "text": [
      "Average No. Of  Words= 60\n",
      "SD of Words= 34\n",
      "Min no. of Words= 3\n",
      "Max no.of Words= 131\n"
     ]
    }
   ],
   "source": [
    "print('Average No. Of  Words=',round(ITJD_df['NumUniqWords'].mean()))\n",
    "print('SD of Words=',round(ITJD_df['NumUniqWords'].std()))\n",
    "print('Min no. of Words=',round(ITJD_df['NumUniqWords'].min()))\n",
    "print('Max no.of Words=',round(ITJD_df['NumUniqWords'].max()))"
   ]
  },
  {
   "cell_type": "code",
   "execution_count": null,
   "metadata": {
    "collapsed": true
   },
   "outputs": [],
   "source": []
  }
 ],
 "metadata": {
  "kernelspec": {
   "display_name": "Python 3",
   "language": "python",
   "name": "python3"
  },
  "language_info": {
   "codemirror_mode": {
    "name": "ipython",
    "version": 3
   },
   "file_extension": ".py",
   "mimetype": "text/x-python",
   "name": "python",
   "nbconvert_exporter": "python",
   "pygments_lexer": "ipython3",
   "version": "3.6.0"
  }
 },
 "nbformat": 4,
 "nbformat_minor": 2
}
