{
 "cells": [
  {
   "cell_type": "code",
   "execution_count": 1,
   "metadata": {
    "collapsed": false
   },
   "outputs": [
    {
     "name": "stderr",
     "output_type": "stream",
     "text": [
      "C:\\ProgramData\\Anaconda3\\lib\\site-packages\\gensim\\utils.py:860: UserWarning: detected Windows; aliasing chunkize to chunkize_serial\n",
      "  warnings.warn(\"detected Windows; aliasing chunkize to chunkize_serial\")\n"
     ]
    }
   ],
   "source": [
    "import io\n",
    "import os\n",
    "import pandas as pd\n",
    "import re\n",
    "import numpy as np\n",
    "import glob\n",
    "from math import *\n",
    "\n",
    "#NLP Libraries\n",
    "\n",
    "import nltk\n",
    "from nltk.corpus import stopwords\n",
    "\n",
    "#Document Conversion Libraries\n",
    "from subprocess import Popen, PIPE\n",
    "import pdfminer\n",
    "from pdfminer.pdfinterp import PDFResourceManager, PDFPageInterpreter\n",
    "from pdfminer.pdfpage import PDFPage\n",
    "from pdfminer.converter import TextConverter\n",
    "from pdfminer.layout import LAParams\n",
    "from io import StringIO\n",
    "\n",
    "from docx import Document\n",
    "from docx.document import Document as _Document\n",
    "from docx.oxml.text.paragraph import CT_P\n",
    "from docx.oxml.table import CT_Tbl\n",
    "from docx.table import _Cell, Table\n",
    "from docx.text.paragraph import Paragraph\n",
    "\n",
    "#Tf-IDf libraries\n",
    "\n",
    "from sklearn.feature_extraction.text import TfidfVectorizer\n",
    "from sklearn.metrics.pairwise import cosine_similarity\n",
    "\n",
    "#fuzzy logic\n",
    "import gensim\n",
    "from fuzzywuzzy import fuzz"
   ]
  },
  {
   "cell_type": "markdown",
   "metadata": {},
   "source": [
    "## Convert PDF to Text"
   ]
  },
  {
   "cell_type": "code",
   "execution_count": 2,
   "metadata": {
    "collapsed": true
   },
   "outputs": [],
   "source": [
    "#Function to convert pdf to text\n",
    "def convert_pdf_to_txt(path):\n",
    "    rsrcmgr = PDFResourceManager()\n",
    "    retstr = StringIO()\n",
    "    codec = 'utf-8'\n",
    "    laparams = LAParams()\n",
    "    device = TextConverter(rsrcmgr, retstr, codec=codec, laparams=laparams)\n",
    "    fp = open(path, 'rb')\n",
    "    interpreter = PDFPageInterpreter(rsrcmgr, device)\n",
    "    password = \"\"\n",
    "    maxpages = 0\n",
    "    caching = True\n",
    "    pagenos=set()\n",
    "    for page in PDFPage.get_pages(fp, pagenos, maxpages=maxpages, password=password,caching=caching, check_extractable=True):\n",
    "        interpreter.process_page(page)\n",
    "    fp.close()\n",
    "    device.close()\n",
    "    str1 = retstr.getvalue()\n",
    "    retstr.close()\n",
    "    return str1"
   ]
  },
  {
   "cell_type": "markdown",
   "metadata": {},
   "source": [
    "## Read All Docx blocks"
   ]
  },
  {
   "cell_type": "code",
   "execution_count": 3,
   "metadata": {
    "collapsed": true
   },
   "outputs": [],
   "source": [
    "#Read All Docx\n",
    "def iter_block_items(parent):\n",
    "    \"\"\"\n",
    "    Generate a reference to each paragraph and table child within *parent*,\n",
    "    in document order. Each returned value is an instance of either Table or\n",
    "    Paragraph. *parent* would most commonly be a reference to a main\n",
    "    Document object, but also works for a _Cell object, which itself can\n",
    "    contain paragraphs and tables.\n",
    "    \"\"\"\n",
    "    if isinstance(parent, _Document):\n",
    "        parent_elm = parent.element.body\n",
    "        # print(parent_elm.xml)\n",
    "    elif isinstance(parent, _Cell):\n",
    "        parent_elm = parent._tc\n",
    "    else:\n",
    "        raise ValueError(\"something's not right\")\n",
    "\n",
    "    for child in parent_elm.iterchildren():\n",
    "        if isinstance(child, CT_P):\n",
    "            yield Paragraph(child, parent)\n",
    "        elif isinstance(child, CT_Tbl):\n",
    "            yield Table(child, parent)"
   ]
  },
  {
   "cell_type": "markdown",
   "metadata": {},
   "source": [
    "## Convert Documents to Text including pdfs"
   ]
  },
  {
   "cell_type": "code",
   "execution_count": 4,
   "metadata": {
    "collapsed": true
   },
   "outputs": [],
   "source": [
    "#Function to convert doc formats (like .doc, .docx, .odt) to text\n",
    "def document_to_text(filename, file_path):\n",
    "    if filename[-4:] == \".doc\":\n",
    "        cmd = ['C:/antiword/antiword', file_path] #use antiword command\n",
    "        p = Popen(cmd, stdout=PIPE)\n",
    "        stdout, stderr = p.communicate()\n",
    "        return stdout.decode('ascii', 'ignore')\n",
    "    elif filename[-5:] == \".docx\":\n",
    "        doc = Document(file_path)\n",
    "        fullText = []\n",
    "        para_ix=0\n",
    "        tbl_ix=0\n",
    "        for block in iter_block_items(doc):\n",
    "            block_type=block.__class__.__name__\n",
    "            if block_type=='Table':\n",
    "                for row in doc.tables[tbl_ix].rows:\n",
    "                    for cell in row.cells:\n",
    "                        for paracell in cell.paragraphs:\n",
    "                            fullText.append(paracell.text)\n",
    "                tbl_ix+=1\n",
    "            elif block_type=='Paragraph':\n",
    "                fullText.append(doc.paragraphs[para_ix].text)\n",
    "                para_ix+=1\n",
    "        return '\\n'.join(fullText)\n",
    "    elif filename[-4:] == \".odt\":\n",
    "        cmd = ['odt2txt', file_path]\n",
    "        p = Popen(cmd, stdout=PIPE)\n",
    "        stdout, stderr = p.communicate()\n",
    "        return stdout.decode('ascii', 'ignore')\n",
    "    elif filename[-4:] == \".pdf\":\n",
    "        return convert_pdf_to_txt(file_path)"
   ]
  },
  {
   "cell_type": "markdown",
   "metadata": {},
   "source": [
    "## Data Cleaner"
   ]
  },
  {
   "cell_type": "code",
   "execution_count": 5,
   "metadata": {
    "collapsed": true
   },
   "outputs": [],
   "source": [
    "punctuations_list = [',', '?', ':', ';', '!', ')', '(', '\\'','\"','*','/','<','>','{','}','[',']']\n",
    "\n",
    "def cleanStr(mystring):\n",
    "    \n",
    "    # Removing non-utf charachters with space\n",
    "    mystring = re.sub(r'[^\\x00-\\x7F]+', ' ', str(mystring).lower())\n",
    "    \n",
    "    for punctuation in punctuations_list:            \n",
    "        mystring = mystring.replace(punctuation, \"\".join(punctuation).join(\"  \"))\n",
    "        \n",
    "    # Replacing 2 dots with one    \n",
    "    mystring = mystring.replace(\"..\", \". \")\n",
    "    \n",
    "    # Removing Multiple White spaces\n",
    "    message = ' '.join(mystring.split())\n",
    "\n",
    "    return message \n"
   ]
  },
  {
   "cell_type": "markdown",
   "metadata": {},
   "source": [
    "## Load Word2Vec Trained Model"
   ]
  },
  {
   "cell_type": "code",
   "execution_count": 73,
   "metadata": {
    "collapsed": true
   },
   "outputs": [],
   "source": [
    "#model1=gensim.models.Word2Vec.load(\"D:/D drive/DataAnalytics_StudyMaterial/IIMB-BDA/ProjectZ/Iteration2/res2vecModITDomain4CBOW.w2v\")\n",
    "model2=gensim.models.Word2Vec.load(\"D:/D drive/DataAnalytics_StudyMaterial/IIMB-BDA/ProjectZ/Iteration2/res2vecModITDomain4SG.w2v\")"
   ]
  },
  {
   "cell_type": "code",
   "execution_count": 7,
   "metadata": {
    "collapsed": true
   },
   "outputs": [],
   "source": [
    "os.chdir(\"D:/D drive/DataAnalytics_StudyMaterial/IIMB-BDA/ProjectZ/Iteration2/Aujas\")"
   ]
  },
  {
   "cell_type": "markdown",
   "metadata": {},
   "source": [
    "## Define Word Mover Distance"
   ]
  },
  {
   "cell_type": "code",
   "execution_count": 72,
   "metadata": {
    "collapsed": true
   },
   "outputs": [],
   "source": [
    "def wmd(s1, s2):\n",
    "    s1 = str(s1).lower().split()\n",
    "    s2 = str(s2).lower().split()\n",
    "    stop_words = stopwords.words('english')\n",
    "    s1 = [w for w in s1 if w not in stop_words]\n",
    "    s2 = [w for w in s2 if w not in stop_words]\n",
    "    return model2.wmdistance(s1, s2)\n",
    "    #return model1.wmdistance(s1, s2)"
   ]
  },
  {
   "cell_type": "markdown",
   "metadata": {},
   "source": [
    "## Read JD, CVs & Score"
   ]
  },
  {
   "cell_type": "code",
   "execution_count": 74,
   "metadata": {
    "collapsed": false
   },
   "outputs": [
    {
     "name": "stdout",
     "output_type": "stream",
     "text": [
      "Wall time: 13.7 s\n"
     ]
    }
   ],
   "source": [
    "%%time\n",
    "itr=0\n",
    "JD=[]\n",
    "CVFilePath=[]\n",
    "CVScore=[]\n",
    "profile=[]\n",
    "for dirname, dirnames, filenames in os.walk('.'):\n",
    "    #print(dirname)\n",
    "    if(itr==0):\n",
    "        #print(itr)\n",
    "        a=1# do nothing as it is current directory\n",
    "    elif(fmod(itr,2)==0):\n",
    "        #print(itr)\n",
    "        #Subdirectory sontaining CVs\n",
    "        CV_files=glob.glob(os.path.join(dirname,\"*.*\"))\n",
    "        #print(CV_files)\n",
    "        for dfRow in range(len(CV_files)):\n",
    "            JD.append(JDText)\n",
    "            #print(JDText)\n",
    "            CVFilePath.append(CV_files[dfRow])\n",
    "            profile.append(re.findall(r\"\\\\(.*)\\\\\",CV_files[dfRow]))\n",
    "            #print(CV_files[dfRow])\n",
    "            #print(document_to_text(CV_files[dfRow],CV_files[dfRow]))\n",
    "            Cvtxt=cleanStr(document_to_text(CV_files[dfRow],CV_files[dfRow]))\n",
    "            #print(Cvtxt)\n",
    "            CVScore.append(wmd(JDText,Cvtxt))\n",
    "    else:\n",
    "        #print(itr)\n",
    "        #Subdirectory containing JD\n",
    "        JDText=document_to_text(\"Job Description.docx\",os.path.join(dirname,\"Job Description.docx\"))\n",
    "        \n",
    "    itr=itr+1\n",
    "    "
   ]
  },
  {
   "cell_type": "code",
   "execution_count": 75,
   "metadata": {
    "collapsed": true
   },
   "outputs": [],
   "source": [
    "JDArr=np.asarray(JD)\n",
    "CVFilePathArr=np.asarray(CVFilePath)\n",
    "CVScoreArr=np.asarray(CVScore)\n",
    "profileArr=np.asarray(profile)"
   ]
  },
  {
   "cell_type": "code",
   "execution_count": 76,
   "metadata": {
    "collapsed": false
   },
   "outputs": [],
   "source": [
    "finalCBOW=pd.DataFrame()#(JDArr,CVFilePathArr,CVScoreArr)\n",
    "finalSG=pd.DataFrame()"
   ]
  },
  {
   "cell_type": "code",
   "execution_count": 70,
   "metadata": {
    "collapsed": false
   },
   "outputs": [],
   "source": [
    "finalCBOW['JD']=JDArr\n",
    "finalCBOW['Profile']=profileArr\n",
    "finalCBOW['CVFilePath']=CVFilePathArr\n",
    "finalCBOW['CVScore']=CVScoreArr\n"
   ]
  },
  {
   "cell_type": "code",
   "execution_count": 77,
   "metadata": {
    "collapsed": true
   },
   "outputs": [],
   "source": [
    "finalSG['JD']=JDArr\n",
    "finalSG['Profile']=profileArr\n",
    "finalSG['CVFilePath']=CVFilePathArr\n",
    "finalSG['CVScore']=CVScoreArr"
   ]
  },
  {
   "cell_type": "code",
   "execution_count": 83,
   "metadata": {
    "collapsed": false
   },
   "outputs": [
    {
     "name": "stderr",
     "output_type": "stream",
     "text": [
      "C:\\ProgramData\\Anaconda3\\lib\\site-packages\\ipykernel\\__main__.py:1: FutureWarning: sort(columns=....) is deprecated, use sort_values(by=.....)\n",
      "  if __name__ == '__main__':\n"
     ]
    },
    {
     "data": {
      "text/html": [
       "<div>\n",
       "<table border=\"1\" class=\"dataframe\">\n",
       "  <thead>\n",
       "    <tr style=\"text-align: right;\">\n",
       "      <th></th>\n",
       "      <th>JD</th>\n",
       "      <th>Profile</th>\n",
       "      <th>CVFilePath</th>\n",
       "      <th>CVScore</th>\n",
       "    </tr>\n",
       "  </thead>\n",
       "  <tbody>\n",
       "    <tr>\n",
       "      <th>2</th>\n",
       "      <td>Job Description\\n\\nStrong programming skills i...</td>\n",
       "      <td>Python\\Resumes</td>\n",
       "      <td>.\\Python\\Resumes\\Santosh Kumar.pdf</td>\n",
       "      <td>0.449134</td>\n",
       "    </tr>\n",
       "    <tr>\n",
       "      <th>0</th>\n",
       "      <td>Job Description\\n\\nStrong programming skills i...</td>\n",
       "      <td>Python\\Resumes</td>\n",
       "      <td>.\\Python\\Resumes\\Aayush Tandon.pdf</td>\n",
       "      <td>0.470372</td>\n",
       "    </tr>\n",
       "    <tr>\n",
       "      <th>3</th>\n",
       "      <td>Job Description\\n\\nStrong programming skills i...</td>\n",
       "      <td>Python\\Resumes</td>\n",
       "      <td>.\\Python\\Resumes\\Sumit Sharma.pdf</td>\n",
       "      <td>0.550927</td>\n",
       "    </tr>\n",
       "    <tr>\n",
       "      <th>4</th>\n",
       "      <td>Job Description\\n\\nStrong programming skills i...</td>\n",
       "      <td>Python\\Resumes</td>\n",
       "      <td>.\\Python\\Resumes\\Susheel George Chandy.pdf</td>\n",
       "      <td>0.560237</td>\n",
       "    </tr>\n",
       "    <tr>\n",
       "      <th>1</th>\n",
       "      <td>Job Description\\n\\nStrong programming skills i...</td>\n",
       "      <td>Python\\Resumes</td>\n",
       "      <td>.\\Python\\Resumes\\Anand Vyas.pdf</td>\n",
       "      <td>0.636559</td>\n",
       "    </tr>\n",
       "    <tr>\n",
       "      <th>5</th>\n",
       "      <td>Job Description:\\n\\nNeed to have familiarity w...</td>\n",
       "      <td>Qradar\\Resumes</td>\n",
       "      <td>.\\Qradar\\Resumes\\Aayush Jain.doc</td>\n",
       "      <td>0.102520</td>\n",
       "    </tr>\n",
       "    <tr>\n",
       "      <th>8</th>\n",
       "      <td>Job Description:\\n\\nNeed to have familiarity w...</td>\n",
       "      <td>Qradar\\Resumes</td>\n",
       "      <td>.\\Qradar\\Resumes\\RAHUL SHARMA.doc</td>\n",
       "      <td>0.105573</td>\n",
       "    </tr>\n",
       "    <tr>\n",
       "      <th>6</th>\n",
       "      <td>Job Description:\\n\\nNeed to have familiarity w...</td>\n",
       "      <td>Qradar\\Resumes</td>\n",
       "      <td>.\\Qradar\\Resumes\\Ankur Joshi.doc</td>\n",
       "      <td>0.128946</td>\n",
       "    </tr>\n",
       "    <tr>\n",
       "      <th>7</th>\n",
       "      <td>Job Description:\\n\\nNeed to have familiarity w...</td>\n",
       "      <td>Qradar\\Resumes</td>\n",
       "      <td>.\\Qradar\\Resumes\\Gaurav Singh Chauhan.doc</td>\n",
       "      <td>0.163930</td>\n",
       "    </tr>\n",
       "    <tr>\n",
       "      <th>13</th>\n",
       "      <td>Job Description\\n\\nDesired Profile:\\n\\nFamilia...</td>\n",
       "      <td>SOC L1\\Resumes</td>\n",
       "      <td>.\\SOC L1\\Resumes\\Saranshnagaich.pdf</td>\n",
       "      <td>0.163275</td>\n",
       "    </tr>\n",
       "    <tr>\n",
       "      <th>9</th>\n",
       "      <td>Job Description\\n\\nDesired Profile:\\n\\nFamilia...</td>\n",
       "      <td>SOC L1\\Resumes</td>\n",
       "      <td>.\\SOC L1\\Resumes\\Mohd Zameer.docx</td>\n",
       "      <td>0.166234</td>\n",
       "    </tr>\n",
       "    <tr>\n",
       "      <th>10</th>\n",
       "      <td>Job Description\\n\\nDesired Profile:\\n\\nFamilia...</td>\n",
       "      <td>SOC L1\\Resumes</td>\n",
       "      <td>.\\SOC L1\\Resumes\\Naveen Sunori.docx</td>\n",
       "      <td>0.177257</td>\n",
       "    </tr>\n",
       "    <tr>\n",
       "      <th>11</th>\n",
       "      <td>Job Description\\n\\nDesired Profile:\\n\\nFamilia...</td>\n",
       "      <td>SOC L1\\Resumes</td>\n",
       "      <td>.\\SOC L1\\Resumes\\Prashant Suhas Joshi.docx</td>\n",
       "      <td>0.205887</td>\n",
       "    </tr>\n",
       "    <tr>\n",
       "      <th>12</th>\n",
       "      <td>Job Description\\n\\nDesired Profile:\\n\\nFamilia...</td>\n",
       "      <td>SOC L1\\Resumes</td>\n",
       "      <td>.\\SOC L1\\Resumes\\Rupali Anil Pawar.docx</td>\n",
       "      <td>0.260068</td>\n",
       "    </tr>\n",
       "  </tbody>\n",
       "</table>\n",
       "</div>"
      ],
      "text/plain": [
       "                                                   JD         Profile  \\\n",
       "2   Job Description\\n\\nStrong programming skills i...  Python\\Resumes   \n",
       "0   Job Description\\n\\nStrong programming skills i...  Python\\Resumes   \n",
       "3   Job Description\\n\\nStrong programming skills i...  Python\\Resumes   \n",
       "4   Job Description\\n\\nStrong programming skills i...  Python\\Resumes   \n",
       "1   Job Description\\n\\nStrong programming skills i...  Python\\Resumes   \n",
       "5   Job Description:\\n\\nNeed to have familiarity w...  Qradar\\Resumes   \n",
       "8   Job Description:\\n\\nNeed to have familiarity w...  Qradar\\Resumes   \n",
       "6   Job Description:\\n\\nNeed to have familiarity w...  Qradar\\Resumes   \n",
       "7   Job Description:\\n\\nNeed to have familiarity w...  Qradar\\Resumes   \n",
       "13  Job Description\\n\\nDesired Profile:\\n\\nFamilia...  SOC L1\\Resumes   \n",
       "9   Job Description\\n\\nDesired Profile:\\n\\nFamilia...  SOC L1\\Resumes   \n",
       "10  Job Description\\n\\nDesired Profile:\\n\\nFamilia...  SOC L1\\Resumes   \n",
       "11  Job Description\\n\\nDesired Profile:\\n\\nFamilia...  SOC L1\\Resumes   \n",
       "12  Job Description\\n\\nDesired Profile:\\n\\nFamilia...  SOC L1\\Resumes   \n",
       "\n",
       "                                    CVFilePath   CVScore  \n",
       "2           .\\Python\\Resumes\\Santosh Kumar.pdf  0.449134  \n",
       "0           .\\Python\\Resumes\\Aayush Tandon.pdf  0.470372  \n",
       "3            .\\Python\\Resumes\\Sumit Sharma.pdf  0.550927  \n",
       "4   .\\Python\\Resumes\\Susheel George Chandy.pdf  0.560237  \n",
       "1              .\\Python\\Resumes\\Anand Vyas.pdf  0.636559  \n",
       "5             .\\Qradar\\Resumes\\Aayush Jain.doc  0.102520  \n",
       "8            .\\Qradar\\Resumes\\RAHUL SHARMA.doc  0.105573  \n",
       "6             .\\Qradar\\Resumes\\Ankur Joshi.doc  0.128946  \n",
       "7    .\\Qradar\\Resumes\\Gaurav Singh Chauhan.doc  0.163930  \n",
       "13         .\\SOC L1\\Resumes\\Saranshnagaich.pdf  0.163275  \n",
       "9            .\\SOC L1\\Resumes\\Mohd Zameer.docx  0.166234  \n",
       "10         .\\SOC L1\\Resumes\\Naveen Sunori.docx  0.177257  \n",
       "11  .\\SOC L1\\Resumes\\Prashant Suhas Joshi.docx  0.205887  \n",
       "12     .\\SOC L1\\Resumes\\Rupali Anil Pawar.docx  0.260068  "
      ]
     },
     "execution_count": 83,
     "metadata": {},
     "output_type": "execute_result"
    }
   ],
   "source": [
    "finalCBOW.sort(['Profile','CVScore'])"
   ]
  },
  {
   "cell_type": "code",
   "execution_count": 84,
   "metadata": {
    "collapsed": false
   },
   "outputs": [
    {
     "name": "stderr",
     "output_type": "stream",
     "text": [
      "C:\\ProgramData\\Anaconda3\\lib\\site-packages\\ipykernel\\__main__.py:1: FutureWarning: sort(columns=....) is deprecated, use sort_values(by=.....)\n",
      "  if __name__ == '__main__':\n"
     ]
    },
    {
     "data": {
      "text/html": [
       "<div>\n",
       "<table border=\"1\" class=\"dataframe\">\n",
       "  <thead>\n",
       "    <tr style=\"text-align: right;\">\n",
       "      <th></th>\n",
       "      <th>JD</th>\n",
       "      <th>Profile</th>\n",
       "      <th>CVFilePath</th>\n",
       "      <th>CVScore</th>\n",
       "    </tr>\n",
       "  </thead>\n",
       "  <tbody>\n",
       "    <tr>\n",
       "      <th>2</th>\n",
       "      <td>Job Description\\n\\nStrong programming skills i...</td>\n",
       "      <td>Python\\Resumes</td>\n",
       "      <td>.\\Python\\Resumes\\Santosh Kumar.pdf</td>\n",
       "      <td>1.068819</td>\n",
       "    </tr>\n",
       "    <tr>\n",
       "      <th>4</th>\n",
       "      <td>Job Description\\n\\nStrong programming skills i...</td>\n",
       "      <td>Python\\Resumes</td>\n",
       "      <td>.\\Python\\Resumes\\Susheel George Chandy.pdf</td>\n",
       "      <td>1.173408</td>\n",
       "    </tr>\n",
       "    <tr>\n",
       "      <th>0</th>\n",
       "      <td>Job Description\\n\\nStrong programming skills i...</td>\n",
       "      <td>Python\\Resumes</td>\n",
       "      <td>.\\Python\\Resumes\\Aayush Tandon.pdf</td>\n",
       "      <td>1.181400</td>\n",
       "    </tr>\n",
       "    <tr>\n",
       "      <th>1</th>\n",
       "      <td>Job Description\\n\\nStrong programming skills i...</td>\n",
       "      <td>Python\\Resumes</td>\n",
       "      <td>.\\Python\\Resumes\\Anand Vyas.pdf</td>\n",
       "      <td>1.201991</td>\n",
       "    </tr>\n",
       "    <tr>\n",
       "      <th>3</th>\n",
       "      <td>Job Description\\n\\nStrong programming skills i...</td>\n",
       "      <td>Python\\Resumes</td>\n",
       "      <td>.\\Python\\Resumes\\Sumit Sharma.pdf</td>\n",
       "      <td>1.214277</td>\n",
       "    </tr>\n",
       "    <tr>\n",
       "      <th>7</th>\n",
       "      <td>Job Description:\\n\\nNeed to have familiarity w...</td>\n",
       "      <td>Qradar\\Resumes</td>\n",
       "      <td>.\\Qradar\\Resumes\\Gaurav Singh Chauhan.doc</td>\n",
       "      <td>0.608879</td>\n",
       "    </tr>\n",
       "    <tr>\n",
       "      <th>5</th>\n",
       "      <td>Job Description:\\n\\nNeed to have familiarity w...</td>\n",
       "      <td>Qradar\\Resumes</td>\n",
       "      <td>.\\Qradar\\Resumes\\Aayush Jain.doc</td>\n",
       "      <td>0.632315</td>\n",
       "    </tr>\n",
       "    <tr>\n",
       "      <th>6</th>\n",
       "      <td>Job Description:\\n\\nNeed to have familiarity w...</td>\n",
       "      <td>Qradar\\Resumes</td>\n",
       "      <td>.\\Qradar\\Resumes\\Ankur Joshi.doc</td>\n",
       "      <td>0.686100</td>\n",
       "    </tr>\n",
       "    <tr>\n",
       "      <th>8</th>\n",
       "      <td>Job Description:\\n\\nNeed to have familiarity w...</td>\n",
       "      <td>Qradar\\Resumes</td>\n",
       "      <td>.\\Qradar\\Resumes\\RAHUL SHARMA.doc</td>\n",
       "      <td>0.689415</td>\n",
       "    </tr>\n",
       "    <tr>\n",
       "      <th>10</th>\n",
       "      <td>Job Description\\n\\nDesired Profile:\\n\\nFamilia...</td>\n",
       "      <td>SOC L1\\Resumes</td>\n",
       "      <td>.\\SOC L1\\Resumes\\Naveen Sunori.docx</td>\n",
       "      <td>0.536846</td>\n",
       "    </tr>\n",
       "    <tr>\n",
       "      <th>13</th>\n",
       "      <td>Job Description\\n\\nDesired Profile:\\n\\nFamilia...</td>\n",
       "      <td>SOC L1\\Resumes</td>\n",
       "      <td>.\\SOC L1\\Resumes\\Saranshnagaich.pdf</td>\n",
       "      <td>0.601863</td>\n",
       "    </tr>\n",
       "    <tr>\n",
       "      <th>9</th>\n",
       "      <td>Job Description\\n\\nDesired Profile:\\n\\nFamilia...</td>\n",
       "      <td>SOC L1\\Resumes</td>\n",
       "      <td>.\\SOC L1\\Resumes\\Mohd Zameer.docx</td>\n",
       "      <td>0.608851</td>\n",
       "    </tr>\n",
       "    <tr>\n",
       "      <th>12</th>\n",
       "      <td>Job Description\\n\\nDesired Profile:\\n\\nFamilia...</td>\n",
       "      <td>SOC L1\\Resumes</td>\n",
       "      <td>.\\SOC L1\\Resumes\\Rupali Anil Pawar.docx</td>\n",
       "      <td>0.625843</td>\n",
       "    </tr>\n",
       "    <tr>\n",
       "      <th>11</th>\n",
       "      <td>Job Description\\n\\nDesired Profile:\\n\\nFamilia...</td>\n",
       "      <td>SOC L1\\Resumes</td>\n",
       "      <td>.\\SOC L1\\Resumes\\Prashant Suhas Joshi.docx</td>\n",
       "      <td>0.798021</td>\n",
       "    </tr>\n",
       "  </tbody>\n",
       "</table>\n",
       "</div>"
      ],
      "text/plain": [
       "                                                   JD         Profile  \\\n",
       "2   Job Description\\n\\nStrong programming skills i...  Python\\Resumes   \n",
       "4   Job Description\\n\\nStrong programming skills i...  Python\\Resumes   \n",
       "0   Job Description\\n\\nStrong programming skills i...  Python\\Resumes   \n",
       "1   Job Description\\n\\nStrong programming skills i...  Python\\Resumes   \n",
       "3   Job Description\\n\\nStrong programming skills i...  Python\\Resumes   \n",
       "7   Job Description:\\n\\nNeed to have familiarity w...  Qradar\\Resumes   \n",
       "5   Job Description:\\n\\nNeed to have familiarity w...  Qradar\\Resumes   \n",
       "6   Job Description:\\n\\nNeed to have familiarity w...  Qradar\\Resumes   \n",
       "8   Job Description:\\n\\nNeed to have familiarity w...  Qradar\\Resumes   \n",
       "10  Job Description\\n\\nDesired Profile:\\n\\nFamilia...  SOC L1\\Resumes   \n",
       "13  Job Description\\n\\nDesired Profile:\\n\\nFamilia...  SOC L1\\Resumes   \n",
       "9   Job Description\\n\\nDesired Profile:\\n\\nFamilia...  SOC L1\\Resumes   \n",
       "12  Job Description\\n\\nDesired Profile:\\n\\nFamilia...  SOC L1\\Resumes   \n",
       "11  Job Description\\n\\nDesired Profile:\\n\\nFamilia...  SOC L1\\Resumes   \n",
       "\n",
       "                                    CVFilePath   CVScore  \n",
       "2           .\\Python\\Resumes\\Santosh Kumar.pdf  1.068819  \n",
       "4   .\\Python\\Resumes\\Susheel George Chandy.pdf  1.173408  \n",
       "0           .\\Python\\Resumes\\Aayush Tandon.pdf  1.181400  \n",
       "1              .\\Python\\Resumes\\Anand Vyas.pdf  1.201991  \n",
       "3            .\\Python\\Resumes\\Sumit Sharma.pdf  1.214277  \n",
       "7    .\\Qradar\\Resumes\\Gaurav Singh Chauhan.doc  0.608879  \n",
       "5             .\\Qradar\\Resumes\\Aayush Jain.doc  0.632315  \n",
       "6             .\\Qradar\\Resumes\\Ankur Joshi.doc  0.686100  \n",
       "8            .\\Qradar\\Resumes\\RAHUL SHARMA.doc  0.689415  \n",
       "10         .\\SOC L1\\Resumes\\Naveen Sunori.docx  0.536846  \n",
       "13         .\\SOC L1\\Resumes\\Saranshnagaich.pdf  0.601863  \n",
       "9            .\\SOC L1\\Resumes\\Mohd Zameer.docx  0.608851  \n",
       "12     .\\SOC L1\\Resumes\\Rupali Anil Pawar.docx  0.625843  \n",
       "11  .\\SOC L1\\Resumes\\Prashant Suhas Joshi.docx  0.798021  "
      ]
     },
     "execution_count": 84,
     "metadata": {},
     "output_type": "execute_result"
    }
   ],
   "source": [
    "finalSG.sort(['Profile','CVScore'])"
   ]
  },
  {
   "cell_type": "code",
   "execution_count": 64,
   "metadata": {
    "collapsed": false
   },
   "outputs": [
    {
     "name": "stdout",
     "output_type": "stream",
     "text": [
      "['Python\\\\Resumes']\n",
      ".\\Python\\Resumes\\Aayush Tandon.pdf\n"
     ]
    }
   ],
   "source": [
    "mystring = CVFilePath[0]\n",
    "#mystring=\".\\Qradar\\Resumes\"\n",
    "#mystring[ mystring.find(\"\\\\\")+1 : mystring.find(\"\\\\\") ]\n",
    "match1 = re.findall(r\"\\\\(.*)\\\\\",mystring)\n",
    "print (match1)#.group(0))\n",
    "#for mt in match1:\n",
    " #   print(mt[0])\n",
    "print(mystring)"
   ]
  },
  {
   "cell_type": "code",
   "execution_count": 138,
   "metadata": {
    "collapsed": false
   },
   "outputs": [
    {
     "name": "stdout",
     "output_type": "stream",
     "text": [
      "InfoNeeded\n"
     ]
    }
   ],
   "source": [
    "stri = \"foobar['InfoNeeded'],]\"\n",
    "match = re.match(r\"^.*\\['(.*)'\\].*$\",stri)\n",
    "print (match.group(1))"
   ]
  },
  {
   "cell_type": "code",
   "execution_count": null,
   "metadata": {
    "collapsed": true
   },
   "outputs": [],
   "source": []
  }
 ],
 "metadata": {
  "kernelspec": {
   "display_name": "Python 3",
   "language": "python",
   "name": "python3"
  },
  "language_info": {
   "codemirror_mode": {
    "name": "ipython",
    "version": 3
   },
   "file_extension": ".py",
   "mimetype": "text/x-python",
   "name": "python",
   "nbconvert_exporter": "python",
   "pygments_lexer": "ipython3",
   "version": "3.6.0"
  }
 },
 "nbformat": 4,
 "nbformat_minor": 2
}
