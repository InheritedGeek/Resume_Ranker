{
 "cells": [
  {
   "cell_type": "code",
   "execution_count": 3,
   "metadata": {
    "collapsed": true
   },
   "outputs": [],
   "source": [
    "from __future__ import absolute_import, division, print_function"
   ]
  },
  {
   "cell_type": "code",
   "execution_count": 4,
   "metadata": {
    "collapsed": true
   },
   "outputs": [],
   "source": [
    "import codecs\n",
    "import glob\n",
    "import logging\n",
    "import multiprocessing\n",
    "import os\n",
    "import pprint\n",
    "import re"
   ]
  },
  {
   "cell_type": "code",
   "execution_count": 5,
   "metadata": {
    "collapsed": false
   },
   "outputs": [
    {
     "name": "stderr",
     "output_type": "stream",
     "text": [
      "C:\\ProgramData\\Anaconda3\\lib\\site-packages\\gensim\\utils.py:860: UserWarning: detected Windows; aliasing chunkize to chunkize_serial\n",
      "  warnings.warn(\"detected Windows; aliasing chunkize to chunkize_serial\")\n"
     ]
    }
   ],
   "source": [
    "import nltk\n",
    "import gensim.models.word2vec as w2v\n",
    "import sklearn.manifold\n",
    "import numpy as np\n",
    "import matplotlib.pyplot as plt\n",
    "import pandas as pd\n",
    "import seaborn as sns"
   ]
  },
  {
   "cell_type": "code",
   "execution_count": 18,
   "metadata": {
    "collapsed": true
   },
   "outputs": [],
   "source": [
    "from subprocess import Popen, PIPE\n",
    "from docx import Document\n",
    "import pdfminer\n",
    "from pdfminer.pdfinterp import PDFResourceManager, PDFPageInterpreter\n",
    "from pdfminer.pdfpage import PDFPage\n",
    "from pdfminer.converter import TextConverter\n",
    "from pdfminer.layout import LAParams\n",
    "from io import StringIO\n",
    "\n",
    "from docx import Document\n",
    "from docx.document import Document as _Document\n",
    "from docx.oxml.text.paragraph import CT_P\n",
    "from docx.oxml.table import CT_Tbl\n",
    "from docx.table import _Cell, Table\n",
    "from docx.text.paragraph import Paragraph"
   ]
  },
  {
   "cell_type": "code",
   "execution_count": 7,
   "metadata": {
    "collapsed": false
   },
   "outputs": [
    {
     "name": "stdout",
     "output_type": "stream",
     "text": [
      "Populating the interactive namespace from numpy and matplotlib\n"
     ]
    }
   ],
   "source": [
    "%pylab inline"
   ]
  },
  {
   "cell_type": "code",
   "execution_count": 10,
   "metadata": {
    "collapsed": false
   },
   "outputs": [
    {
     "data": {
      "text/plain": [
       "'D:\\\\D drive\\\\DataAnalytics_StudyMaterial\\\\IIMB-BDA\\\\ProjectZ\\\\Iteration2\\\\Case Writer-Applications\\\\Data'"
      ]
     },
     "execution_count": 10,
     "metadata": {},
     "output_type": "execute_result"
    }
   ],
   "source": [
    "os.getcwd()"
   ]
  },
  {
   "cell_type": "code",
   "execution_count": 119,
   "metadata": {
    "collapsed": true
   },
   "outputs": [],
   "source": [
    "os.chdir('D:\\\\D drive\\\\DataAnalytics_StudyMaterial\\\\IIMB-BDA\\\\ProjectZ\\\\Iteration2\\\\IIM')\n",
    "#os.chdir('D:/D drive/DataAnalytics_StudyMaterial/IIMB-BDA/ProjectZ/Iteration2/Case Writer-Applications/Data')"
   ]
  },
  {
   "cell_type": "markdown",
   "metadata": {},
   "source": [
    "## Convert pdf to text"
   ]
  },
  {
   "cell_type": "code",
   "execution_count": 11,
   "metadata": {
    "collapsed": true
   },
   "outputs": [],
   "source": [
    "#Function to convert pdf to text\n",
    "def convert_pdf_to_txt(path):\n",
    "    rsrcmgr = PDFResourceManager()\n",
    "    retstr = StringIO()\n",
    "    codec = 'utf-8'\n",
    "    laparams = LAParams()\n",
    "    device = TextConverter(rsrcmgr, retstr, codec=codec, laparams=laparams)\n",
    "    fp = open(path, 'rb')\n",
    "    interpreter = PDFPageInterpreter(rsrcmgr, device)\n",
    "    password = \"\"\n",
    "    maxpages = 0\n",
    "    caching = True\n",
    "    pagenos=set()\n",
    "    for page in PDFPage.get_pages(fp, pagenos, maxpages=maxpages, password=password,caching=caching, check_extractable=True):\n",
    "        interpreter.process_page(page)\n",
    "    fp.close()\n",
    "    device.close()\n",
    "    str1 = retstr.getvalue()\n",
    "    retstr.close()\n",
    "    return str1"
   ]
  },
  {
   "cell_type": "markdown",
   "metadata": {},
   "source": [
    "## Read all docx blocks"
   ]
  },
  {
   "cell_type": "code",
   "execution_count": 12,
   "metadata": {
    "collapsed": true
   },
   "outputs": [],
   "source": [
    "#Read All Docx\n",
    "def iter_block_items(parent):\n",
    "    \"\"\"\n",
    "    Generate a reference to each paragraph and table child within *parent*,\n",
    "    in document order. Each returned value is an instance of either Table or\n",
    "    Paragraph. *parent* would most commonly be a reference to a main\n",
    "    Document object, but also works for a _Cell object, which itself can\n",
    "    contain paragraphs and tables.\n",
    "    \"\"\"\n",
    "    if isinstance(parent, _Document):\n",
    "        parent_elm = parent.element.body\n",
    "        # print(parent_elm.xml)\n",
    "    elif isinstance(parent, _Cell):\n",
    "        parent_elm = parent._tc\n",
    "    else:\n",
    "        raise ValueError(\"something's not right\")\n",
    "\n",
    "    for child in parent_elm.iterchildren():\n",
    "        if isinstance(child, CT_P):\n",
    "            yield Paragraph(child, parent)\n",
    "        elif isinstance(child, CT_Tbl):\n",
    "            yield Table(child, parent)"
   ]
  },
  {
   "cell_type": "markdown",
   "metadata": {},
   "source": [
    "## Convert Document to Text including PDF - Function"
   ]
  },
  {
   "cell_type": "code",
   "execution_count": 13,
   "metadata": {
    "collapsed": true
   },
   "outputs": [],
   "source": [
    "#Function to convert doc formats (like .doc, .docx, .odt) to text\n",
    "def document_to_text(filename, file_path):\n",
    "    if filename[-4:] == \".doc\":\n",
    "        cmd = ['C:/antiword/antiword', file_path] #use antiword command\n",
    "        p = Popen(cmd, stdout=PIPE)\n",
    "        stdout, stderr = p.communicate()\n",
    "        return stdout.decode('ascii', 'ignore')\n",
    "    elif filename[-5:] == \".docx\":\n",
    "        doc = Document(file_path)\n",
    "        fullText = []\n",
    "        para_ix=0\n",
    "        tbl_ix=0\n",
    "        for block in iter_block_items(doc):\n",
    "            block_type=block.__class__.__name__\n",
    "            if block_type=='Table':\n",
    "                for row in doc.tables[tbl_ix].rows:\n",
    "                    for cell in row.cells:\n",
    "                        for paracell in cell.paragraphs:\n",
    "                            fullText.append(paracell.text)\n",
    "                tbl_ix+=1\n",
    "            elif block_type=='Paragraph':\n",
    "                fullText.append(doc.paragraphs[para_ix].text)\n",
    "                para_ix+=1\n",
    "        return '\\n'.join(fullText)\n",
    "    elif filename[-4:] == \".odt\":\n",
    "        cmd = ['odt2txt', file_path]\n",
    "        p = Popen(cmd, stdout=PIPE)\n",
    "        stdout, stderr = p.communicate()\n",
    "        return stdout.decode('ascii', 'ignore')\n",
    "    elif filename[-4:] == \".pdf\":\n",
    "        return convert_pdf_to_txt(file_path)"
   ]
  },
  {
   "cell_type": "markdown",
   "metadata": {},
   "source": [
    "## Data Cleaner"
   ]
  },
  {
   "cell_type": "code",
   "execution_count": 20,
   "metadata": {
    "collapsed": true
   },
   "outputs": [],
   "source": [
    "import pandas as pd\n",
    "import re\n",
    "\n",
    "punctuations_list = [',', '?', ':', ';', '!', ')', '(', '\\'','\"','*','/','<','>','{','}','[',']']\n",
    "\n",
    "def cleanStr(mystring):\n",
    "    \n",
    "    # Removing non-utf charachters with space\n",
    "    mystring = re.sub(r'[^\\x00-\\x7F]+', ' ', str(mystring).lower())\n",
    "    \n",
    "    for punctuation in punctuations_list:            \n",
    "        mystring = mystring.replace(punctuation, \"\".join(punctuation).join(\"  \"))\n",
    "        \n",
    "    # Replacing 2 dots with one    \n",
    "    mystring = mystring.replace(\"..\", \". \")\n",
    "    \n",
    "    # Removing Multiple White spaces\n",
    "    message = ' '.join(mystring.split())\n",
    "\n",
    "    return message "
   ]
  },
  {
   "cell_type": "code",
   "execution_count": 14,
   "metadata": {
    "collapsed": true
   },
   "outputs": [],
   "source": [
    "logging.basicConfig(format='%(asctime)s : %(levelname)s : %(message)s', level=logging.INFO)"
   ]
  },
  {
   "cell_type": "markdown",
   "metadata": {},
   "source": [
    "## Prepare Corpus"
   ]
  },
  {
   "cell_type": "code",
   "execution_count": 120,
   "metadata": {
    "collapsed": false
   },
   "outputs": [
    {
     "data": {
      "text/plain": [
       "'D:\\\\D drive\\\\DataAnalytics_StudyMaterial\\\\IIMB-BDA\\\\ProjectZ\\\\Iteration2\\\\IIM'"
      ]
     },
     "execution_count": 120,
     "metadata": {},
     "output_type": "execute_result"
    }
   ],
   "source": [
    "os.getcwd()"
   ]
  },
  {
   "cell_type": "code",
   "execution_count": 121,
   "metadata": {
    "collapsed": true
   },
   "outputs": [],
   "source": [
    "resume_filenames = sorted(glob.glob(\"*.*\"))"
   ]
  },
  {
   "cell_type": "code",
   "execution_count": 122,
   "metadata": {
    "collapsed": false
   },
   "outputs": [
    {
     "name": "stdout",
     "output_type": "stream",
     "text": [
      "Found Resumes:\n"
     ]
    },
    {
     "data": {
      "text/plain": [
       "['AmitBats[6_0].doc',\n",
       " 'BalakrishnaReddyS[4_6].docx',\n",
       " 'Bharath-Paturi-CV.pdf',\n",
       " 'CURRENT_022017_Santosh kumartoleti_Resume_f0fb3c53-c308-4f86-b335-b05ebd2cccc9_SantoshkumarToleti2_6.docx',\n",
       " 'CURRENT_032017_BhaktiSubhash Naik_Resume_cf61cd93-ff05-4fc4-85ec-42301b5456f5_BhaktiSubhashNaik4_9.doc',\n",
       " 'CURRENT_032017_Daljeet Singh DuggalDUGGAL_Resume_adb59f9d-a2e4-46b8-abdc-375b61107dc5_DaljeetSinghDuggal6_0.docx',\n",
       " 'CURRENT_032017_DishantPatel_Resume_f88c74e3-8545-4156-a708-8d093885288e_DishantPatel6_0.docx',\n",
       " 'CURRENT_032017_HIRALPARMAR_Resume_3e8d6f3d-2b01-4603-8a09-12a840772afc_hiral2_0.pdf',\n",
       " 'CURRENT_032017_SHALINISHALINI K_Resume_e49f1c7b-d151-44b9-9afe-b774a6852495_SHALINIK2_7.docx',\n",
       " 'CURRENT_032017_SandeeV S_Resume_2cd5e682-f1f0-4d95-9483-57a25f6965c0_SandeeVS4_3.doc',\n",
       " 'CURRENT_032017_SnehlataKumari_Resume_2224bb2b-a3f9-4083-9d5d-5b0a158be3fc_SnehlataKumari2_8.doc',\n",
       " 'CURRENT_032017_ravisankar_Resume_f243d558-3e41-4fa6-a67d-f324fb19b2d6_ravisankar4_5.doc',\n",
       " 'CURRENT_032017_umashankar_Resume_77f65cee-4bce-4d83-9103-cc47c019eb96_umashankar11_0 (1).doc',\n",
       " 'CURRENT_032017_yerramanenikoteswararao_Resume_560553c9-3c04-49c3-8702-a53b153ddb22_yerramanenikoteswararao5_2.docx',\n",
       " 'CURRENT_042017_KARANVIRSINGH_Resume_24452b3d-e135-415d-b99e-a7c8a40d8891_KaranvirSingh2_2.docx',\n",
       " 'CURRENT_042017_SAGARDEWAN_Resume_1161c5a0-f1f9-4c5e-a9d3-d79d1ebbc32d_SAGARDEWAN2_4.docx',\n",
       " 'CURRENT_042017_SethuramKishore Ch_Resume_514570f0-3c55-4382-96f1-65f9a73bf119_Sethuram9_0.doc',\n",
       " 'CURRENT_052017_ASHISHJAIN_Resume_02667350-11d5-471d-b3fd-a0c3d8c0d3e7_ASHISHJAIN2_6.docx',\n",
       " 'CURRENT_052017_DeepanjanGhosh_Resume_ccd2dad2-b2cd-4ae9-95e4-859c0896fa8e_DeepanjanGhosh3_4.docx',\n",
       " 'CURRENT_052017_DineshReddy_Resume_553992ad-15ce-45cb-844d-95afffa7ff4f_3_1.docx',\n",
       " 'CURRENT_052017_HarikrishnaPalla_Resume_0b50617e-97f1-4b22-94c1-0fa51548daa2_harikrishnapalla5_0.doc',\n",
       " 'CURRENT_052017_LaliteshUpadhyaya_Resume_9db2850b-a607-4a84-899d-1b0f9a0a8459_LaliteshUpadhyaya4_6.docx',\n",
       " 'CURRENT_052017_NISHTHASHRIVASTAVA_Resume_c162f248-0fd9-4c0c-97b0-c22782d9cba1_NISHTHASHRIVASTAVA2_1.docx',\n",
       " 'CURRENT_052017_PHANI TEJAYELLAPRAGADA VISAKHA_Resume_a72368b8-befc-4686-afdf-e2cf26735238_PhaniTeja3_5.docx',\n",
       " 'CURRENT_052017_RagunathanAnnadurai_Resume_3a1aca2d-751e-45b8-8975-69a310116353_RagunathanAnnadurai3_6.docx',\n",
       " 'CURRENT_052017_SAIKUMARKADA_Resume_a80bc2c6-71f8-4336-b4d9-7a8de2899966_KSaiKumar4_2.pdf',\n",
       " 'CURRENT_052017_SaradhiPoluru_Resume_96f4e1db-a0b4-4d86-b78a-15737964766e_Saradhi3_3.docx',\n",
       " 'CURRENT_052017_SaranSaran Kumar_Resume_3fa61230-f101-46b3-9cc4-b64192da89fd_SaranKumar4_0.doc',\n",
       " 'CURRENT_052017_Shaikh ShadmaWarsi_Resume_af9ac017-9ce8-4e1b-b6c9-73d21feb820d_ShaikhShadmaWarsi3_3.docx',\n",
       " 'CURRENT_052017_VIVEK KUMAR REDDYMUDUGANTI_Resume_f9d5afc7-1ddc-4702-9a6e-d6775cf9f68f_VivekReddy3_0.doc',\n",
       " 'CURRENT_052017_YeshasMandya Devaraju_Resume_3fbd57d9-cd9e-4d75-bfad-38f1c526b427_YeshasMD4_3.docx',\n",
       " 'CURRENT_052017_lakshmiprasad_Resume_1111a5b8-bac2-4e92-97f7-12ac4ea82ca4_lakshmiprasad4_0.doc',\n",
       " 'CURRENT_052017_usharani_Resume_651d8412-2f0a-4908-a641-2c802d432158_Usha3_2.docx',\n",
       " 'CURRENT_102016_PraphullaKumbhar_Resume_180a15b7-da2e-41d3-8238-28af8bd8000e_PraphullaKumbhar9_0.doc',\n",
       " 'CURRENT_122016_BhagyashriKulkarni_Resume_7255583c-6e60-475a-ada2-4e9e2e64e159_BhagyashriKulkarni4_1.doc',\n",
       " 'CURRENT_122016_ShikhaSelot_Resume_834060f4-f4c0-498b-9b20-f1da5911bb52_ShikhaSelot5_0.docx',\n",
       " 'Charlotte.docx',\n",
       " 'ETL Informatica Resume 1.docx',\n",
       " 'Ganesh[5_0].doc',\n",
       " 'Java Resume 1.docx',\n",
       " 'Java and Python Resume.pdf',\n",
       " 'John Paul.docx',\n",
       " 'Mohit Patra.docx',\n",
       " 'Munish-Kaushik - 2017.docx',\n",
       " 'NagendraSwami[2_0].docx',\n",
       " 'New York.docx',\n",
       " 'PrasannaKumar.docx',\n",
       " 'Raj Malhotra.docx',\n",
       " 'RajashekharaiahM[4_0].docx',\n",
       " 'Rajesh[6_0].docx',\n",
       " 'Resume Masters.pdf',\n",
       " 'RohitKhanna.docx',\n",
       " 'SQL Server Visual Basic Resume 1.docx',\n",
       " 'SWETA[2_11].pdf',\n",
       " 'Sahib Singh.docx',\n",
       " 'Senior Java Dev Resume 2.docx',\n",
       " 'Shwetarathore[5_0].docx',\n",
       " 'Sumit Shastry.docx',\n",
       " 'Sunil Kumar Petluri1.pdf',\n",
       " 'Teradata Resume 2.docx',\n",
       " 'Terdata Resume 1.docx',\n",
       " 'VNPoornimaDeviS[4_7].docx',\n",
       " 'Venkatesh[4_1].doc',\n",
       " 'kishorekumar.docx',\n",
       " 'punitSingh.docx']"
      ]
     },
     "execution_count": 122,
     "metadata": {},
     "output_type": "execute_result"
    }
   ],
   "source": [
    "print(\"Found Resumes:\")\n",
    "resume_filenames"
   ]
  },
  {
   "cell_type": "code",
   "execution_count": 123,
   "metadata": {
    "collapsed": false
   },
   "outputs": [
    {
     "name": "stderr",
     "output_type": "stream",
     "text": [
      "2017-07-01 19:11:59,998 : INFO : xref found: pos=b'419831'\n",
      "2017-07-01 19:12:00,000 : INFO : read_xref_from: start=419831, token=/b'xref'\n",
      "2017-07-01 19:12:00,003 : INFO : xref objects: {}\n",
      "2017-07-01 19:12:00,007 : INFO : trailer: {'Size': 171, 'Root': <PDFObjRef:1>, 'Info': <PDFObjRef:145>, 'ID': [b'\\x0e\\x1d\\xc1\\xc1\\xfb\\xd0\\xbbF\\x9c\\xac\\xa0\\xdb\\xf4\\xa2\\xc4\\xad', b'\\x0e\\x1d\\xc1\\xc1\\xfb\\xd0\\xbbF\\x9c\\xac\\xa0\\xdb\\xf4\\xa2\\xc4\\xad'], 'Prev': 416250, 'XRefStm': 415611}\n",
      "2017-07-01 19:12:00,009 : INFO : read_xref_from: start=415611, token=170\n",
      "2017-07-01 19:12:00,013 : INFO : xref stream: objid=(0, 170), fields=1,4,2\n",
      "2017-07-01 19:12:00,015 : INFO : trailer: {'Type': /'XRef', 'Size': 170, 'W': [1, 4, 2], 'Root': <PDFObjRef:1>, 'Info': <PDFObjRef:145>, 'ID': [b'\\x0e\\x1d\\xc1\\xc1\\xfb\\xd0\\xbbF\\x9c\\xac\\xa0\\xdb\\xf4\\xa2\\xc4\\xad', b'\\x0e\\x1d\\xc1\\xc1\\xfb\\xd0\\xbbF\\x9c\\xac\\xa0\\xdb\\xf4\\xa2\\xc4\\xad'], 'Filter': /'FlateDecode', 'Length': 435}\n",
      "2017-07-01 19:12:00,017 : INFO : read_xref_from: start=416250, token=/b'xref'\n",
      "2017-07-01 19:12:00,021 : INFO : xref objects: {1: (None, 17, 0), 2: (None, 168, 0), 3: (None, 224, 0), 4: (None, 612, 0), 5: (None, 6516, 0), 6: (None, 6569, 0), 7: (None, 6622, 0), 8: (None, 6795, 0), 9: (None, 7039, 0), 10: (None, 7208, 0), 11: (None, 7448, 0), 12: (None, 7618, 0), 13: (None, 7859, 0), 14: (None, 8024, 0), 15: (None, 8201, 0), 16: (None, 8460, 0), 17: (None, 8629, 0), 18: (None, 8861, 0), 19: (None, 9024, 0), 20: (None, 9251, 0), 21: (None, 9433, 0), 22: (None, 9697, 0), 23: (None, 9828, 0), 24: (None, 9858, 0), 25: (None, 10017, 0), 26: (None, 10091, 0), 27: (None, 10341, 0), 28: (None, 10468, 0), 29: (None, 10498, 0), 30: (None, 10653, 0), 31: (None, 10727, 0), 32: (None, 10960, 0), 33: (None, 11104, 0), 34: (None, 11134, 0), 35: (None, 11306, 0), 36: (None, 11380, 0), 37: (None, 11644, 0), 38: (None, 11821, 0), 82: (None, 13686, 0), 87: (None, 13736, 0), 92: (None, 13786, 0), 97: (None, 13836, 0), 145: (None, 13886, 0), 146: (None, 14091, 0), 147: (None, 14353, 0), 148: (None, 49349, 0), 149: (None, 49630, 0), 150: (None, 91607, 0), 151: (None, 91635, 0), 152: (None, 170174, 0), 153: (None, 170490, 0), 154: (None, 192247, 0), 155: (None, 192547, 0), 156: (None, 275755, 0), 157: (None, 276074, 0), 158: (None, 276362, 0), 159: (None, 276390, 0), 160: (None, 276690, 0), 161: (None, 294517, 0), 162: (None, 294797, 0), 163: (None, 295075, 0), 164: (None, 295377, 0), 165: (None, 307689, 0), 166: (None, 307733, 0), 167: (None, 307973, 0), 168: (None, 412492, 0), 169: (None, 415565, 0), 170: (None, 415611, 0)}\n",
      "2017-07-01 19:12:00,025 : INFO : trailer: {'Size': 171, 'Root': <PDFObjRef:1>, 'Info': <PDFObjRef:145>, 'ID': [b'\\x0e\\x1d\\xc1\\xc1\\xfb\\xd0\\xbbF\\x9c\\xac\\xa0\\xdb\\xf4\\xa2\\xc4\\xad', b'\\x0e\\x1d\\xc1\\xc1\\xfb\\xd0\\xbbF\\x9c\\xac\\xa0\\xdb\\xf4\\xa2\\xc4\\xad']}\n"
     ]
    },
    {
     "name": "stdout",
     "output_type": "stream",
     "text": [
      "Reading 'AmitBats[6_0].doc'...\n",
      "Corpus is now 14433 characters long\n",
      "\n",
      "Reading 'BalakrishnaReddyS[4_6].docx'...\n",
      "Corpus is now 22915 characters long\n",
      "\n",
      "Reading 'Bharath-Paturi-CV.pdf'...\n"
     ]
    },
    {
     "name": "stderr",
     "output_type": "stream",
     "text": [
      "2017-07-01 19:12:00,314 : INFO : trailer: {'Size': 171, 'Root': <PDFObjRef:1>, 'Info': <PDFObjRef:145>, 'ID': [b'\\x0e\\x1d\\xc1\\xc1\\xfb\\xd0\\xbbF\\x9c\\xac\\xa0\\xdb\\xf4\\xa2\\xc4\\xad', b'\\x0e\\x1d\\xc1\\xc1\\xfb\\xd0\\xbbF\\x9c\\xac\\xa0\\xdb\\xf4\\xa2\\xc4\\xad']}\n",
      "2017-07-01 19:12:00,321 : INFO : Pages: Kids=[<PDFObjRef:3>]\n",
      "2017-07-01 19:12:00,338 : INFO : Page: {'Type': /'Page', 'Parent': <PDFObjRef:2>, 'Resources': {'ExtGState': {'GS5': <PDFObjRef:5>, 'GS6': <PDFObjRef:6>}, 'Font': {'F1': <PDFObjRef:7>, 'F2': <PDFObjRef:9>, 'F3': <PDFObjRef:11>, 'F4': <PDFObjRef:14>, 'F5': <PDFObjRef:16>, 'F6': <PDFObjRef:18>, 'F7': <PDFObjRef:20>, 'F8': <PDFObjRef:22>, 'F9': <PDFObjRef:27>, 'F10': <PDFObjRef:32>, 'F11': <PDFObjRef:37>}, 'ProcSet': [/'PDF', /'Text', /'ImageB', /'ImageC', /'ImageI']}, 'Annots': [<PDFObjRef:13>], 'MediaBox': [0, 0, 596.04, 842.04], 'Contents': <PDFObjRef:4>, 'Group': {'Type': /'Group', 'S': /'Transparency', 'CS': /'DeviceRGB'}, 'Tabs': /'S', 'StructParents': 0}\n",
      "2017-07-01 19:12:00,345 : INFO : Processing page: <PDFPage: Resources={'ExtGState': {'GS5': <PDFObjRef:5>, 'GS6': <PDFObjRef:6>}, 'Font': {'F1': <PDFObjRef:7>, 'F2': <PDFObjRef:9>, 'F3': <PDFObjRef:11>, 'F4': <PDFObjRef:14>, 'F5': <PDFObjRef:16>, 'F6': <PDFObjRef:18>, 'F7': <PDFObjRef:20>, 'F8': <PDFObjRef:22>, 'F9': <PDFObjRef:27>, 'F10': <PDFObjRef:32>, 'F11': <PDFObjRef:37>}, 'ProcSet': [/'PDF', /'Text', /'ImageB', /'ImageC', /'ImageI']}, MediaBox=[0, 0, 596.04, 842.04]>\n",
      "2017-07-01 19:12:00,347 : INFO : render_contents: resources={'ExtGState': {'GS5': <PDFObjRef:5>, 'GS6': <PDFObjRef:6>}, 'Font': {'F1': <PDFObjRef:7>, 'F2': <PDFObjRef:9>, 'F3': <PDFObjRef:11>, 'F4': <PDFObjRef:14>, 'F5': <PDFObjRef:16>, 'F6': <PDFObjRef:18>, 'F7': <PDFObjRef:20>, 'F8': <PDFObjRef:22>, 'F9': <PDFObjRef:27>, 'F10': <PDFObjRef:32>, 'F11': <PDFObjRef:37>}, 'ProcSet': [/'PDF', /'Text', /'ImageB', /'ImageC', /'ImageI']}, streams=[<PDFStream(4): raw=5831, {'Filter': /'FlateDecode', 'Length': 5829}>], ctm=(1, 0, 0, 1, 0, 0)\n",
      "2017-07-01 19:12:00,350 : INFO : get_font: create: objid=7, spec={'Type': /'Font', 'Subtype': /'TrueType', 'Name': /'F1', 'BaseFont': /'BCDEEE+TrebuchetMS', 'Encoding': /'WinAnsiEncoding', 'FontDescriptor': <PDFObjRef:8>, 'FirstChar': 32, 'LastChar': 121, 'Widths': <PDFObjRef:146>}\n",
      "2017-07-01 19:12:00,361 : INFO : get_font: create: objid=9, spec={'Type': /'Font', 'Subtype': /'TrueType', 'Name': /'F2', 'BaseFont': /'BCDFEE+Corbel', 'Encoding': /'WinAnsiEncoding', 'FontDescriptor': <PDFObjRef:10>, 'FirstChar': 32, 'LastChar': 117, 'Widths': <PDFObjRef:148>}\n",
      "2017-07-01 19:12:00,368 : INFO : get_font: create: objid=11, spec={'Type': /'Font', 'Subtype': /'TrueType', 'Name': /'F3', 'BaseFont': /'BCDGEE+Calibri', 'Encoding': /'WinAnsiEncoding', 'FontDescriptor': <PDFObjRef:12>, 'FirstChar': 32, 'LastChar': 32, 'Widths': <PDFObjRef:150>}\n",
      "2017-07-01 19:12:00,377 : INFO : get_font: create: objid=14, spec={'Type': /'Font', 'Subtype': /'TrueType', 'Name': /'F4', 'BaseFont': /'BCDHEE+CenturyGothic', 'Encoding': /'WinAnsiEncoding', 'FontDescriptor': <PDFObjRef:15>, 'FirstChar': 32, 'LastChar': 121, 'Widths': <PDFObjRef:152>}\n",
      "2017-07-01 19:12:00,386 : INFO : get_font: create: objid=16, spec={'Type': /'Font', 'Subtype': /'TrueType', 'Name': /'F5', 'BaseFont': /'Arial-BoldMT', 'Encoding': /'WinAnsiEncoding', 'FontDescriptor': <PDFObjRef:17>, 'FirstChar': 32, 'LastChar': 121, 'Widths': <PDFObjRef:157>}\n",
      "2017-07-01 19:12:00,400 : INFO : get_font: create: objid=18, spec={'Type': /'Font', 'Subtype': /'TrueType', 'Name': /'F6', 'BaseFont': /'ArialMT', 'Encoding': /'WinAnsiEncoding', 'FontDescriptor': <PDFObjRef:19>, 'FirstChar': 32, 'LastChar': 32, 'Widths': <PDFObjRef:158>}\n",
      "2017-07-01 19:12:00,407 : INFO : get_font: create: objid=20, spec={'Type': /'Font', 'Subtype': /'TrueType', 'Name': /'F7', 'BaseFont': /'BCDIEE+CenturyGothic-Bold', 'Encoding': /'WinAnsiEncoding', 'FontDescriptor': <PDFObjRef:21>, 'FirstChar': 32, 'LastChar': 121, 'Widths': <PDFObjRef:162>}\n",
      "2017-07-01 19:12:00,416 : INFO : get_font: create: objid=22, spec={'Type': /'Font', 'Subtype': /'Type0', 'BaseFont': /'Arial-BoldMT', 'Encoding': /'Identity-H', 'DescendantFonts': <PDFObjRef:23>, 'ToUnicode': <PDFObjRef:154>}\n",
      "2017-07-01 19:12:00,423 : INFO : get_font: create: objid=None, spec={'BaseFont': /'Arial-BoldMT', 'Subtype': /'CIDFontType2', 'Type': /'Font', 'CIDToGIDMap': /'Identity', 'DW': 1000, 'CIDSystemInfo': <PDFObjRef:25>, 'FontDescriptor': <PDFObjRef:26>, 'W': <PDFObjRef:156>, 'Encoding': /'Identity-H', 'ToUnicode': <PDFStream(154): raw=226, {'Filter': /'FlateDecode', 'Length': 224}>}\n",
      "2017-07-01 19:12:00,464 : INFO : get_font: create: objid=27, spec={'Type': /'Font', 'Subtype': /'Type0', 'BaseFont': /'SymbolMT', 'Encoding': /'Identity-H', 'DescendantFonts': <PDFObjRef:28>, 'ToUnicode': <PDFObjRef:163>}\n",
      "2017-07-01 19:12:00,471 : INFO : get_font: create: objid=None, spec={'BaseFont': /'SymbolMT', 'Subtype': /'CIDFontType2', 'Type': /'Font', 'CIDToGIDMap': /'Identity', 'DW': 1000, 'CIDSystemInfo': <PDFObjRef:30>, 'FontDescriptor': <PDFObjRef:31>, 'W': <PDFObjRef:165>, 'Encoding': /'Identity-H', 'ToUnicode': <PDFStream(163): raw=228, {'Filter': /'FlateDecode', 'Length': 226}>}\n",
      "2017-07-01 19:12:00,489 : INFO : get_font: create: objid=32, spec={'Type': /'Font', 'Subtype': /'Type0', 'BaseFont': /'BCDJEE+CenturyGothic-Bold', 'Encoding': /'Identity-H', 'DescendantFonts': <PDFObjRef:33>, 'ToUnicode': <PDFObjRef:159>}\n",
      "2017-07-01 19:12:00,495 : INFO : get_font: create: objid=None, spec={'BaseFont': /'BCDJEE+CenturyGothic-Bold', 'Subtype': /'CIDFontType2', 'Type': /'Font', 'CIDToGIDMap': /'Identity', 'DW': 1000, 'CIDSystemInfo': <PDFObjRef:35>, 'FontDescriptor': <PDFObjRef:36>, 'W': <PDFObjRef:161>, 'Encoding': /'Identity-H', 'ToUnicode': <PDFStream(159): raw=226, {'Filter': /'FlateDecode', 'Length': 224}>}\n",
      "2017-07-01 19:12:00,515 : INFO : get_font: create: objid=37, spec={'Type': /'Font', 'Subtype': /'TrueType', 'Name': /'F11', 'BaseFont': /'BCDKEE+Cambria-Bold', 'Encoding': /'WinAnsiEncoding', 'FontDescriptor': <PDFObjRef:38>, 'FirstChar': 32, 'LastChar': 121, 'Widths': <PDFObjRef:166>}\n"
     ]
    },
    {
     "name": "stdout",
     "output_type": "stream",
     "text": [
      "Corpus is now 25137 characters long\n",
      "\n",
      "Reading 'CURRENT_022017_Santosh kumartoleti_Resume_f0fb3c53-c308-4f86-b335-b05ebd2cccc9_SantoshkumarToleti2_6.docx'...\n",
      "Corpus is now 31752 characters long\n",
      "\n",
      "Reading 'CURRENT_032017_BhaktiSubhash Naik_Resume_cf61cd93-ff05-4fc4-85ec-42301b5456f5_BhaktiSubhashNaik4_9.doc'...\n",
      "Corpus is now 35298 characters long\n",
      "\n",
      "Reading 'CURRENT_032017_Daljeet Singh DuggalDUGGAL_Resume_adb59f9d-a2e4-46b8-abdc-375b61107dc5_DaljeetSinghDuggal6_0.docx'...\n"
     ]
    },
    {
     "name": "stderr",
     "output_type": "stream",
     "text": [
      "2017-07-01 19:12:01,878 : INFO : xref found: pos=b'30654'\n",
      "2017-07-01 19:12:01,880 : INFO : read_xref_from: start=30654, token=/b'xref'\n",
      "2017-07-01 19:12:01,882 : INFO : xref objects: {1: (None, 9, 0), 2: (None, 30549, 0), 3: (None, 167, 0), 4: (None, 262, 0), 5: (None, 609, 0), 6: (None, 30407, 0), 7: (None, 13844, 0), 8: (None, 299, 0), 9: (None, 350, 0), 10: (None, 401, 0), 11: (None, 453, 0), 12: (None, 505, 0), 13: (None, 557, 0), 14: (None, 19575, 0), 15: (None, 938, 0), 16: (None, 6315, 0), 17: (None, 730, 0), 18: (None, 918, 0), 19: (None, 8370, 0), 20: (None, 6336, 0), 21: (None, 6388, 0), 22: (None, 6440, 0), 23: (None, 6492, 0), 24: (None, 6544, 0), 25: (None, 8203, 0), 26: (None, 8065, 0), 27: (None, 6774, 0), 28: (None, 7184, 0), 29: (None, 7358, 0), 30: (None, 7654, 0), 31: (None, 7816, 0), 32: (None, 7947, 0), 33: (None, 6886, 0), 34: (None, 7034, 0), 35: (None, 7499, 0), 36: (None, 8266, 0), 37: (None, 8690, 0), 38: (None, 9864, 0), 39: (None, 8492, 0), 40: (None, 8670, 0), 41: (None, 9885, 0), 42: (None, 10100, 0), 43: (None, 13071, 0), 44: (None, 13344, 0), 45: (None, 13050, 0), 46: (None, 13991, 0), 47: (None, 14258, 0), 48: (None, 18828, 0), 49: (None, 19089, 0), 50: (None, 18807, 0), 51: (None, 19719, 0), 52: (None, 19929, 0), 53: (None, 28968, 0), 54: (None, 29480, 0), 55: (None, 28947, 0)}\n",
      "2017-07-01 19:12:01,884 : INFO : trailer: {'Size': 56, 'Info': <PDFObjRef:1>, 'Root': <PDFObjRef:36>}\n"
     ]
    },
    {
     "name": "stdout",
     "output_type": "stream",
     "text": [
      "Corpus is now 42903 characters long\n",
      "\n",
      "Reading 'CURRENT_032017_DishantPatel_Resume_f88c74e3-8545-4156-a708-8d093885288e_DishantPatel6_0.docx'...\n",
      "Corpus is now 50708 characters long\n",
      "\n",
      "Reading 'CURRENT_032017_HIRALPARMAR_Resume_3e8d6f3d-2b01-4603-8a09-12a840772afc_hiral2_0.pdf'...\n"
     ]
    },
    {
     "name": "stderr",
     "output_type": "stream",
     "text": [
      "2017-07-01 19:12:01,929 : INFO : trailer: {'Size': 56, 'Info': <PDFObjRef:1>, 'Root': <PDFObjRef:36>}\n",
      "2017-07-01 19:12:01,934 : INFO : Pages: Kids=[<PDFObjRef:5>, <PDFObjRef:19>]\n",
      "2017-07-01 19:12:01,939 : INFO : Page: {'Type': /'Page', 'Parent': <PDFObjRef:2>, 'Contents': <PDFObjRef:15>, 'Resources': <PDFObjRef:17>, 'Annots': <PDFObjRef:18>, 'MediaBox': [0, 0, 595, 842]}\n",
      "2017-07-01 19:12:01,945 : INFO : Processing page: <PDFPage: Resources={'ColorSpace': {'PCSp': <PDFObjRef:4>, 'CSp': /'DeviceRGB', 'CSpg': /'DeviceGray'}, 'ExtGState': {'GSa': <PDFObjRef:3>}, 'Pattern': {}, 'Font': {'F6': <PDFObjRef:6>, 'F7': <PDFObjRef:7>, 'F14': <PDFObjRef:14>}, 'XObject': {}}, MediaBox=[0, 0, 595, 842]>\n",
      "2017-07-01 19:12:01,947 : INFO : render_contents: resources={'ColorSpace': {'PCSp': <PDFObjRef:4>, 'CSp': /'DeviceRGB', 'CSpg': /'DeviceGray'}, 'ExtGState': {'GSa': <PDFObjRef:3>}, 'Pattern': {}, 'Font': {'F6': <PDFObjRef:6>, 'F7': <PDFObjRef:7>, 'F14': <PDFObjRef:14>}, 'XObject': {}}, streams=[<PDFStream(15): raw=5302, {'Length': <PDFObjRef:16>, 'Filter': /'FlateDecode'}>], ctm=(1, 0, 0, 1, 0, 0)\n",
      "2017-07-01 19:12:01,951 : INFO : get_font: create: objid=6, spec={'Type': /'Font', 'Subtype': /'Type0', 'BaseFont': /'CenturySchL-Roma', 'Encoding': /'Identity-H', 'DescendantFonts': [<PDFObjRef:53>], 'ToUnicode': <PDFObjRef:54>}\n",
      "2017-07-01 19:12:01,958 : INFO : get_font: create: objid=None, spec={'Type': /'Font', 'Subtype': /'CIDFontType2', 'BaseFont': /'CenturySchL-Roma', 'CIDSystemInfo': {'Registry': b'Adobe', 'Ordering': b'Identity', 'Supplement': 0}, 'FontDescriptor': <PDFObjRef:51>, 'CIDToGIDMap': /'Identity', 'W': [0, [496, 716, 772, 808, 662, 716, 826, 496, 552, 552, 312, 276, 404, 606, 570, 606, 459, 386, 440, 312, 936, 533, 496, 552, 552, 552, 552, 570, 606, 552, 552, 731, 533, 882, 276, 440, 552, 552, 552, 973, 716, 772, 716, 698, 662, 330, 552, 992, 716, 625, 772, 772, 533, 330, 588, 662, 772, 330, 276, 202, 276, 330, 716, 772, 662, 552, 294, 477, 552, 276, 533, 276, 808, 552]], 'Encoding': /'Identity-H', 'ToUnicode': <PDFStream(54): raw=876, {'Length': 875}>}\n",
      "2017-07-01 19:12:01,972 : INFO : get_font: create: objid=7, spec={'Type': /'Font', 'Subtype': /'Type0', 'BaseFont': /'NewCenturySchlbk-Bold', 'Encoding': /'Identity-H', 'DescendantFonts': [<PDFObjRef:43>], 'ToUnicode': <PDFObjRef:44>}\n",
      "2017-07-01 19:12:01,978 : INFO : get_font: create: objid=None, spec={'Type': /'Font', 'Subtype': /'CIDFontType2', 'BaseFont': /'NewCenturySchlbk-Bold', 'CIDSystemInfo': {'Registry': b'Adobe', 'Ordering': b'Identity', 'Supplement': 0}, 'FontDescriptor': <PDFObjRef:41>, 'CIDToGIDMap': /'Identity', 'W': [0, [285, 753, 330, 955, 606, 367, 349, 276, 753, 680, 606, 680, 570]], 'Encoding': /'Identity-H', 'ToUnicode': <PDFStream(44): raw=449, {'Length': 448}>}\n",
      "2017-07-01 19:12:01,988 : INFO : get_font: create: objid=14, spec={'Type': /'Font', 'Subtype': /'Type0', 'BaseFont': /'TimesNewRomanPSMT', 'Encoding': /'Identity-H', 'DescendantFonts': [<PDFObjRef:48>], 'ToUnicode': <PDFObjRef:49>}\n",
      "2017-07-01 19:12:01,993 : INFO : get_font: create: objid=None, spec={'Type': /'Font', 'Subtype': /'CIDFontType2', 'BaseFont': /'TimesNewRomanPSMT', 'CIDSystemInfo': {'Registry': b'Adobe', 'Ordering': b'Identity', 'Supplement': 0}, 'FontDescriptor': <PDFObjRef:46>, 'CIDToGIDMap': /'Identity', 'W': [0, [772, 716, 276, 330, 440, 276, 248, 552, 772, 496, 496]], 'Encoding': /'Identity-H', 'ToUnicode': <PDFStream(49): raw=435, {'Length': 434}>}\n",
      "2017-07-01 19:12:02,921 : INFO : Page: {'Type': /'Page', 'Parent': <PDFObjRef:2>, 'Contents': <PDFObjRef:37>, 'Resources': <PDFObjRef:39>, 'Annots': <PDFObjRef:40>, 'MediaBox': [0, 0, 595, 842]}\n",
      "2017-07-01 19:12:02,925 : INFO : Processing page: <PDFPage: Resources={'ColorSpace': {'PCSp': <PDFObjRef:4>, 'CSp': /'DeviceRGB', 'CSpg': /'DeviceGray'}, 'ExtGState': {'GSa': <PDFObjRef:3>}, 'Pattern': {}, 'Font': {'F6': <PDFObjRef:6>, 'F14': <PDFObjRef:14>}, 'XObject': {}}, MediaBox=[0, 0, 595, 842]>\n",
      "2017-07-01 19:12:02,928 : INFO : render_contents: resources={'ColorSpace': {'PCSp': <PDFObjRef:4>, 'CSp': /'DeviceRGB', 'CSpg': /'DeviceGray'}, 'ExtGState': {'GSa': <PDFObjRef:3>}, 'Pattern': {}, 'Font': {'F6': <PDFObjRef:6>, 'F14': <PDFObjRef:14>}, 'XObject': {}}, streams=[<PDFStream(37): raw=1099, {'Length': <PDFObjRef:38>, 'Filter': /'FlateDecode'}>], ctm=(1, 0, 0, 1, 0, 0)\n"
     ]
    },
    {
     "name": "stdout",
     "output_type": "stream",
     "text": [
      "Corpus is now 53425 characters long\n",
      "\n",
      "Reading 'CURRENT_032017_SHALINISHALINI K_Resume_e49f1c7b-d151-44b9-9afe-b774a6852495_SHALINIK2_7.docx'...\n",
      "Corpus is now 58984 characters long\n",
      "\n",
      "Reading 'CURRENT_032017_SandeeV S_Resume_2cd5e682-f1f0-4d95-9483-57a25f6965c0_SandeeVS4_3.doc'...\n",
      "Corpus is now 77401 characters long\n",
      "\n",
      "Reading 'CURRENT_032017_SnehlataKumari_Resume_2224bb2b-a3f9-4083-9d5d-5b0a158be3fc_SnehlataKumari2_8.doc'...\n",
      "Corpus is now 81815 characters long\n",
      "\n",
      "Reading 'CURRENT_032017_ravisankar_Resume_f243d558-3e41-4fa6-a67d-f324fb19b2d6_ravisankar4_5.doc'...\n",
      "Corpus is now 92117 characters long\n",
      "\n",
      "Reading 'CURRENT_032017_umashankar_Resume_77f65cee-4bce-4d83-9103-cc47c019eb96_umashankar11_0 (1).doc'...\n",
      "Corpus is now 100333 characters long\n",
      "\n",
      "Reading 'CURRENT_032017_yerramanenikoteswararao_Resume_560553c9-3c04-49c3-8702-a53b153ddb22_yerramanenikoteswararao5_2.docx'...\n",
      "Corpus is now 108981 characters long\n",
      "\n",
      "Reading 'CURRENT_042017_KARANVIRSINGH_Resume_24452b3d-e135-415d-b99e-a7c8a40d8891_KaranvirSingh2_2.docx'...\n",
      "Corpus is now 114231 characters long\n",
      "\n",
      "Reading 'CURRENT_042017_SAGARDEWAN_Resume_1161c5a0-f1f9-4c5e-a9d3-d79d1ebbc32d_SAGARDEWAN2_4.docx'...\n",
      "Corpus is now 123512 characters long\n",
      "\n",
      "Reading 'CURRENT_042017_SethuramKishore Ch_Resume_514570f0-3c55-4382-96f1-65f9a73bf119_Sethuram9_0.doc'...\n",
      "Corpus is now 128832 characters long\n",
      "\n",
      "Reading 'CURRENT_052017_ASHISHJAIN_Resume_02667350-11d5-471d-b3fd-a0c3d8c0d3e7_ASHISHJAIN2_6.docx'...\n",
      "Corpus is now 133724 characters long\n",
      "\n",
      "Reading 'CURRENT_052017_DeepanjanGhosh_Resume_ccd2dad2-b2cd-4ae9-95e4-859c0896fa8e_DeepanjanGhosh3_4.docx'...\n",
      "Corpus is now 139425 characters long\n",
      "\n",
      "Reading 'CURRENT_052017_DineshReddy_Resume_553992ad-15ce-45cb-844d-95afffa7ff4f_3_1.docx'...\n",
      "Corpus is now 150054 characters long\n",
      "\n",
      "Reading 'CURRENT_052017_HarikrishnaPalla_Resume_0b50617e-97f1-4b22-94c1-0fa51548daa2_harikrishnapalla5_0.doc'...\n",
      "Corpus is now 156176 characters long\n",
      "\n",
      "Reading 'CURRENT_052017_LaliteshUpadhyaya_Resume_9db2850b-a607-4a84-899d-1b0f9a0a8459_LaliteshUpadhyaya4_6.docx'...\n",
      "Corpus is now 162266 characters long\n",
      "\n",
      "Reading 'CURRENT_052017_NISHTHASHRIVASTAVA_Resume_c162f248-0fd9-4c0c-97b0-c22782d9cba1_NISHTHASHRIVASTAVA2_1.docx'...\n",
      "Corpus is now 166372 characters long\n",
      "\n",
      "Reading 'CURRENT_052017_PHANI TEJAYELLAPRAGADA VISAKHA_Resume_a72368b8-befc-4686-afdf-e2cf26735238_PhaniTeja3_5.docx'...\n",
      "Corpus is now 168399 characters long\n",
      "\n",
      "Reading 'CURRENT_052017_RagunathanAnnadurai_Resume_3a1aca2d-751e-45b8-8975-69a310116353_RagunathanAnnadurai3_6.docx'...\n",
      "Corpus is now 171682 characters long\n",
      "\n",
      "Reading 'CURRENT_052017_SAIKUMARKADA_Resume_a80bc2c6-71f8-4336-b4d9-7a8de2899966_KSaiKumar4_2.pdf'...\n"
     ]
    },
    {
     "name": "stderr",
     "output_type": "stream",
     "text": [
      "2017-07-01 19:12:04,047 : INFO : xref found: pos=b'127015'\n",
      "2017-07-01 19:12:04,049 : INFO : read_xref_from: start=127015, token=/b'xref'\n",
      "2017-07-01 19:12:04,051 : INFO : xref objects: {1: (None, 124760, 0), 2: (None, 19, 0), 3: (None, 4224, 0), 4: (None, 124903, 0), 5: (None, 4245, 0), 6: (None, 8567, 0), 7: (None, 126505, 0), 8: (None, 8588, 0), 9: (None, 10110, 0), 10: (None, 10131, 0), 11: (None, 10322, 0), 12: (None, 10614, 0), 13: (None, 10775, 0), 14: (None, 27091, 0), 15: (None, 27114, 0), 16: (None, 27329, 0), 17: (None, 27750, 0), 18: (None, 28042, 0), 19: (None, 56726, 0), 20: (None, 56749, 0), 21: (None, 56955, 0), 22: (None, 57521, 0), 23: (None, 57939, 0), 24: (None, 90808, 0), 25: (None, 90831, 0), 26: (None, 91032, 0), 27: (None, 91637, 0), 28: (None, 92086, 0), 29: (None, 122333, 0), 30: (None, 122356, 0), 31: (None, 122545, 0), 32: (None, 123592, 0), 33: (None, 124632, 0), 34: (None, 124705, 0), 35: (None, 125046, 0), 36: (None, 125102, 0), 37: (None, 125226, 0), 38: (None, 125398, 0), 39: (None, 125598, 0), 40: (None, 125770, 0), 41: (None, 125942, 0), 42: (None, 126154, 0), 43: (None, 126346, 0), 44: (None, 126610, 0), 45: (None, 126769, 0)}\n",
      "2017-07-01 19:12:04,054 : INFO : trailer: {'Size': 46, 'Root': <PDFObjRef:44>, 'Info': <PDFObjRef:45>, 'ID': [b'\\r\\x848\\xb8\\xfc\\x92=\\xd7\\xbe\\xdb\\x18j\\x95{t\\xae', b'\\r\\x848\\xb8\\xfc\\x92=\\xd7\\xbe\\xdb\\x18j\\x95{t\\xae'], 'DocChecksum': /'84A88A57F84CCBA95D4B7E6F1914C612'}\n",
      "2017-07-01 19:12:04,126 : INFO : trailer: {'Size': 46, 'Root': <PDFObjRef:44>, 'Info': <PDFObjRef:45>, 'ID': [b'\\r\\x848\\xb8\\xfc\\x92=\\xd7\\xbe\\xdb\\x18j\\x95{t\\xae', b'\\r\\x848\\xb8\\xfc\\x92=\\xd7\\xbe\\xdb\\x18j\\x95{t\\xae'], 'DocChecksum': /'84A88A57F84CCBA95D4B7E6F1914C612'}\n",
      "2017-07-01 19:12:04,131 : INFO : Pages: Kids=[<PDFObjRef:1>, <PDFObjRef:4>]\n",
      "2017-07-01 19:12:04,134 : INFO : Page: {'Type': /'Page', 'Parent': <PDFObjRef:7>, 'Resources': <PDFObjRef:34>, 'MediaBox': [0, 0, 612, 792], 'Group': {'S': /'Transparency', 'CS': /'DeviceRGB', 'I': True}, 'Contents': <PDFObjRef:2>}\n",
      "2017-07-01 19:12:04,137 : INFO : Processing page: <PDFPage: Resources={'Font': <PDFObjRef:33>, 'ProcSet': [/'PDF', /'Text']}, MediaBox=[0, 0, 612, 792]>\n",
      "2017-07-01 19:12:04,138 : INFO : render_contents: resources={'Font': <PDFObjRef:33>, 'ProcSet': [/'PDF', /'Text']}, streams=[<PDFStream(2): raw=4135, {'Length': <PDFObjRef:3>, 'Filter': /'FlateDecode'}>], ctm=(1, 0, 0, 1, 0, 0)\n",
      "2017-07-01 19:12:04,144 : INFO : get_font: create: objid=22, spec={'Type': /'Font', 'Subtype': /'TrueType', 'BaseFont': /'BAAAAA+TimesNewRomanPS-BoldMT', 'FirstChar': 0, 'LastChar': 62, 'Widths': [777, 777, 722, 722, 250, 556, 389, 722, 943, 722, 556, 277, 277, 443, 500, 333, 500, 556, 666, 722, 666, 777, 610, 722, 443, 443, 500, 389, 556, 556, 833, 930, 500, 250, 333, 569, 500, 500, 333, 500, 500, 500, 500, 500, 722, 722, 666, 666, 610, 500, 556, 556, 722, 777, 500, 333, 777, 277, 333, 333, 333, 500, 556], 'FontDescriptor': <PDFObjRef:20>, 'ToUnicode': <PDFObjRef:21>}\n",
      "2017-07-01 19:12:04,166 : INFO : get_font: create: objid=27, spec={'Type': /'Font', 'Subtype': /'TrueType', 'BaseFont': /'CAAAAA+TimesNewRomanPSMT', 'FirstChar': 0, 'LastChar': 71, 'Widths': [777, 556, 333, 443, 389, 500, 250, 277, 277, 500, 500, 500, 443, 500, 277, 777, 250, 500, 500, 500, 500, 889, 500, 500, 500, 500, 500, 722, 500, 333, 722, 250, 556, 500, 563, 333, 443, 722, 500, 722, 666, 610, 500, 556, 943, 389, 500, 333, 333, 277, 610, 610, 722, 722, 277, 722, 333, 666, 500, 277, 722, 722, 666, 722, 722, 777, 500, 443, 500, 180, 500, 500], 'FontDescriptor': <PDFObjRef:25>, 'ToUnicode': <PDFObjRef:26>}\n",
      "2017-07-01 19:12:04,185 : INFO : get_font: create: objid=32, spec={'Type': /'Font', 'Subtype': /'Type1', 'BaseFont': /'StandardSymL', 'ToUnicode': <PDFObjRef:31>, 'FirstChar': 0, 'LastChar': 255, 'Widths': [0, 0, 0, 0, 0, 0, 0, 0, 0, 0, 0, 0, 0, 0, 0, 0, 0, 0, 0, 0, 0, 0, 0, 0, 0, 0, 0, 0, 0, 0, 0, 0, 250, 333, 713, 500, 549, 833, 778, 439, 333, 333, 500, 549, 250, 549, 250, 278, 500, 500, 500, 500, 500, 500, 500, 500, 500, 500, 278, 278, 549, 549, 549, 444, 549, 722, 667, 722, 612, 611, 763, 603, 722, 333, 631, 722, 686, 889, 722, 722, 768, 741, 556, 592, 611, 690, 439, 768, 645, 795, 611, 333, 863, 333, 658, 500, 500, 631, 549, 549, 494, 439, 521, 411, 603, 329, 603, 549, 549, 576, 521, 549, 549, 521, 549, 603, 439, 576, 713, 686, 493, 686, 494, 480, 200, 480, 549, 0, 0, 0, 0, 0, 0, 0, 0, 0, 0, 0, 0, 0, 0, 0, 0, 0, 0, 0, 0, 0, 0, 0, 0, 0, 0, 0, 0, 0, 0, 0, 0, 0, 762, 620, 247, 549, 167, 713, 500, 753, 753, 753, 753, 1042, 987, 603, 987, 603, 400, 549, 411, 549, 549, 713, 494, 460, 549, 549, 549, 549, 1000, 603, 1000, 658, 823, 686, 795, 987, 768, 768, 823, 768, 768, 713, 713, 713, 713, 713, 713, 713, 768, 713, 790, 790, 890, 823, 549, 250, 713, 603, 603, 1042, 987, 603, 987, 603, 494, 329, 790, 790, 786, 713, 384, 384, 384, 384, 384, 384, 494, 494, 494, 494, 0, 329, 274, 686, 686, 686, 384, 384, 384, 384, 384, 384, 494, 494, 494, 0], 'FontDescriptor': <PDFObjRef:30>}\n",
      "2017-07-01 19:12:04,235 : INFO : get_font: create: objid=17, spec={'Type': /'Font', 'Subtype': /'TrueType', 'BaseFont': /'EAAAAA+TimesNewRomanPS-BoldItalicMT', 'FirstChar': 0, 'LastChar': 29, 'Widths': [777, 500, 500, 556, 556, 389, 443, 250, 500, 500, 500, 500, 333, 500, 443, 389, 277, 500, 722, 443, 777, 500, 500, 333, 889, 500, 556, 333, 277, 569], 'FontDescriptor': <PDFObjRef:15>, 'ToUnicode': <PDFObjRef:16>}\n",
      "2017-07-01 19:12:04,246 : INFO : get_font: create: objid=12, spec={'Type': /'Font', 'Subtype': /'TrueType', 'BaseFont': /'FAAAAA+OpenSymbol', 'FirstChar': 0, 'LastChar': 1, 'Widths': [365, 461], 'FontDescriptor': <PDFObjRef:10>, 'ToUnicode': <PDFObjRef:11>}\n",
      "2017-07-01 19:12:04,676 : INFO : Page: {'Type': /'Page', 'Parent': <PDFObjRef:7>, 'Resources': <PDFObjRef:34>, 'MediaBox': [0, 0, 612, 792], 'Group': {'S': /'Transparency', 'CS': /'DeviceRGB', 'I': True}, 'Contents': <PDFObjRef:5>}\n",
      "2017-07-01 19:12:04,678 : INFO : Processing page: <PDFPage: Resources={'Font': <PDFObjRef:33>, 'ProcSet': [/'PDF', /'Text']}, MediaBox=[0, 0, 612, 792]>\n",
      "2017-07-01 19:12:04,681 : INFO : render_contents: resources={'Font': <PDFObjRef:33>, 'ProcSet': [/'PDF', /'Text']}, streams=[<PDFStream(5): raw=4252, {'Length': <PDFObjRef:6>, 'Filter': /'FlateDecode'}>], ctm=(1, 0, 0, 1, 0, 0)\n"
     ]
    },
    {
     "name": "stdout",
     "output_type": "stream",
     "text": [
      "Corpus is now 177201 characters long\n",
      "\n",
      "Reading 'CURRENT_052017_SaradhiPoluru_Resume_96f4e1db-a0b4-4d86-b78a-15737964766e_Saradhi3_3.docx'...\n",
      "Corpus is now 185378 characters long\n",
      "\n",
      "Reading 'CURRENT_052017_SaranSaran Kumar_Resume_3fa61230-f101-46b3-9cc4-b64192da89fd_SaranKumar4_0.doc'...\n",
      "Corpus is now 195782 characters long\n",
      "\n",
      "Reading 'CURRENT_052017_Shaikh ShadmaWarsi_Resume_af9ac017-9ce8-4e1b-b6c9-73d21feb820d_ShaikhShadmaWarsi3_3.docx'...\n",
      "Corpus is now 205212 characters long\n",
      "\n",
      "Reading 'CURRENT_052017_VIVEK KUMAR REDDYMUDUGANTI_Resume_f9d5afc7-1ddc-4702-9a6e-d6775cf9f68f_VivekReddy3_0.doc'...\n",
      "Corpus is now 213923 characters long\n",
      "\n",
      "Reading 'CURRENT_052017_YeshasMandya Devaraju_Resume_3fbd57d9-cd9e-4d75-bfad-38f1c526b427_YeshasMD4_3.docx'...\n",
      "Corpus is now 219388 characters long\n",
      "\n",
      "Reading 'CURRENT_052017_lakshmiprasad_Resume_1111a5b8-bac2-4e92-97f7-12ac4ea82ca4_lakshmiprasad4_0.doc'...\n",
      "Corpus is now 227724 characters long\n",
      "\n",
      "Reading 'CURRENT_052017_usharani_Resume_651d8412-2f0a-4908-a641-2c802d432158_Usha3_2.docx'...\n",
      "Corpus is now 231691 characters long\n",
      "\n",
      "Reading 'CURRENT_102016_PraphullaKumbhar_Resume_180a15b7-da2e-41d3-8238-28af8bd8000e_PraphullaKumbhar9_0.doc'...\n",
      "Corpus is now 240185 characters long\n",
      "\n",
      "Reading 'CURRENT_122016_BhagyashriKulkarni_Resume_7255583c-6e60-475a-ada2-4e9e2e64e159_BhagyashriKulkarni4_1.doc'...\n",
      "Corpus is now 249514 characters long\n",
      "\n",
      "Reading 'CURRENT_122016_ShikhaSelot_Resume_834060f4-f4c0-498b-9b20-f1da5911bb52_ShikhaSelot5_0.docx'...\n",
      "Corpus is now 253098 characters long\n",
      "\n",
      "Reading 'Charlotte.docx'...\n",
      "Corpus is now 262581 characters long\n",
      "\n",
      "Reading 'ETL Informatica Resume 1.docx'...\n"
     ]
    },
    {
     "name": "stderr",
     "output_type": "stream",
     "text": [
      "2017-07-01 19:12:05,994 : INFO : xref found: pos=b'62251'\n",
      "2017-07-01 19:12:05,995 : INFO : read_xref_from: start=62251, token=/b'xref'\n",
      "2017-07-01 19:12:05,998 : INFO : xref objects: {1: (None, 61708, 0), 2: (None, 61593, 0), 3: (None, 61900, 0), 4: (None, 59481, 0), 5: (None, 59108, 0), 6: (None, 52787, 0), 7: (None, 56617, 0), 8: (None, 15, 0), 9: (None, 56694, 0), 10: (None, 70, 0), 11: (None, 56832, 0), 12: (None, 126, 0), 13: (None, 56925, 0), 14: (None, 182, 0), 15: (None, 57024, 0), 16: (None, 238, 0), 17: (None, 57124, 0), 18: (None, 294, 0), 19: (None, 57243, 0), 20: (None, 350, 0), 21: (None, 57335, 0), 22: (None, 406, 0), 23: (None, 57460, 0), 24: (None, 462, 0), 25: (None, 52752, 0), 26: (None, 518, 0), 27: (None, 32602, 0), 28: (None, 31714, 0), 29: (None, 812, 0), 30: (None, 31981, 0), 31: (None, 33441, 0), 32: (None, 33173, 0), 33: (None, 34909, 0), 34: (None, 34647, 0), 35: (None, 36376, 0), 36: (None, 36105, 0), 37: (None, 37826, 0), 38: (None, 37577, 0), 39: (None, 39023, 0), 40: (None, 53043, 0), 41: (None, 49792, 0), 42: (None, 58302, 0), 43: (None, 53132, 0), 44: (None, 49867, 0), 45: (None, 53221, 0), 46: (None, 49942, 0), 47: (None, 53310, 0), 48: (None, 50017, 0), 49: (None, 53399, 0), 50: (None, 50089, 0), 51: (None, 53488, 0), 52: (None, 50159, 0), 53: (None, 53577, 0), 54: (None, 50229, 0), 55: (None, 53666, 0), 56: (None, 50299, 0), 57: (None, 53755, 0), 58: (None, 50369, 0), 59: (None, 53844, 0), 60: (None, 50438, 0), 61: (None, 53933, 0), 62: (None, 50508, 0), 63: (None, 54023, 0), 64: (None, 50580, 0), 65: (None, 54113, 0), 66: (None, 50652, 0), 67: (None, 54203, 0), 68: (None, 50722, 0), 69: (None, 54293, 0), 70: (None, 50792, 0), 71: (None, 54383, 0), 72: (None, 50864, 0), 73: (None, 54473, 0), 74: (None, 50936, 0), 75: (None, 54563, 0), 76: (None, 50988, 0), 77: (None, 54653, 0), 78: (None, 51058, 0), 79: (None, 57575, 0), 80: (None, 57626, 0), 81: (None, 54737, 0), 82: (None, 51150, 0), 83: (None, 54827, 0), 84: (None, 51202, 0), 85: (None, 54917, 0), 86: (None, 51272, 0), 87: (None, 57676, 0), 88: (None, 57727, 0), 89: (None, 55001, 0), 90: (None, 51380, 0), 91: (None, 55091, 0), 92: (None, 51432, 0), 93: (None, 55181, 0), 94: (None, 51502, 0), 95: (None, 57777, 0), 96: (None, 57828, 0), 97: (None, 55265, 0), 98: (None, 51613, 0), 99: (None, 55355, 0), 100: (None, 51665, 0), 101: (None, 55446, 0), 102: (None, 51736, 0), 103: (None, 57878, 0), 104: (None, 57932, 0), 105: (None, 55533, 0), 106: (None, 51848, 0), 107: (None, 55625, 0), 108: (None, 51921, 0), 109: (None, 55717, 0), 110: (None, 51994, 0), 111: (None, 55809, 0), 112: (None, 52047, 0), 113: (None, 55901, 0), 114: (None, 52118, 0), 115: (None, 57984, 0), 116: (None, 58038, 0), 117: (None, 55988, 0), 118: (None, 52230, 0), 119: (None, 56080, 0), 120: (None, 52283, 0), 121: (None, 56172, 0), 122: (None, 52354, 0), 123: (None, 58090, 0), 124: (None, 58144, 0), 125: (None, 56259, 0), 126: (None, 52466, 0), 127: (None, 56351, 0), 128: (None, 52519, 0), 129: (None, 56443, 0), 130: (None, 52590, 0), 131: (None, 58196, 0), 132: (None, 58250, 0), 133: (None, 56530, 0), 134: (None, 52699, 0), 135: (None, 58640, 0), 136: (None, 61650, 0), 137: (None, 59592, 0)}\n",
      "2017-07-01 19:12:06,001 : INFO : trailer: {'Size': 138, 'Root': <PDFObjRef:1>, 'Info': <PDFObjRef:3>, 'ID': [b\"\\xe5'\\xfcNR*\\xab_\\x02~\\x89j>\\x06u'\", b'<^VD\\xa9%\\xfem\\x80\\x1a(e\\x952R(']}\n"
     ]
    },
    {
     "name": "stdout",
     "output_type": "stream",
     "text": [
      "Corpus is now 275851 characters long\n",
      "\n",
      "Reading 'Ganesh[5_0].doc'...\n",
      "Corpus is now 282684 characters long\n",
      "\n",
      "Reading 'Java Resume 1.docx'...\n",
      "Corpus is now 290048 characters long\n",
      "\n",
      "Reading 'Java and Python Resume.pdf'...\n"
     ]
    },
    {
     "name": "stderr",
     "output_type": "stream",
     "text": [
      "2017-07-01 19:12:06,129 : INFO : trailer: {'Size': 138, 'Root': <PDFObjRef:1>, 'Info': <PDFObjRef:3>, 'ID': [b\"\\xe5'\\xfcNR*\\xab_\\x02~\\x89j>\\x06u'\", b'<^VD\\xa9%\\xfem\\x80\\x1a(e\\x952R(']}\n",
      "2017-07-01 19:12:06,133 : INFO : Pages: Kids=[<PDFObjRef:6>]\n",
      "2017-07-01 19:12:06,136 : INFO : Page: {'Type': /'Page', 'CropBox': [0, 0, 612, 792], 'MediaBox': [0, 0, 612, 792], 'Resources': {'ColorSpace': {'CS0': <PDFObjRef:25>}, 'Font': {'TT0': <PDFObjRef:27>, 'TT1': <PDFObjRef:31>, 'TT2': <PDFObjRef:33>, 'TT3': <PDFObjRef:35>, 'TT4': <PDFObjRef:37>}}, 'Contents': <PDFObjRef:39>, 'StructParents': 0, 'Tabs': /'S', 'Parent': <PDFObjRef:2>}\n",
      "2017-07-01 19:12:06,141 : INFO : Processing page: <PDFPage: Resources={'ColorSpace': {'CS0': <PDFObjRef:25>}, 'Font': {'TT0': <PDFObjRef:27>, 'TT1': <PDFObjRef:31>, 'TT2': <PDFObjRef:33>, 'TT3': <PDFObjRef:35>, 'TT4': <PDFObjRef:37>}}, MediaBox=[0, 0, 612, 792]>\n",
      "2017-07-01 19:12:06,142 : INFO : render_contents: resources={'ColorSpace': {'CS0': <PDFObjRef:25>}, 'Font': {'TT0': <PDFObjRef:27>, 'TT1': <PDFObjRef:31>, 'TT2': <PDFObjRef:33>, 'TT3': <PDFObjRef:35>, 'TT4': <PDFObjRef:37>}}, streams=[<PDFStream(39): raw=10695, {'Filter': /'FlateDecode', 'Length': 10694}>], ctm=(1, 0, 0, 1, 0, 0)\n",
      "2017-07-01 19:12:06,147 : INFO : get_font: create: objid=27, spec={'BaseFont': /'SXPSXD+Calibri', 'Encoding': /'WinAnsiEncoding', 'FirstChar': 32, 'FontDescriptor': <PDFObjRef:28>, 'LastChar': 150, 'Subtype': /'TrueType', 'ToUnicode': <PDFObjRef:30>, 'Type': /'Font', 'Widths': [226, 0, 0, 498, 0, 0, 0, 0, 303, 303, 498, 498, 250, 306, 252, 386, 507, 507, 507, 507, 507, 507, 507, 0, 507, 507, 268, 268, 0, 0, 0, 0, 894, 579, 544, 533, 615, 488, 459, 631, 623, 252, 319, 520, 420, 855, 646, 662, 517, 673, 543, 459, 487, 642, 567, 890, 0, 487, 0, 0, 0, 0, 0, 0, 0, 479, 525, 423, 525, 498, 305, 471, 525, 229, 239, 455, 229, 799, 525, 527, 525, 525, 349, 391, 335, 525, 452, 715, 433, 453, 395, 0, 460, 0, 0, 0, 0, 0, 0, 0, 0, 0, 0, 0, 0, 0, 0, 0, 0, 0, 0, 0, 0, 0, 0, 0, 0, 0, 498]}\n",
      "2017-07-01 19:12:06,165 : INFO : get_font: create: objid=31, spec={'BaseFont': /'TimesNewRomanPS-BoldMT', 'Encoding': /'WinAnsiEncoding', 'FirstChar': 0, 'FontDescriptor': <PDFObjRef:32>, 'LastChar': 255, 'Subtype': /'TrueType', 'Type': /'Font', 'Widths': [778, 778, 778, 778, 778, 778, 778, 778, 778, 778, 778, 778, 778, 778, 778, 778, 778, 778, 778, 778, 778, 778, 778, 778, 778, 778, 778, 778, 778, 778, 778, 778, 250, 333, 555, 500, 500, 1000, 833, 278, 333, 333, 500, 570, 250, 333, 250, 278, 500, 500, 500, 500, 500, 500, 500, 500, 500, 500, 333, 333, 570, 570, 570, 500, 930, 722, 667, 722, 722, 667, 611, 778, 778, 389, 500, 778, 667, 944, 722, 778, 611, 778, 722, 556, 667, 722, 722, 1000, 722, 722, 667, 333, 278, 333, 581, 500, 333, 500, 556, 444, 556, 444, 333, 500, 556, 278, 333, 556, 278, 833, 556, 500, 556, 556, 444, 389, 333, 556, 500, 722, 500, 500, 444, 394, 220, 394, 520, 350, 500, 350, 333, 500, 500, 1000, 500, 500, 333, 1000, 556, 333, 1000, 350, 667, 350, 350, 333, 333, 500, 500, 350, 500, 1000, 333, 1000, 389, 333, 722, 350, 444, 722, 250, 333, 500, 500, 500, 500, 220, 500, 333, 747, 300, 500, 570, 333, 747, 500, 400, 549, 300, 300, 333, 576, 540, 333, 333, 300, 330, 500, 750, 750, 750, 500, 722, 722, 722, 722, 722, 722, 1000, 722, 667, 667, 667, 667, 389, 389, 389, 389, 722, 722, 778, 778, 778, 778, 778, 570, 778, 722, 722, 722, 722, 722, 611, 556, 500, 500, 500, 500, 500, 500, 722, 444, 444, 444, 444, 444, 278, 278, 278, 278, 500, 556, 500, 500, 500, 500, 500, 549, 500, 556, 556, 556, 556, 500, 556, 500]}\n",
      "2017-07-01 19:12:06,173 : INFO : get_font: create: objid=33, spec={'BaseFont': /'TimesNewRomanPSMT', 'Encoding': /'WinAnsiEncoding', 'FirstChar': 0, 'FontDescriptor': <PDFObjRef:34>, 'LastChar': 255, 'Subtype': /'TrueType', 'Type': /'Font', 'Widths': [778, 778, 778, 778, 778, 778, 778, 778, 778, 778, 778, 778, 778, 778, 778, 778, 778, 778, 778, 778, 778, 778, 778, 778, 778, 778, 778, 778, 778, 778, 778, 778, 250, 333, 408, 500, 500, 833, 778, 180, 333, 333, 500, 564, 250, 333, 250, 278, 500, 500, 500, 500, 500, 500, 500, 500, 500, 500, 278, 278, 564, 564, 564, 444, 921, 722, 667, 667, 722, 611, 556, 722, 722, 333, 389, 722, 611, 889, 722, 722, 556, 722, 667, 556, 611, 722, 722, 944, 722, 722, 611, 333, 278, 333, 469, 500, 333, 444, 500, 444, 500, 444, 333, 500, 500, 278, 278, 500, 278, 778, 500, 500, 500, 500, 333, 389, 278, 500, 500, 722, 500, 500, 444, 480, 200, 480, 541, 350, 500, 350, 333, 500, 444, 1000, 500, 500, 333, 1000, 556, 333, 889, 350, 611, 350, 350, 333, 333, 444, 444, 350, 500, 1000, 333, 980, 389, 333, 722, 350, 444, 722, 250, 333, 500, 500, 500, 500, 200, 500, 333, 760, 276, 500, 564, 333, 760, 500, 400, 549, 300, 300, 333, 576, 453, 333, 333, 300, 310, 500, 750, 750, 750, 444, 722, 722, 722, 722, 722, 722, 889, 667, 611, 611, 611, 611, 333, 333, 333, 333, 722, 722, 722, 722, 722, 722, 722, 564, 722, 722, 722, 722, 722, 722, 556, 500, 444, 444, 444, 444, 444, 444, 667, 444, 444, 444, 444, 444, 278, 278, 278, 278, 500, 500, 500, 500, 500, 500, 500, 549, 500, 500, 500, 500, 500, 500, 500, 500]}\n",
      "2017-07-01 19:12:06,184 : INFO : get_font: create: objid=35, spec={'BaseFont': /'TimesNewRomanPS-ItalicMT', 'Encoding': /'WinAnsiEncoding', 'FirstChar': 0, 'FontDescriptor': <PDFObjRef:36>, 'LastChar': 255, 'Subtype': /'TrueType', 'Type': /'Font', 'Widths': [778, 778, 778, 778, 778, 778, 778, 778, 778, 778, 778, 778, 778, 778, 778, 778, 778, 778, 778, 778, 778, 778, 778, 778, 778, 778, 778, 778, 778, 778, 778, 778, 250, 333, 420, 500, 500, 833, 778, 214, 333, 333, 500, 675, 250, 333, 250, 278, 500, 500, 500, 500, 500, 500, 500, 500, 500, 500, 333, 333, 675, 675, 675, 500, 920, 611, 611, 667, 722, 611, 611, 722, 722, 333, 444, 667, 556, 833, 667, 722, 611, 722, 611, 500, 556, 722, 611, 833, 611, 556, 556, 389, 278, 389, 422, 500, 333, 500, 500, 444, 500, 444, 278, 500, 500, 278, 278, 444, 278, 722, 500, 500, 500, 500, 389, 389, 278, 500, 444, 667, 444, 444, 389, 400, 275, 400, 541, 350, 500, 350, 333, 500, 556, 889, 500, 500, 333, 1000, 500, 333, 944, 350, 556, 350, 350, 333, 333, 556, 556, 350, 500, 889, 333, 980, 389, 333, 667, 350, 389, 556, 250, 389, 500, 500, 500, 500, 275, 500, 333, 760, 276, 500, 675, 333, 760, 500, 400, 549, 300, 300, 333, 576, 523, 250, 333, 300, 310, 500, 750, 750, 750, 500, 611, 611, 611, 611, 611, 611, 889, 667, 611, 611, 611, 611, 333, 333, 333, 333, 722, 667, 722, 722, 722, 722, 722, 675, 722, 722, 722, 722, 722, 556, 611, 500, 500, 500, 500, 500, 500, 500, 667, 444, 444, 444, 444, 444, 278, 278, 278, 278, 500, 500, 500, 500, 500, 500, 500, 549, 500, 500, 500, 500, 500, 444, 500, 444]}\n",
      "2017-07-01 19:12:06,193 : INFO : get_font: create: objid=37, spec={'BaseFont': /'Arial-ItalicMT', 'Encoding': /'WinAnsiEncoding', 'FirstChar': 0, 'FontDescriptor': <PDFObjRef:38>, 'LastChar': 255, 'Subtype': /'TrueType', 'Type': /'Font', 'Widths': [750, 750, 750, 750, 750, 750, 750, 750, 750, 750, 750, 750, 750, 750, 750, 750, 750, 750, 750, 750, 750, 750, 750, 750, 750, 750, 750, 750, 750, 750, 750, 750, 278, 278, 355, 556, 556, 889, 667, 191, 333, 333, 389, 584, 278, 333, 278, 278, 556, 556, 556, 556, 556, 556, 556, 556, 556, 556, 278, 278, 584, 584, 584, 556, 1015, 667, 667, 722, 722, 667, 611, 778, 722, 278, 500, 667, 556, 833, 722, 778, 667, 778, 722, 667, 611, 722, 667, 944, 667, 667, 611, 278, 278, 278, 469, 556, 333, 556, 556, 500, 556, 556, 278, 556, 556, 222, 222, 500, 222, 833, 556, 556, 556, 556, 333, 500, 278, 556, 500, 722, 500, 500, 500, 334, 260, 334, 584, 350, 556, 350, 222, 556, 333, 1000, 556, 556, 333, 1000, 667, 333, 1000, 350, 611, 350, 350, 222, 222, 333, 333, 350, 556, 1000, 333, 1000, 500, 333, 944, 350, 500, 667, 278, 333, 556, 556, 556, 556, 260, 556, 333, 737, 370, 556, 584, 333, 737, 552, 400, 549, 333, 333, 333, 576, 537, 333, 333, 333, 365, 556, 834, 834, 834, 611, 667, 667, 667, 667, 667, 667, 1000, 722, 667, 667, 667, 667, 278, 278, 278, 278, 722, 722, 778, 778, 778, 778, 778, 584, 778, 722, 722, 722, 722, 667, 667, 611, 556, 556, 556, 556, 556, 556, 889, 500, 556, 556, 556, 556, 278, 278, 278, 278, 556, 556, 556, 556, 556, 556, 556, 549, 611, 556, 556, 556, 556, 500, 556, 500]}\n"
     ]
    },
    {
     "name": "stdout",
     "output_type": "stream",
     "text": [
      "Corpus is now 293144 characters long\n",
      "\n",
      "Reading 'John Paul.docx'...\n",
      "Corpus is now 302226 characters long\n",
      "\n",
      "Reading 'Mohit Patra.docx'...\n",
      "Corpus is now 315105 characters long\n",
      "\n",
      "Reading 'Munish-Kaushik - 2017.docx'...\n",
      "Corpus is now 324871 characters long\n",
      "\n",
      "Reading 'NagendraSwami[2_0].docx'...\n",
      "Corpus is now 342237 characters long\n",
      "\n",
      "Reading 'New York.docx'...\n",
      "Corpus is now 353598 characters long\n",
      "\n",
      "Reading 'PrasannaKumar.docx'...\n",
      "Corpus is now 370360 characters long\n",
      "\n",
      "Reading 'Raj Malhotra.docx'...\n",
      "Corpus is now 381730 characters long\n",
      "\n",
      "Reading 'RajashekharaiahM[4_0].docx'...\n"
     ]
    },
    {
     "name": "stderr",
     "output_type": "stream",
     "text": [
      "2017-07-01 19:12:07,975 : INFO : xref found: pos=b'134706'\n",
      "2017-07-01 19:12:07,977 : INFO : read_xref_from: start=134706, token=/b'xref'\n",
      "2017-07-01 19:12:07,980 : INFO : xref objects: {1: (None, 134181, 0), 2: (None, 134124, 0), 3: (None, 134355, 0), 4: (None, 132013, 0), 5: (None, 131640, 0), 6: (None, 125007, 0), 7: (None, 124940, 0), 8: (None, 15, 0), 9: (None, 124973, 0), 10: (None, 308, 0), 11: (None, 7735, 0), 12: (None, 7407, 0), 13: (None, 7231, 0), 14: (None, 2961, 0), 15: (None, 6951, 0), 16: (None, 3036, 0), 17: (None, 3123, 0), 18: (None, 7432, 0), 19: (None, 39666, 0), 20: (None, 38778, 0), 21: (None, 7876, 0), 22: (None, 39045, 0), 23: (None, 67088, 0), 24: (None, 66264, 0), 25: (None, 40237, 0), 26: (None, 66537, 0), 27: (None, 91768, 0), 28: (None, 91034, 0), 29: (None, 67574, 0), 30: (None, 91315, 0), 31: (None, 113946, 0), 32: (None, 113256, 0), 33: (None, 92210, 0), 34: (None, 113534, 0), 35: (None, 114604, 0), 36: (None, 114362, 0), 37: (None, 115921, 0), 38: (None, 115794, 0), 39: (None, 125379, 0), 40: (None, 125563, 0), 41: (None, 115850, 0), 42: (None, 130661, 0), 43: (None, 130988, 0), 44: (None, 116092, 0), 45: (None, 125650, 0), 46: (None, 121566, 0), 47: (None, 125734, 0), 48: (None, 121637, 0), 49: (None, 125818, 0), 50: (None, 121689, 0), 51: (None, 125902, 0), 52: (None, 121773, 0), 53: (None, 125986, 0), 54: (None, 121857, 0), 55: (None, 126070, 0), 56: (None, 121941, 0), 57: (None, 126154, 0), 58: (None, 121993, 0), 59: (None, 126238, 0), 60: (None, 122061, 0), 61: (None, 126323, 0), 62: (None, 122129, 0), 63: (None, 126408, 0), 64: (None, 122197, 0), 65: (None, 126493, 0), 66: (None, 122265, 0), 67: (None, 126578, 0), 68: (None, 122317, 0), 69: (None, 126663, 0), 70: (None, 122385, 0), 71: (None, 126748, 0), 72: (None, 122453, 0), 73: (None, 126833, 0), 74: (None, 122521, 0), 75: (None, 126918, 0), 76: (None, 122573, 0), 77: (None, 127003, 0), 78: (None, 122641, 0), 79: (None, 127088, 0), 80: (None, 122708, 0), 81: (None, 129591, 0), 82: (None, 129795, 0), 83: (None, 127172, 0), 84: (None, 122792, 0), 85: (None, 129642, 0), 86: (None, 127256, 0), 87: (None, 122876, 0), 88: (None, 129693, 0), 89: (None, 127340, 0), 90: (None, 122960, 0), 91: (None, 129744, 0), 92: (None, 127424, 0), 93: (None, 123044, 0), 94: (None, 127509, 0), 95: (None, 123112, 0), 96: (None, 127594, 0), 97: (None, 123180, 0), 98: (None, 127679, 0), 99: (None, 123247, 0), 100: (None, 129866, 0), 101: (None, 130027, 0), 102: (None, 127764, 0), 103: (None, 123331, 0), 104: (None, 129919, 0), 105: (None, 127851, 0), 106: (None, 123431, 0), 107: (None, 129973, 0), 108: (None, 127938, 0), 109: (None, 123516, 0), 110: (None, 128025, 0), 111: (None, 123569, 0), 112: (None, 128112, 0), 113: (None, 123622, 0), 114: (None, 128199, 0), 115: (None, 123691, 0), 116: (None, 130095, 0), 117: (None, 130257, 0), 118: (None, 128286, 0), 119: (None, 123776, 0), 120: (None, 130149, 0), 121: (None, 128373, 0), 122: (None, 123876, 0), 123: (None, 130203, 0), 124: (None, 128460, 0), 125: (None, 123961, 0), 126: (None, 128547, 0), 127: (None, 124030, 0), 128: (None, 128634, 0), 129: (None, 124114, 0), 130: (None, 130325, 0), 131: (None, 130433, 0), 132: (None, 128721, 0), 133: (None, 124214, 0), 134: (None, 130379, 0), 135: (None, 128808, 0), 136: (None, 124299, 0), 137: (None, 128895, 0), 138: (None, 124368, 0), 139: (None, 128982, 0), 140: (None, 124437, 0), 141: (None, 130493, 0), 142: (None, 130601, 0), 143: (None, 129069, 0), 144: (None, 124522, 0), 145: (None, 130547, 0), 146: (None, 129156, 0), 147: (None, 124607, 0), 148: (None, 129243, 0), 149: (None, 124660, 0), 150: (None, 129330, 0), 151: (None, 124713, 0), 152: (None, 129417, 0), 153: (None, 124766, 0), 154: (None, 129504, 0), 155: (None, 124819, 0), 156: (None, 125303, 0), 157: (None, 124872, 0), 158: (None, 125487, 0), 159: (None, 124906, 0), 160: (None, 132123, 0)}\n",
      "2017-07-01 19:12:07,983 : INFO : trailer: {'Size': 161, 'Root': <PDFObjRef:1>, 'Info': <PDFObjRef:3>, 'ID': [b'X{:o\\xe17\\xf8q\\xbcD\\xcaQAA\\xe5z', b'\\x0c\\x12\\xcb+\\xa4~\\xca,uY\\x8el\\xa6l#r']}\n"
     ]
    },
    {
     "name": "stdout",
     "output_type": "stream",
     "text": [
      "Corpus is now 392418 characters long\n",
      "\n",
      "Reading 'Rajesh[6_0].docx'...\n",
      "Corpus is now 403673 characters long\n",
      "\n",
      "Reading 'Resume Masters.pdf'...\n"
     ]
    },
    {
     "name": "stderr",
     "output_type": "stream",
     "text": [
      "2017-07-01 19:12:08,142 : INFO : trailer: {'Size': 161, 'Root': <PDFObjRef:1>, 'Info': <PDFObjRef:3>, 'ID': [b'X{:o\\xe17\\xf8q\\xbcD\\xcaQAA\\xe5z', b'\\x0c\\x12\\xcb+\\xa4~\\xca,uY\\x8el\\xa6l#r']}\n",
      "2017-07-01 19:12:08,146 : INFO : Pages: Kids=[<PDFObjRef:6>]\n",
      "2017-07-01 19:12:08,149 : INFO : Page: {'Type': /'Page', 'CropBox': [0, 0, 612, 792], 'MediaBox': [0, 0, 612, 792], 'Resources': {'ColorSpace': {'CS0': <PDFObjRef:7>, 'CS1': <PDFObjRef:9>}, 'Font': {'C2_0': <PDFObjRef:11>, 'TT0': <PDFObjRef:19>, 'TT1': <PDFObjRef:23>, 'TT2': <PDFObjRef:27>, 'TT3': <PDFObjRef:31>, 'TT4': <PDFObjRef:35>}}, 'Annots': [<PDFObjRef:37>], 'Contents': <PDFObjRef:44>, 'StructParents': 1, 'Tabs': /'S', 'Parent': <PDFObjRef:2>}\n",
      "2017-07-01 19:12:08,153 : INFO : Processing page: <PDFPage: Resources={'ColorSpace': {'CS0': <PDFObjRef:7>, 'CS1': <PDFObjRef:9>}, 'Font': {'C2_0': <PDFObjRef:11>, 'TT0': <PDFObjRef:19>, 'TT1': <PDFObjRef:23>, 'TT2': <PDFObjRef:27>, 'TT3': <PDFObjRef:31>, 'TT4': <PDFObjRef:35>}}, MediaBox=[0, 0, 612, 792]>\n",
      "2017-07-01 19:12:08,154 : INFO : render_contents: resources={'ColorSpace': {'CS0': <PDFObjRef:7>, 'CS1': <PDFObjRef:9>}, 'Font': {'C2_0': <PDFObjRef:11>, 'TT0': <PDFObjRef:19>, 'TT1': <PDFObjRef:23>, 'TT2': <PDFObjRef:27>, 'TT3': <PDFObjRef:31>, 'TT4': <PDFObjRef:35>}}, streams=[<PDFStream(44): raw=5401, {'Filter': /'FlateDecode', 'Length': 5400}>], ctm=(1, 0, 0, 1, 0, 0)\n",
      "2017-07-01 19:12:08,160 : INFO : get_font: create: objid=11, spec={'BaseFont': /'PYEAHJ+SymbolMT', 'DescendantFonts': <PDFObjRef:12>, 'Encoding': /'Identity-H', 'Subtype': /'Type0', 'ToUnicode': <PDFObjRef:18>, 'Type': /'Font'}\n",
      "2017-07-01 19:12:08,164 : INFO : get_font: create: objid=None, spec={'BaseFont': /'PYEAHJ+SymbolMT', 'CIDSystemInfo': <PDFObjRef:14>, 'CIDToGIDMap': /'Identity', 'DW': 1000, 'FontDescriptor': <PDFObjRef:15>, 'Subtype': /'CIDFontType2', 'Type': /'Font', 'W': [120, [460]], 'Encoding': /'Identity-H', 'ToUnicode': <PDFStream(18): raw=231, {'Filter': /'FlateDecode', 'Length': 230}>}\n",
      "2017-07-01 19:12:08,174 : INFO : get_font: create: objid=19, spec={'BaseFont': /'SXPSXD+Calibri', 'Encoding': /'WinAnsiEncoding', 'FirstChar': 32, 'FontDescriptor': <PDFObjRef:20>, 'LastChar': 150, 'Subtype': /'TrueType', 'ToUnicode': <PDFObjRef:22>, 'Type': /'Font', 'Widths': [226, 0, 0, 498, 0, 0, 0, 0, 303, 303, 498, 498, 250, 306, 252, 386, 507, 507, 507, 507, 507, 507, 507, 0, 507, 507, 268, 268, 0, 0, 0, 0, 894, 579, 544, 533, 615, 488, 459, 631, 623, 252, 319, 520, 420, 855, 646, 662, 517, 673, 543, 459, 487, 642, 567, 890, 0, 487, 0, 0, 0, 0, 0, 0, 0, 479, 525, 423, 525, 498, 305, 471, 525, 229, 239, 455, 229, 799, 525, 527, 525, 525, 349, 391, 335, 525, 452, 715, 433, 453, 395, 0, 460, 0, 0, 0, 0, 0, 0, 0, 0, 0, 0, 0, 0, 0, 0, 0, 0, 0, 0, 0, 0, 0, 0, 0, 0, 0, 498]}\n",
      "2017-07-01 19:12:08,187 : INFO : get_font: create: objid=23, spec={'BaseFont': /'YGRCDR+Calibri-Bold', 'Encoding': /'WinAnsiEncoding', 'FirstChar': 32, 'FontDescriptor': <PDFObjRef:24>, 'LastChar': 124, 'Subtype': /'TrueType', 'ToUnicode': <PDFObjRef:26>, 'Type': /'Font', 'Widths': [226, 0, 0, 0, 0, 0, 0, 0, 312, 312, 0, 0, 0, 306, 267, 0, 0, 507, 0, 0, 0, 507, 507, 507, 507, 507, 276, 0, 0, 0, 0, 0, 898, 606, 561, 529, 630, 488, 0, 637, 631, 267, 331, 547, 423, 874, 659, 676, 532, 0, 563, 473, 495, 653, 591, 906, 551, 0, 0, 0, 0, 0, 0, 0, 0, 494, 0, 418, 537, 503, 0, 474, 537, 246, 0, 0, 246, 813, 537, 538, 0, 0, 355, 399, 347, 537, 473, 0, 459, 474, 397, 0, 475]}\n",
      "2017-07-01 19:12:08,201 : INFO : get_font: create: objid=27, spec={'BaseFont': /'YOPCDR+Calibri-BoldItalic', 'Encoding': /'WinAnsiEncoding', 'FirstChar': 32, 'FontDescriptor': <PDFObjRef:28>, 'LastChar': 121, 'Subtype': /'TrueType', 'ToUnicode': <PDFObjRef:30>, 'Type': /'Font', 'Widths': [226, 0, 0, 0, 0, 0, 0, 0, 0, 0, 0, 0, 258, 0, 0, 0, 0, 0, 0, 0, 0, 0, 0, 0, 0, 0, 0, 0, 0, 0, 0, 0, 0, 606, 0, 519, 630, 488, 459, 0, 631, 0, 0, 0, 0, 874, 656, 0, 0, 0, 0, 465, 0, 653, 591, 0, 0, 0, 0, 0, 0, 0, 0, 0, 0, 528, 528, 412, 528, 491, 0, 528, 527, 246, 0, 0, 246, 804, 527, 527, 528, 0, 352, 394, 347, 527, 469, 745, 0, 470]}\n",
      "2017-07-01 19:12:08,213 : INFO : get_font: create: objid=31, spec={'BaseFont': /'TECYLB+Calibri-Italic', 'Encoding': /'WinAnsiEncoding', 'FirstChar': 32, 'FontDescriptor': <PDFObjRef:32>, 'LastChar': 119, 'Subtype': /'TrueType', 'ToUnicode': <PDFObjRef:34>, 'Type': /'Font', 'Widths': [226, 0, 0, 0, 0, 0, 0, 0, 0, 0, 0, 0, 0, 0, 0, 388, 0, 0, 0, 0, 0, 0, 0, 0, 0, 0, 268, 0, 0, 0, 0, 0, 0, 0, 0, 522, 0, 488, 0, 0, 0, 0, 0, 0, 0, 0, 0, 0, 0, 0, 0, 452, 487, 0, 0, 0, 0, 0, 0, 0, 0, 0, 0, 0, 0, 0, 0, 416, 514, 478, 0, 514, 514, 229, 0, 455, 229, 791, 514, 513, 0, 0, 343, 389, 335, 514, 446, 715]}\n",
      "2017-07-01 19:12:08,232 : INFO : get_font: create: objid=35, spec={'BaseFont': /'ArialMT', 'Encoding': /'WinAnsiEncoding', 'FirstChar': 0, 'FontDescriptor': <PDFObjRef:36>, 'LastChar': 255, 'Subtype': /'TrueType', 'Type': /'Font', 'Widths': [750, 750, 750, 750, 750, 750, 750, 750, 750, 750, 750, 750, 750, 750, 750, 750, 750, 750, 750, 750, 750, 750, 750, 750, 750, 750, 750, 750, 750, 750, 750, 750, 278, 278, 355, 556, 556, 889, 667, 191, 333, 333, 389, 584, 278, 333, 278, 278, 556, 556, 556, 556, 556, 556, 556, 556, 556, 556, 278, 278, 584, 584, 584, 556, 1015, 667, 667, 722, 722, 667, 611, 778, 722, 278, 500, 667, 556, 833, 722, 778, 667, 778, 722, 667, 611, 722, 667, 944, 667, 667, 611, 278, 278, 278, 469, 556, 333, 556, 556, 500, 556, 556, 278, 556, 556, 222, 222, 500, 222, 833, 556, 556, 556, 556, 333, 500, 278, 556, 500, 722, 500, 500, 500, 334, 260, 334, 584, 350, 556, 350, 222, 556, 333, 1000, 556, 556, 333, 1000, 667, 333, 1000, 350, 611, 350, 350, 222, 222, 333, 333, 350, 556, 1000, 333, 1000, 500, 333, 944, 350, 500, 667, 278, 333, 556, 556, 556, 556, 260, 556, 333, 737, 370, 556, 584, 333, 737, 552, 400, 549, 333, 333, 333, 576, 537, 333, 333, 333, 365, 556, 834, 834, 834, 611, 667, 667, 667, 667, 667, 667, 1000, 722, 667, 667, 667, 667, 278, 278, 278, 278, 722, 722, 778, 778, 778, 778, 778, 584, 778, 722, 722, 722, 722, 667, 667, 611, 556, 556, 556, 556, 556, 556, 889, 500, 556, 556, 556, 556, 278, 278, 278, 278, 556, 556, 556, 556, 556, 556, 556, 549, 611, 556, 556, 556, 556, 500, 556, 500]}\n",
      "2017-07-01 19:12:08,859 : INFO : xref found: pos=b'271869'\n",
      "2017-07-01 19:12:08,860 : INFO : read_xref_from: start=271869, token=/b'xref'\n",
      "2017-07-01 19:12:08,862 : INFO : xref objects: {}\n",
      "2017-07-01 19:12:08,865 : INFO : trailer: {'Size': 337, 'Root': <PDFObjRef:1>, 'Info': <PDFObjRef:53>, 'ID': [b'\\xf8\\xce\\x13\\xb2?@hH\\x8a\\xf0\\x1c\\x85\\xe4\\xab\\xa9,', b'\\xf8\\xce\\x13\\xb2?@hH\\x8a\\xf0\\x1c\\x85\\xe4\\xab\\xa9,'], 'Prev': 264969, 'XRefStm': 264040}\n",
      "2017-07-01 19:12:08,867 : INFO : read_xref_from: start=264040, token=336\n",
      "2017-07-01 19:12:08,870 : INFO : xref stream: objid=(0, 336), fields=1,4,2\n",
      "2017-07-01 19:12:08,871 : INFO : trailer: {'Type': /'XRef', 'Size': 336, 'W': [1, 4, 2], 'Root': <PDFObjRef:1>, 'Info': <PDFObjRef:53>, 'ID': [b'\\xf8\\xce\\x13\\xb2?@hH\\x8a\\xf0\\x1c\\x85\\xe4\\xab\\xa9,', b'\\xf8\\xce\\x13\\xb2?@hH\\x8a\\xf0\\x1c\\x85\\xe4\\xab\\xa9,'], 'Filter': /'FlateDecode', 'Length': 726}\n",
      "2017-07-01 19:12:08,873 : INFO : read_xref_from: start=264969, token=/b'xref'\n",
      "2017-07-01 19:12:08,879 : INFO : xref objects: {1: (None, 17, 0), 2: (None, 168, 0), 3: (None, 252, 0), 4: (None, 535, 0), 5: (None, 1199, 0), 6: (None, 1368, 0), 7: (None, 1608, 0), 8: (None, 1661, 0), 9: (None, 1714, 0), 10: (None, 1892, 0), 11: (None, 2134, 0), 12: (None, 2308, 0), 13: (None, 2545, 0), 14: (None, 2917, 0), 15: (None, 8287, 0), 16: (None, 8486, 0), 17: (None, 8689, 0), 18: (None, 8852, 0), 19: (None, 9079, 0), 20: (None, 9278, 0), 21: (None, 9481, 0), 22: (None, 9680, 0), 23: (None, 9887, 0), 24: (None, 10056, 0), 25: (None, 10288, 0), 26: (None, 10421, 0), 27: (None, 10451, 0), 28: (None, 10612, 0), 29: (None, 10686, 0), 30: (None, 10927, 0), 31: (None, 11262, 0), 32: (None, 14325, 0), 33: (None, 14496, 0), 34: (None, 14738, 0), 35: (None, 14874, 0), 36: (None, 14904, 0), 37: (None, 15068, 0), 38: (None, 15142, 0), 39: (None, 15397, 0), 40: (None, 15733, 0), 41: (None, 20671, 0), 42: (None, 20797, 0), 43: (None, 20827, 0), 44: (None, 20981, 0), 45: (None, 21055, 0), 46: (None, 21300, 0), 47: (None, 21443, 0), 48: (None, 21473, 0), 49: (None, 21644, 0), 50: (None, 21718, 0), 51: (None, 21964, 0), 52: (None, 22230, 0), 53: (None, 22437, 0), 287: (None, 26410, 0), 298: (None, 26461, 0), 315: (None, 26512, 0), 316: (None, 26990, 0), 317: (None, 119016, 0), 318: (None, 119604, 0), 319: (None, 119918, 0), 320: (None, 120223, 0), 321: (None, 120616, 0), 322: (None, 191787, 0), 323: (None, 192160, 0), 324: (None, 192502, 0), 325: (None, 192804, 0), 326: (None, 233913, 0), 327: (None, 233966, 0), 328: (None, 233994, 0), 329: (None, 234214, 0), 330: (None, 234434, 0), 331: (None, 247338, 0), 332: (None, 247640, 0), 333: (None, 260808, 0), 334: (None, 260852, 0), 335: (None, 263994, 0), 336: (None, 264040, 0)}\n",
      "2017-07-01 19:12:08,883 : INFO : trailer: {'Size': 337, 'Root': <PDFObjRef:1>, 'Info': <PDFObjRef:53>, 'ID': [b'\\xf8\\xce\\x13\\xb2?@hH\\x8a\\xf0\\x1c\\x85\\xe4\\xab\\xa9,', b'\\xf8\\xce\\x13\\xb2?@hH\\x8a\\xf0\\x1c\\x85\\xe4\\xab\\xa9,']}\n"
     ]
    },
    {
     "name": "stdout",
     "output_type": "stream",
     "text": [
      "Corpus is now 405958 characters long\n",
      "\n",
      "Reading 'RohitKhanna.docx'...\n",
      "Corpus is now 407946 characters long\n",
      "\n",
      "Reading 'SQL Server Visual Basic Resume 1.docx'...\n",
      "Corpus is now 421962 characters long\n",
      "\n",
      "Reading 'SWETA[2_11].pdf'...\n"
     ]
    },
    {
     "name": "stderr",
     "output_type": "stream",
     "text": [
      "2017-07-01 19:12:09,189 : INFO : trailer: {'Size': 337, 'Root': <PDFObjRef:1>, 'Info': <PDFObjRef:53>, 'ID': [b'\\xf8\\xce\\x13\\xb2?@hH\\x8a\\xf0\\x1c\\x85\\xe4\\xab\\xa9,', b'\\xf8\\xce\\x13\\xb2?@hH\\x8a\\xf0\\x1c\\x85\\xe4\\xab\\xa9,']}\n",
      "2017-07-01 19:12:09,193 : INFO : Pages: Kids=[<PDFObjRef:3>, <PDFObjRef:13>, <PDFObjRef:30>, <PDFObjRef:39>, <PDFObjRef:51>]\n",
      "2017-07-01 19:12:09,196 : INFO : Page: {'Type': /'Page', 'Parent': <PDFObjRef:2>, 'Resources': {'Font': {'F1': <PDFObjRef:5>, 'F2': <PDFObjRef:9>, 'F3': <PDFObjRef:11>}, 'ExtGState': {'GS7': <PDFObjRef:7>, 'GS8': <PDFObjRef:8>}, 'ProcSet': [/'PDF', /'Text', /'ImageB', /'ImageC', /'ImageI']}, 'MediaBox': [0, 0, 612, 792], 'Contents': <PDFObjRef:4>, 'Group': {'Type': /'Group', 'S': /'Transparency', 'CS': /'DeviceRGB'}, 'Tabs': /'S', 'StructParents': 0}\n",
      "2017-07-01 19:12:09,199 : INFO : Processing page: <PDFPage: Resources={'Font': {'F1': <PDFObjRef:5>, 'F2': <PDFObjRef:9>, 'F3': <PDFObjRef:11>}, 'ExtGState': {'GS7': <PDFObjRef:7>, 'GS8': <PDFObjRef:8>}, 'ProcSet': [/'PDF', /'Text', /'ImageB', /'ImageC', /'ImageI']}, MediaBox=[0, 0, 612, 792]>\n",
      "2017-07-01 19:12:09,200 : INFO : render_contents: resources={'Font': {'F1': <PDFObjRef:5>, 'F2': <PDFObjRef:9>, 'F3': <PDFObjRef:11>}, 'ExtGState': {'GS7': <PDFObjRef:7>, 'GS8': <PDFObjRef:8>}, 'ProcSet': [/'PDF', /'Text', /'ImageB', /'ImageC', /'ImageI']}, streams=[<PDFStream(4): raw=592, {'Filter': /'FlateDecode', 'Length': 590}>], ctm=(1, 0, 0, 1, 0, 0)\n",
      "2017-07-01 19:12:09,204 : INFO : get_font: create: objid=5, spec={'Type': /'Font', 'Subtype': /'TrueType', 'Name': /'F1', 'BaseFont': /'BCDEEE+Calibri', 'Encoding': /'WinAnsiEncoding', 'FontDescriptor': <PDFObjRef:6>, 'FirstChar': 32, 'LastChar': 122, 'Widths': <PDFObjRef:318>}\n",
      "2017-07-01 19:12:09,211 : INFO : get_font: create: objid=9, spec={'Type': /'Font', 'Subtype': /'TrueType', 'Name': /'F2', 'BaseFont': /'TimesNewRomanPS-BoldMT', 'Encoding': /'WinAnsiEncoding', 'FontDescriptor': <PDFObjRef:10>, 'FirstChar': 32, 'LastChar': 121, 'Widths': <PDFObjRef:319>}\n",
      "2017-07-01 19:12:09,218 : INFO : get_font: create: objid=11, spec={'Type': /'Font', 'Subtype': /'TrueType', 'Name': /'F3', 'BaseFont': /'TimesNewRomanPSMT', 'Encoding': /'WinAnsiEncoding', 'FontDescriptor': <PDFObjRef:12>, 'FirstChar': 32, 'LastChar': 122, 'Widths': <PDFObjRef:323>}\n",
      "2017-07-01 19:12:09,257 : INFO : Page: {'Type': /'Page', 'Parent': <PDFObjRef:2>, 'Resources': {'ExtGState': {'GS7': <PDFObjRef:7>, 'GS8': <PDFObjRef:8>}, 'Font': {'F2': <PDFObjRef:9>, 'F1': <PDFObjRef:5>, 'F4': <PDFObjRef:17>, 'F3': <PDFObjRef:11>, 'F5': <PDFObjRef:23>, 'F6': <PDFObjRef:25>}, 'XObject': {'Image15': <PDFObjRef:15>, 'Image19': <PDFObjRef:19>, 'Image21': <PDFObjRef:21>}, 'ProcSet': [/'PDF', /'Text', /'ImageB', /'ImageC', /'ImageI']}, 'MediaBox': [0, 0, 612, 792], 'Contents': <PDFObjRef:14>, 'Group': {'Type': /'Group', 'S': /'Transparency', 'CS': /'DeviceRGB'}, 'Tabs': /'S', 'StructParents': 1}\n",
      "2017-07-01 19:12:09,259 : INFO : Processing page: <PDFPage: Resources={'ExtGState': {'GS7': <PDFObjRef:7>, 'GS8': <PDFObjRef:8>}, 'Font': {'F2': <PDFObjRef:9>, 'F1': <PDFObjRef:5>, 'F4': <PDFObjRef:17>, 'F3': <PDFObjRef:11>, 'F5': <PDFObjRef:23>, 'F6': <PDFObjRef:25>}, 'XObject': {'Image15': <PDFObjRef:15>, 'Image19': <PDFObjRef:19>, 'Image21': <PDFObjRef:21>}, 'ProcSet': [/'PDF', /'Text', /'ImageB', /'ImageC', /'ImageI']}, MediaBox=[0, 0, 612, 792]>\n",
      "2017-07-01 19:12:09,262 : INFO : render_contents: resources={'ExtGState': {'GS7': <PDFObjRef:7>, 'GS8': <PDFObjRef:8>}, 'Font': {'F2': <PDFObjRef:9>, 'F1': <PDFObjRef:5>, 'F4': <PDFObjRef:17>, 'F3': <PDFObjRef:11>, 'F5': <PDFObjRef:23>, 'F6': <PDFObjRef:25>}, 'XObject': {'Image15': <PDFObjRef:15>, 'Image19': <PDFObjRef:19>, 'Image21': <PDFObjRef:21>}, 'ProcSet': [/'PDF', /'Text', /'ImageB', /'ImageC', /'ImageI']}, streams=[<PDFStream(14): raw=5296, {'Filter': /'FlateDecode', 'Length': 5294}>], ctm=(1, 0, 0, 1, 0, 0)\n",
      "2017-07-01 19:12:09,265 : INFO : get_font: create: objid=17, spec={'Type': /'Font', 'Subtype': /'TrueType', 'Name': /'F4', 'BaseFont': /'ArialMT', 'Encoding': /'WinAnsiEncoding', 'FontDescriptor': <PDFObjRef:18>, 'FirstChar': 32, 'LastChar': 32, 'Widths': <PDFObjRef:327>}\n",
      "2017-07-01 19:12:09,268 : INFO : get_font: create: objid=23, spec={'Type': /'Font', 'Subtype': /'TrueType', 'Name': /'F5', 'BaseFont': /'Arial-BoldMT', 'Encoding': /'WinAnsiEncoding', 'FontDescriptor': <PDFObjRef:24>, 'FirstChar': 32, 'LastChar': 116, 'Widths': <PDFObjRef:328>}\n",
      "2017-07-01 19:12:09,274 : INFO : get_font: create: objid=25, spec={'Type': /'Font', 'Subtype': /'Type0', 'BaseFont': /'BCDFEE+Calibri', 'Encoding': /'Identity-H', 'DescendantFonts': <PDFObjRef:26>, 'ToUnicode': <PDFObjRef:315>}\n",
      "2017-07-01 19:12:09,278 : INFO : get_font: create: objid=None, spec={'BaseFont': /'BCDFEE+Calibri', 'Subtype': /'CIDFontType2', 'Type': /'Font', 'CIDToGIDMap': /'Identity', 'DW': 1000, 'CIDSystemInfo': <PDFObjRef:28>, 'FontDescriptor': <PDFObjRef:29>, 'W': <PDFObjRef:317>, 'Encoding': /'Identity-H', 'ToUnicode': <PDFStream(315): raw=404, {'Filter': /'FlateDecode', 'Length': 402}>}\n",
      "2017-07-01 19:12:09,330 : INFO : Processing xobj: <PDFStream(15): raw=4, {'Type': /'XObject', 'Subtype': /'Image', 'Width': 2, 'Height': 2, 'ColorSpace': [/'Indexed', /'DeviceRGB', 1, b'\\x00\\x00\\x00\\xff\\xff\\xff'], 'BitsPerComponent': 1, 'Interpolate': False, 'SMask': <PDFObjRef:16>, 'Length': 2}>\n",
      "2017-07-01 19:12:09,356 : INFO : Processing xobj: <PDFStream(19): raw=4, {'Type': /'XObject', 'Subtype': /'Image', 'Width': 2, 'Height': 2, 'ColorSpace': [/'Indexed', /'DeviceRGB', 1, b'\\x00\\x00\\x00\\xff\\xff\\xff'], 'BitsPerComponent': 1, 'Interpolate': False, 'SMask': <PDFObjRef:20>, 'Length': 2}>\n",
      "2017-07-01 19:12:09,376 : INFO : Processing xobj: <PDFStream(19): raw=4, {'Type': /'XObject', 'Subtype': /'Image', 'Width': 2, 'Height': 2, 'ColorSpace': [/'Indexed', /'DeviceRGB', 1, b'\\x00\\x00\\x00\\xff\\xff\\xff'], 'BitsPerComponent': 1, 'Interpolate': False, 'SMask': <PDFObjRef:20>, 'Length': 2}>\n",
      "2017-07-01 19:12:09,394 : INFO : Processing xobj: <PDFStream(19): raw=4, {'Type': /'XObject', 'Subtype': /'Image', 'Width': 2, 'Height': 2, 'ColorSpace': [/'Indexed', /'DeviceRGB', 1, b'\\x00\\x00\\x00\\xff\\xff\\xff'], 'BitsPerComponent': 1, 'Interpolate': False, 'SMask': <PDFObjRef:20>, 'Length': 2}>\n",
      "2017-07-01 19:12:09,422 : INFO : Processing xobj: <PDFStream(21): raw=4, {'Type': /'XObject', 'Subtype': /'Image', 'Width': 2, 'Height': 2, 'ColorSpace': [/'Indexed', /'DeviceRGB', 1, b'\\x00\\x00\\x00\\xff\\xff\\xff'], 'BitsPerComponent': 1, 'Interpolate': False, 'SMask': <PDFObjRef:22>, 'Length': 2}>\n",
      "2017-07-01 19:12:09,458 : INFO : Processing xobj: <PDFStream(19): raw=4, {'Type': /'XObject', 'Subtype': /'Image', 'Width': 2, 'Height': 2, 'ColorSpace': [/'Indexed', /'DeviceRGB', 1, b'\\x00\\x00\\x00\\xff\\xff\\xff'], 'BitsPerComponent': 1, 'Interpolate': False, 'SMask': <PDFObjRef:20>, 'Length': 2}>\n",
      "2017-07-01 19:12:09,780 : INFO : Page: {'Type': /'Page', 'Parent': <PDFObjRef:2>, 'Resources': {'Font': {'F1': <PDFObjRef:5>, 'F6': <PDFObjRef:25>, 'F2': <PDFObjRef:9>, 'F3': <PDFObjRef:11>, 'F5': <PDFObjRef:23>, 'F4': <PDFObjRef:17>, 'F7': <PDFObjRef:32>, 'F8': <PDFObjRef:34>}, 'ExtGState': {'GS7': <PDFObjRef:7>, 'GS8': <PDFObjRef:8>}, 'ProcSet': [/'PDF', /'Text', /'ImageB', /'ImageC', /'ImageI']}, 'MediaBox': [0, 0, 612, 792], 'Contents': <PDFObjRef:31>, 'Group': {'Type': /'Group', 'S': /'Transparency', 'CS': /'DeviceRGB'}, 'Tabs': /'S', 'StructParents': 2}\n",
      "2017-07-01 19:12:09,783 : INFO : Processing page: <PDFPage: Resources={'Font': {'F1': <PDFObjRef:5>, 'F6': <PDFObjRef:25>, 'F2': <PDFObjRef:9>, 'F3': <PDFObjRef:11>, 'F5': <PDFObjRef:23>, 'F4': <PDFObjRef:17>, 'F7': <PDFObjRef:32>, 'F8': <PDFObjRef:34>}, 'ExtGState': {'GS7': <PDFObjRef:7>, 'GS8': <PDFObjRef:8>}, 'ProcSet': [/'PDF', /'Text', /'ImageB', /'ImageC', /'ImageI']}, MediaBox=[0, 0, 612, 792]>\n",
      "2017-07-01 19:12:09,786 : INFO : render_contents: resources={'Font': {'F1': <PDFObjRef:5>, 'F6': <PDFObjRef:25>, 'F2': <PDFObjRef:9>, 'F3': <PDFObjRef:11>, 'F5': <PDFObjRef:23>, 'F4': <PDFObjRef:17>, 'F7': <PDFObjRef:32>, 'F8': <PDFObjRef:34>}, 'ExtGState': {'GS7': <PDFObjRef:7>, 'GS8': <PDFObjRef:8>}, 'ProcSet': [/'PDF', /'Text', /'ImageB', /'ImageC', /'ImageI']}, streams=[<PDFStream(31): raw=2989, {'Filter': /'FlateDecode', 'Length': 2987}>], ctm=(1, 0, 0, 1, 0, 0)\n",
      "2017-07-01 19:12:09,791 : INFO : get_font: create: objid=32, spec={'Type': /'Font', 'Subtype': /'TrueType', 'Name': /'F7', 'BaseFont': /'BCDGEE+Verdana', 'Encoding': /'WinAnsiEncoding', 'FontDescriptor': <PDFObjRef:33>, 'FirstChar': 32, 'LastChar': 117, 'Widths': <PDFObjRef:329>}\n",
      "2017-07-01 19:12:09,799 : INFO : get_font: create: objid=34, spec={'Type': /'Font', 'Subtype': /'Type0', 'BaseFont': /'TimesNewRomanPSMT', 'Encoding': /'Identity-H', 'DescendantFonts': <PDFObjRef:35>, 'ToUnicode': <PDFObjRef:320>}\n",
      "2017-07-01 19:12:09,803 : INFO : get_font: create: objid=None, spec={'BaseFont': /'TimesNewRomanPSMT', 'Subtype': /'CIDFontType2', 'Type': /'Font', 'CIDToGIDMap': /'Identity', 'DW': 1000, 'CIDSystemInfo': <PDFObjRef:37>, 'FontDescriptor': <PDFObjRef:38>, 'W': <PDFObjRef:322>, 'Encoding': /'Identity-H', 'ToUnicode': <PDFStream(320): raw=319, {'Filter': /'FlateDecode', 'Length': 317}>}\n",
      "2017-07-01 19:12:10,075 : INFO : Page: {'Type': /'Page', 'Parent': <PDFObjRef:2>, 'Resources': {'Font': {'F1': <PDFObjRef:5>, 'F8': <PDFObjRef:34>, 'F3': <PDFObjRef:11>, 'F2': <PDFObjRef:9>, 'F5': <PDFObjRef:23>, 'F4': <PDFObjRef:17>, 'F9': <PDFObjRef:41>, 'F10': <PDFObjRef:46>}, 'ExtGState': {'GS7': <PDFObjRef:7>, 'GS8': <PDFObjRef:8>}, 'ProcSet': [/'PDF', /'Text', /'ImageB', /'ImageC', /'ImageI']}, 'MediaBox': [0, 0, 612, 792], 'Contents': <PDFObjRef:40>, 'Group': {'Type': /'Group', 'S': /'Transparency', 'CS': /'DeviceRGB'}, 'Tabs': /'S', 'StructParents': 3}\n",
      "2017-07-01 19:12:10,079 : INFO : Processing page: <PDFPage: Resources={'Font': {'F1': <PDFObjRef:5>, 'F8': <PDFObjRef:34>, 'F3': <PDFObjRef:11>, 'F2': <PDFObjRef:9>, 'F5': <PDFObjRef:23>, 'F4': <PDFObjRef:17>, 'F9': <PDFObjRef:41>, 'F10': <PDFObjRef:46>}, 'ExtGState': {'GS7': <PDFObjRef:7>, 'GS8': <PDFObjRef:8>}, 'ProcSet': [/'PDF', /'Text', /'ImageB', /'ImageC', /'ImageI']}, MediaBox=[0, 0, 612, 792]>\n",
      "2017-07-01 19:12:10,081 : INFO : render_contents: resources={'Font': {'F1': <PDFObjRef:5>, 'F8': <PDFObjRef:34>, 'F3': <PDFObjRef:11>, 'F2': <PDFObjRef:9>, 'F5': <PDFObjRef:23>, 'F4': <PDFObjRef:17>, 'F9': <PDFObjRef:41>, 'F10': <PDFObjRef:46>}, 'ExtGState': {'GS7': <PDFObjRef:7>, 'GS8': <PDFObjRef:8>}, 'ProcSet': [/'PDF', /'Text', /'ImageB', /'ImageC', /'ImageI']}, streams=[<PDFStream(40): raw=4864, {'Filter': /'FlateDecode', 'Length': 4862}>], ctm=(1, 0, 0, 1, 0, 0)\n",
      "2017-07-01 19:12:10,084 : INFO : get_font: create: objid=41, spec={'Type': /'Font', 'Subtype': /'Type0', 'BaseFont': /'ArialMT', 'Encoding': /'Identity-H', 'DescendantFonts': <PDFObjRef:42>, 'ToUnicode': <PDFObjRef:324>}\n",
      "2017-07-01 19:12:10,088 : INFO : get_font: create: objid=None, spec={'BaseFont': /'ArialMT', 'Subtype': /'CIDFontType2', 'Type': /'Font', 'CIDToGIDMap': /'Identity', 'DW': 1000, 'CIDSystemInfo': <PDFObjRef:44>, 'FontDescriptor': <PDFObjRef:45>, 'W': <PDFObjRef:326>, 'Encoding': /'Identity-H', 'ToUnicode': <PDFStream(324): raw=228, {'Filter': /'FlateDecode', 'Length': 226}>}\n",
      "2017-07-01 19:12:10,102 : INFO : get_font: create: objid=46, spec={'Type': /'Font', 'Subtype': /'Type0', 'BaseFont': /'BCDHEE+Wingdings-Regular', 'Encoding': /'Identity-H', 'DescendantFonts': <PDFObjRef:47>, 'ToUnicode': <PDFObjRef:331>}\n",
      "2017-07-01 19:12:10,107 : INFO : get_font: create: objid=None, spec={'BaseFont': /'BCDHEE+Wingdings-Regular', 'Subtype': /'CIDFontType2', 'Type': /'Font', 'CIDToGIDMap': /'Identity', 'DW': 1000, 'CIDSystemInfo': <PDFObjRef:49>, 'FontDescriptor': <PDFObjRef:50>, 'W': <PDFObjRef:333>, 'Encoding': /'Identity-H', 'ToUnicode': <PDFStream(331): raw=228, {'Filter': /'FlateDecode', 'Length': 226}>}\n",
      "2017-07-01 19:12:10,577 : INFO : Page: {'Type': /'Page', 'Parent': <PDFObjRef:2>, 'Resources': {'Font': {'F1': <PDFObjRef:5>}, 'ExtGState': {'GS7': <PDFObjRef:7>, 'GS8': <PDFObjRef:8>}, 'ProcSet': [/'PDF', /'Text', /'ImageB', /'ImageC', /'ImageI']}, 'MediaBox': [0, 0, 612, 792], 'Contents': <PDFObjRef:52>, 'Group': {'Type': /'Group', 'S': /'Transparency', 'CS': /'DeviceRGB'}, 'Tabs': /'S', 'StructParents': 4}\n",
      "2017-07-01 19:12:10,579 : INFO : Processing page: <PDFPage: Resources={'Font': {'F1': <PDFObjRef:5>}, 'ExtGState': {'GS7': <PDFObjRef:7>, 'GS8': <PDFObjRef:8>}, 'ProcSet': [/'PDF', /'Text', /'ImageB', /'ImageC', /'ImageI']}, MediaBox=[0, 0, 612, 792]>\n",
      "2017-07-01 19:12:10,581 : INFO : render_contents: resources={'Font': {'F1': <PDFObjRef:5>}, 'ExtGState': {'GS7': <PDFObjRef:7>, 'GS8': <PDFObjRef:8>}, 'ProcSet': [/'PDF', /'Text', /'ImageB', /'ImageC', /'ImageI']}, streams=[<PDFStream(52): raw=134, {'Filter': /'FlateDecode', 'Length': 132}>], ctm=(1, 0, 0, 1, 0, 0)\n"
     ]
    },
    {
     "name": "stdout",
     "output_type": "stream",
     "text": [
      "Corpus is now 426484 characters long\n",
      "\n",
      "Reading 'Sahib Singh.docx'...\n",
      "Corpus is now 442423 characters long\n",
      "\n",
      "Reading 'Senior Java Dev Resume 2.docx'...\n",
      "Corpus is now 457946 characters long\n",
      "\n",
      "Reading 'Shwetarathore[5_0].docx'...\n",
      "Corpus is now 470737 characters long\n",
      "\n",
      "Reading 'Sumit Shastry.docx'...\n"
     ]
    },
    {
     "name": "stderr",
     "output_type": "stream",
     "text": [
      "2017-07-01 19:12:11,088 : INFO : xref found: pos=b'161167'\n",
      "2017-07-01 19:12:11,090 : INFO : read_xref_from: start=161167, token=/b'xref'\n",
      "2017-07-01 19:12:11,092 : INFO : xref objects: {}\n",
      "2017-07-01 19:12:11,094 : INFO : trailer: {'Size': 430, 'Root': <PDFObjRef:1>, 'Info': <PDFObjRef:49>, 'ID': [b'\\xb1E\\x02\\xd0\\xa3\\xa0\\xa8E\\xbdi\\x110\\xa8\\xd3W$', b'\\xb1E\\x02\\xd0\\xa3\\xa0\\xa8E\\xbdi\\x110\\xa8\\xd3W$'], 'Prev': 152407, 'XRefStm': 151254}\n",
      "2017-07-01 19:12:11,096 : INFO : read_xref_from: start=151254, token=429\n",
      "2017-07-01 19:12:11,099 : INFO : xref stream: objid=(0, 429), fields=1,4,2\n",
      "2017-07-01 19:12:11,101 : INFO : trailer: {'Type': /'XRef', 'Size': 429, 'W': [1, 4, 2], 'Root': <PDFObjRef:1>, 'Info': <PDFObjRef:49>, 'ID': [b'\\xb1E\\x02\\xd0\\xa3\\xa0\\xa8E\\xbdi\\x110\\xa8\\xd3W$', b'\\xb1E\\x02\\xd0\\xa3\\xa0\\xa8E\\xbdi\\x110\\xa8\\xd3W$'], 'Filter': /'FlateDecode', 'Length': 950}\n",
      "2017-07-01 19:12:11,102 : INFO : read_xref_from: start=152407, token=/b'xref'\n",
      "2017-07-01 19:12:11,112 : INFO : xref objects: {1: (None, 17, 0), 2: (None, 184, 0), 3: (None, 268, 0), 4: (None, 605, 0), 5: (None, 6036, 0), 6: (None, 6218, 0), 7: (None, 6486, 0), 8: (None, 6539, 0), 9: (None, 6592, 0), 10: (None, 6779, 0), 11: (None, 7041, 0), 12: (None, 7218, 0), 13: (None, 7477, 0), 14: (None, 7634, 0), 15: (None, 7815, 0), 16: (None, 7942, 0), 17: (None, 7972, 0), 18: (None, 8127, 0), 19: (None, 8201, 0), 20: (None, 8434, 0), 21: (None, 8597, 0), 22: (None, 8824, 0), 23: (None, 8963, 0), 24: (None, 8993, 0), 25: (None, 9160, 0), 26: (None, 9234, 0), 27: (None, 9493, 0), 28: (None, 9839, 0), 29: (None, 15690, 0), 30: (None, 15833, 0), 31: (None, 15863, 0), 32: (None, 16034, 0), 33: (None, 16108, 0), 34: (None, 16354, 0), 35: (None, 16524, 0), 36: (None, 16760, 0), 37: (None, 16942, 0), 38: (None, 17206, 0), 39: (None, 17352, 0), 40: (None, 17382, 0), 41: (None, 17556, 0), 42: (None, 17630, 0), 43: (None, 17899, 0), 44: (None, 18224, 0), 45: (None, 23735, 0), 46: (None, 24061, 0), 47: (None, 28894, 0), 48: (None, 29229, 0), 49: (None, 33155, 0), 50: (None, 33308, 0), 51: (None, 33371, 0), 52: (None, 33477, 0), 53: (None, 33582, 0), 54: (None, 33691, 0), 55: (None, 33805, 0), 56: (None, 33918, 0), 57: (None, 34026, 0), 79: (None, 38917, 0), 113: (None, 38967, 0), 180: (None, 39018, 0), 220: (None, 39069, 0), 241: (None, 39120, 0), 258: (None, 39171, 0), 291: (None, 39222, 0), 302: (None, 39273, 0), 334: (None, 39324, 0), 397: (None, 39375, 0), 407: (None, 39428, 0), 408: (None, 39728, 0), 409: (None, 56410, 0), 410: (None, 56637, 0), 411: (None, 56885, 0), 412: (None, 57183, 0), 413: (None, 76593, 0), 414: (None, 77021, 0), 415: (None, 101918, 0), 416: (None, 102305, 0), 417: (None, 102661, 0), 418: (None, 102963, 0), 419: (None, 115275, 0), 420: (None, 115319, 0), 421: (None, 115347, 0), 422: (None, 115663, 0), 423: (None, 129160, 0), 424: (None, 129225, 0), 425: (None, 129253, 0), 426: (None, 129551, 0), 427: (None, 148110, 0), 428: (None, 151208, 0), 429: (None, 151254, 0)}\n",
      "2017-07-01 19:12:11,117 : INFO : trailer: {'Size': 430, 'Root': <PDFObjRef:1>, 'Info': <PDFObjRef:49>, 'ID': [b'\\xb1E\\x02\\xd0\\xa3\\xa0\\xa8E\\xbdi\\x110\\xa8\\xd3W$', b'\\xb1E\\x02\\xd0\\xa3\\xa0\\xa8E\\xbdi\\x110\\xa8\\xd3W$']}\n"
     ]
    },
    {
     "name": "stdout",
     "output_type": "stream",
     "text": [
      "Corpus is now 483196 characters long\n",
      "\n",
      "Reading 'Sunil Kumar Petluri1.pdf'...\n"
     ]
    },
    {
     "name": "stderr",
     "output_type": "stream",
     "text": [
      "2017-07-01 19:12:11,448 : INFO : trailer: {'Size': 430, 'Root': <PDFObjRef:1>, 'Info': <PDFObjRef:49>, 'ID': [b'\\xb1E\\x02\\xd0\\xa3\\xa0\\xa8E\\xbdi\\x110\\xa8\\xd3W$', b'\\xb1E\\x02\\xd0\\xa3\\xa0\\xa8E\\xbdi\\x110\\xa8\\xd3W$']}\n",
      "2017-07-01 19:12:11,453 : INFO : Pages: Kids=[<PDFObjRef:3>, <PDFObjRef:27>, <PDFObjRef:43>, <PDFObjRef:45>, <PDFObjRef:47>]\n",
      "2017-07-01 19:12:11,457 : INFO : Page: {'Type': /'Page', 'Parent': <PDFObjRef:2>, 'Resources': {'Font': {'F1': <PDFObjRef:5>, 'F2': <PDFObjRef:9>, 'F3': <PDFObjRef:11>, 'F4': <PDFObjRef:15>, 'F5': <PDFObjRef:20>, 'F6': <PDFObjRef:22>}, 'ExtGState': {'GS7': <PDFObjRef:7>, 'GS8': <PDFObjRef:8>}, 'ProcSet': [/'PDF', /'Text', /'ImageB', /'ImageC', /'ImageI']}, 'Annots': [<PDFObjRef:13>, <PDFObjRef:14>], 'MediaBox': [0, 0, 612, 792], 'Contents': <PDFObjRef:4>, 'Group': {'Type': /'Group', 'S': /'Transparency', 'CS': /'DeviceRGB'}, 'Tabs': /'S', 'StructParents': 0}\n",
      "2017-07-01 19:12:11,460 : INFO : Processing page: <PDFPage: Resources={'Font': {'F1': <PDFObjRef:5>, 'F2': <PDFObjRef:9>, 'F3': <PDFObjRef:11>, 'F4': <PDFObjRef:15>, 'F5': <PDFObjRef:20>, 'F6': <PDFObjRef:22>}, 'ExtGState': {'GS7': <PDFObjRef:7>, 'GS8': <PDFObjRef:8>}, 'ProcSet': [/'PDF', /'Text', /'ImageB', /'ImageC', /'ImageI']}, MediaBox=[0, 0, 612, 792]>\n",
      "2017-07-01 19:12:11,462 : INFO : render_contents: resources={'Font': {'F1': <PDFObjRef:5>, 'F2': <PDFObjRef:9>, 'F3': <PDFObjRef:11>, 'F4': <PDFObjRef:15>, 'F5': <PDFObjRef:20>, 'F6': <PDFObjRef:22>}, 'ExtGState': {'GS7': <PDFObjRef:7>, 'GS8': <PDFObjRef:8>}, 'ProcSet': [/'PDF', /'Text', /'ImageB', /'ImageC', /'ImageI']}, streams=[<PDFStream(4): raw=5358, {'Filter': /'FlateDecode', 'Length': 5356}>], ctm=(1, 0, 0, 1, 0, 0)\n",
      "2017-07-01 19:12:11,464 : INFO : get_font: create: objid=5, spec={'Type': /'Font', 'Subtype': /'TrueType', 'Name': /'F1', 'BaseFont': /'BCDEEE+CenturyGothic-Italic', 'Encoding': /'WinAnsiEncoding', 'FontDescriptor': <PDFObjRef:6>, 'FirstChar': 32, 'LastChar': 118, 'Widths': <PDFObjRef:410>}\n",
      "2017-07-01 19:12:11,472 : INFO : get_font: create: objid=9, spec={'Type': /'Font', 'Subtype': /'TrueType', 'Name': /'F2', 'BaseFont': /'BCDFEE+CenturyGothic-BoldItalic', 'Encoding': /'WinAnsiEncoding', 'FontDescriptor': <PDFObjRef:10>, 'FirstChar': 32, 'LastChar': 121, 'Widths': <PDFObjRef:411>}\n",
      "2017-07-01 19:12:11,478 : INFO : get_font: create: objid=11, spec={'Type': /'Font', 'Subtype': /'TrueType', 'Name': /'F3', 'BaseFont': /'BCDGEE+CenturyGothic', 'Encoding': /'WinAnsiEncoding', 'FontDescriptor': <PDFObjRef:12>, 'FirstChar': 32, 'LastChar': 124, 'Widths': <PDFObjRef:416>}\n",
      "2017-07-01 19:12:11,483 : INFO : get_font: create: objid=15, spec={'Type': /'Font', 'Subtype': /'Type0', 'BaseFont': /'SymbolMT', 'Encoding': /'Identity-H', 'DescendantFonts': <PDFObjRef:16>, 'ToUnicode': <PDFObjRef:417>}\n",
      "2017-07-01 19:12:11,486 : INFO : get_font: create: objid=None, spec={'BaseFont': /'SymbolMT', 'Subtype': /'CIDFontType2', 'Type': /'Font', 'CIDToGIDMap': /'Identity', 'DW': 1000, 'CIDSystemInfo': <PDFObjRef:18>, 'FontDescriptor': <PDFObjRef:19>, 'W': <PDFObjRef:419>, 'Encoding': /'Identity-H', 'ToUnicode': <PDFStream(417): raw=228, {'Filter': /'FlateDecode', 'Length': 226}>}\n",
      "2017-07-01 19:12:11,500 : INFO : get_font: create: objid=20, spec={'Type': /'Font', 'Subtype': /'TrueType', 'Name': /'F5', 'BaseFont': /'ArialMT', 'Encoding': /'WinAnsiEncoding', 'FontDescriptor': <PDFObjRef:21>, 'FirstChar': 32, 'LastChar': 32, 'Widths': <PDFObjRef:420>}\n",
      "2017-07-01 19:12:11,507 : INFO : get_font: create: objid=22, spec={'Type': /'Font', 'Subtype': /'Type0', 'BaseFont': /'BCDHEE+CenturyGothic', 'Encoding': /'Identity-H', 'DescendantFonts': <PDFObjRef:23>, 'ToUnicode': <PDFObjRef:413>}\n",
      "2017-07-01 19:12:11,513 : INFO : get_font: create: objid=None, spec={'BaseFont': /'BCDHEE+CenturyGothic', 'Subtype': /'CIDFontType2', 'Type': /'Font', 'CIDToGIDMap': /'Identity', 'DW': 1000, 'CIDSystemInfo': <PDFObjRef:25>, 'FontDescriptor': <PDFObjRef:26>, 'W': <PDFObjRef:415>, 'Encoding': /'Identity-H', 'ToUnicode': <PDFStream(413): raw=354, {'Filter': /'FlateDecode', 'Length': 352}>}\n",
      "2017-07-01 19:12:12,056 : INFO : Page: {'Type': /'Page', 'Parent': <PDFObjRef:2>, 'Resources': {'Font': {'F1': <PDFObjRef:5>, 'F2': <PDFObjRef:9>, 'F7': <PDFObjRef:29>, 'F5': <PDFObjRef:20>, 'F3': <PDFObjRef:11>, 'F8': <PDFObjRef:34>, 'F9': <PDFObjRef:36>, 'F10': <PDFObjRef:38>, 'F4': <PDFObjRef:15>}, 'ExtGState': {'GS7': <PDFObjRef:7>, 'GS8': <PDFObjRef:8>}, 'ProcSet': [/'PDF', /'Text', /'ImageB', /'ImageC', /'ImageI']}, 'MediaBox': [0, 0, 612, 792], 'Contents': <PDFObjRef:28>, 'Group': {'Type': /'Group', 'S': /'Transparency', 'CS': /'DeviceRGB'}, 'Tabs': /'S', 'StructParents': 3}\n",
      "2017-07-01 19:12:12,059 : INFO : Processing page: <PDFPage: Resources={'Font': {'F1': <PDFObjRef:5>, 'F2': <PDFObjRef:9>, 'F7': <PDFObjRef:29>, 'F5': <PDFObjRef:20>, 'F3': <PDFObjRef:11>, 'F8': <PDFObjRef:34>, 'F9': <PDFObjRef:36>, 'F10': <PDFObjRef:38>, 'F4': <PDFObjRef:15>}, 'ExtGState': {'GS7': <PDFObjRef:7>, 'GS8': <PDFObjRef:8>}, 'ProcSet': [/'PDF', /'Text', /'ImageB', /'ImageC', /'ImageI']}, MediaBox=[0, 0, 612, 792]>\n",
      "2017-07-01 19:12:12,062 : INFO : render_contents: resources={'Font': {'F1': <PDFObjRef:5>, 'F2': <PDFObjRef:9>, 'F7': <PDFObjRef:29>, 'F5': <PDFObjRef:20>, 'F3': <PDFObjRef:11>, 'F8': <PDFObjRef:34>, 'F9': <PDFObjRef:36>, 'F10': <PDFObjRef:38>, 'F4': <PDFObjRef:15>}, 'ExtGState': {'GS7': <PDFObjRef:7>, 'GS8': <PDFObjRef:8>}, 'ProcSet': [/'PDF', /'Text', /'ImageB', /'ImageC', /'ImageI']}, streams=[<PDFStream(28): raw=5777, {'Filter': /'FlateDecode', 'Length': 5775}>], ctm=(1, 0, 0, 1, 0, 0)\n",
      "2017-07-01 19:12:12,065 : INFO : get_font: create: objid=29, spec={'Type': /'Font', 'Subtype': /'Type0', 'BaseFont': /'BCDIEE+Wingdings-Regular', 'Encoding': /'Identity-H', 'DescendantFonts': <PDFObjRef:30>, 'ToUnicode': <PDFObjRef:421>}\n",
      "2017-07-01 19:12:12,069 : INFO : get_font: create: objid=None, spec={'BaseFont': /'BCDIEE+Wingdings-Regular', 'Subtype': /'CIDFontType2', 'Type': /'Font', 'CIDToGIDMap': /'Identity', 'DW': 1000, 'CIDSystemInfo': <PDFObjRef:32>, 'FontDescriptor': <PDFObjRef:33>, 'W': <PDFObjRef:423>, 'Encoding': /'Identity-H', 'ToUnicode': <PDFStream(421): raw=242, {'Filter': /'FlateDecode', 'Length': 240}>}\n",
      "2017-07-01 19:12:12,077 : INFO : get_font: create: objid=34, spec={'Type': /'Font', 'Subtype': /'TrueType', 'Name': /'F8', 'BaseFont': /'Arial-ItalicMT', 'Encoding': /'WinAnsiEncoding', 'FontDescriptor': <PDFObjRef:35>, 'FirstChar': 32, 'LastChar': 32, 'Widths': <PDFObjRef:424>}\n",
      "2017-07-01 19:12:12,082 : INFO : get_font: create: objid=36, spec={'Type': /'Font', 'Subtype': /'TrueType', 'Name': /'F9', 'BaseFont': /'BCDJEE+CenturyGothic-Bold', 'Encoding': /'WinAnsiEncoding', 'FontDescriptor': <PDFObjRef:37>, 'FirstChar': 32, 'LastChar': 122, 'Widths': <PDFObjRef:425>}\n",
      "2017-07-01 19:12:12,086 : INFO : get_font: create: objid=38, spec={'Type': /'Font', 'Subtype': /'Type0', 'BaseFont': /'BCDKEE+CenturyGothic-Italic', 'Encoding': /'Identity-H', 'DescendantFonts': <PDFObjRef:39>, 'ToUnicode': <PDFObjRef:407>}\n",
      "2017-07-01 19:12:12,090 : INFO : get_font: create: objid=None, spec={'BaseFont': /'BCDKEE+CenturyGothic-Italic', 'Subtype': /'CIDFontType2', 'Type': /'Font', 'CIDToGIDMap': /'Identity', 'DW': 1000, 'CIDSystemInfo': <PDFObjRef:41>, 'FontDescriptor': <PDFObjRef:42>, 'W': <PDFObjRef:409>, 'Encoding': /'Identity-H', 'ToUnicode': <PDFStream(407): raw=226, {'Filter': /'FlateDecode', 'Length': 224}>}\n",
      "2017-07-01 19:12:12,605 : INFO : Page: {'Type': /'Page', 'Parent': <PDFObjRef:2>, 'Resources': {'Font': {'F1': <PDFObjRef:5>, 'F2': <PDFObjRef:9>, 'F9': <PDFObjRef:36>, 'F3': <PDFObjRef:11>, 'F6': <PDFObjRef:22>, 'F4': <PDFObjRef:15>, 'F5': <PDFObjRef:20>}, 'ExtGState': {'GS7': <PDFObjRef:7>, 'GS8': <PDFObjRef:8>}, 'ProcSet': [/'PDF', /'Text', /'ImageB', /'ImageC', /'ImageI']}, 'MediaBox': [0, 0, 612, 792], 'Contents': <PDFObjRef:44>, 'Group': {'Type': /'Group', 'S': /'Transparency', 'CS': /'DeviceRGB'}, 'Tabs': /'S', 'StructParents': 4}\n",
      "2017-07-01 19:12:12,608 : INFO : Processing page: <PDFPage: Resources={'Font': {'F1': <PDFObjRef:5>, 'F2': <PDFObjRef:9>, 'F9': <PDFObjRef:36>, 'F3': <PDFObjRef:11>, 'F6': <PDFObjRef:22>, 'F4': <PDFObjRef:15>, 'F5': <PDFObjRef:20>}, 'ExtGState': {'GS7': <PDFObjRef:7>, 'GS8': <PDFObjRef:8>}, 'ProcSet': [/'PDF', /'Text', /'ImageB', /'ImageC', /'ImageI']}, MediaBox=[0, 0, 612, 792]>\n",
      "2017-07-01 19:12:12,611 : INFO : render_contents: resources={'Font': {'F1': <PDFObjRef:5>, 'F2': <PDFObjRef:9>, 'F9': <PDFObjRef:36>, 'F3': <PDFObjRef:11>, 'F6': <PDFObjRef:22>, 'F4': <PDFObjRef:15>, 'F5': <PDFObjRef:20>}, 'ExtGState': {'GS7': <PDFObjRef:7>, 'GS8': <PDFObjRef:8>}, 'ProcSet': [/'PDF', /'Text', /'ImageB', /'ImageC', /'ImageI']}, streams=[<PDFStream(44): raw=5437, {'Filter': /'FlateDecode', 'Length': 5435}>], ctm=(1, 0, 0, 1, 0, 0)\n",
      "2017-07-01 19:12:13,021 : INFO : Page: {'Type': /'Page', 'Parent': <PDFObjRef:2>, 'Resources': {'Font': {'F1': <PDFObjRef:5>, 'F2': <PDFObjRef:9>, 'F9': <PDFObjRef:36>, 'F3': <PDFObjRef:11>, 'F10': <PDFObjRef:38>, 'F4': <PDFObjRef:15>, 'F5': <PDFObjRef:20>}, 'ExtGState': {'GS7': <PDFObjRef:7>, 'GS8': <PDFObjRef:8>}, 'ProcSet': [/'PDF', /'Text', /'ImageB', /'ImageC', /'ImageI']}, 'MediaBox': [0, 0, 612, 792], 'Contents': <PDFObjRef:46>, 'Group': {'Type': /'Group', 'S': /'Transparency', 'CS': /'DeviceRGB'}, 'Tabs': /'S', 'StructParents': 5}\n",
      "2017-07-01 19:12:13,024 : INFO : Processing page: <PDFPage: Resources={'Font': {'F1': <PDFObjRef:5>, 'F2': <PDFObjRef:9>, 'F9': <PDFObjRef:36>, 'F3': <PDFObjRef:11>, 'F10': <PDFObjRef:38>, 'F4': <PDFObjRef:15>, 'F5': <PDFObjRef:20>}, 'ExtGState': {'GS7': <PDFObjRef:7>, 'GS8': <PDFObjRef:8>}, 'ProcSet': [/'PDF', /'Text', /'ImageB', /'ImageC', /'ImageI']}, MediaBox=[0, 0, 612, 792]>\n",
      "2017-07-01 19:12:13,027 : INFO : render_contents: resources={'Font': {'F1': <PDFObjRef:5>, 'F2': <PDFObjRef:9>, 'F9': <PDFObjRef:36>, 'F3': <PDFObjRef:11>, 'F10': <PDFObjRef:38>, 'F4': <PDFObjRef:15>, 'F5': <PDFObjRef:20>}, 'ExtGState': {'GS7': <PDFObjRef:7>, 'GS8': <PDFObjRef:8>}, 'ProcSet': [/'PDF', /'Text', /'ImageB', /'ImageC', /'ImageI']}, streams=[<PDFStream(46): raw=4759, {'Filter': /'FlateDecode', 'Length': 4757}>], ctm=(1, 0, 0, 1, 0, 0)\n",
      "2017-07-01 19:12:13,409 : INFO : Page: {'Type': /'Page', 'Parent': <PDFObjRef:2>, 'Resources': {'Font': {'F1': <PDFObjRef:5>, 'F2': <PDFObjRef:9>, 'F8': <PDFObjRef:34>, 'F7': <PDFObjRef:29>, 'F5': <PDFObjRef:20>, 'F3': <PDFObjRef:11>, 'F6': <PDFObjRef:22>, 'F9': <PDFObjRef:36>}, 'ExtGState': {'GS7': <PDFObjRef:7>, 'GS8': <PDFObjRef:8>}, 'ProcSet': [/'PDF', /'Text', /'ImageB', /'ImageC', /'ImageI']}, 'MediaBox': [0, 0, 612, 792], 'Contents': <PDFObjRef:48>, 'Group': {'Type': /'Group', 'S': /'Transparency', 'CS': /'DeviceRGB'}, 'Tabs': /'S', 'StructParents': 6}\n",
      "2017-07-01 19:12:13,411 : INFO : Processing page: <PDFPage: Resources={'Font': {'F1': <PDFObjRef:5>, 'F2': <PDFObjRef:9>, 'F8': <PDFObjRef:34>, 'F7': <PDFObjRef:29>, 'F5': <PDFObjRef:20>, 'F3': <PDFObjRef:11>, 'F6': <PDFObjRef:22>, 'F9': <PDFObjRef:36>}, 'ExtGState': {'GS7': <PDFObjRef:7>, 'GS8': <PDFObjRef:8>}, 'ProcSet': [/'PDF', /'Text', /'ImageB', /'ImageC', /'ImageI']}, MediaBox=[0, 0, 612, 792]>\n",
      "2017-07-01 19:12:13,414 : INFO : render_contents: resources={'Font': {'F1': <PDFObjRef:5>, 'F2': <PDFObjRef:9>, 'F8': <PDFObjRef:34>, 'F7': <PDFObjRef:29>, 'F5': <PDFObjRef:20>, 'F3': <PDFObjRef:11>, 'F6': <PDFObjRef:22>, 'F9': <PDFObjRef:36>}, 'ExtGState': {'GS7': <PDFObjRef:7>, 'GS8': <PDFObjRef:8>}, 'ProcSet': [/'PDF', /'Text', /'ImageB', /'ImageC', /'ImageI']}, streams=[<PDFStream(48): raw=3852, {'Filter': /'FlateDecode', 'Length': 3850}>], ctm=(1, 0, 0, 1, 0, 0)\n"
     ]
    },
    {
     "name": "stdout",
     "output_type": "stream",
     "text": [
      "Corpus is now 496363 characters long\n",
      "\n",
      "Reading 'Teradata Resume 2.docx'...\n",
      "Corpus is now 509867 characters long\n",
      "\n",
      "Reading 'Terdata Resume 1.docx'...\n",
      "Corpus is now 514897 characters long\n",
      "\n",
      "Reading 'VNPoornimaDeviS[4_7].docx'...\n",
      "Corpus is now 521889 characters long\n",
      "\n",
      "Reading 'Venkatesh[4_1].doc'...\n",
      "Corpus is now 527979 characters long\n",
      "\n",
      "Reading 'kishorekumar.docx'...\n",
      "Corpus is now 531399 characters long\n",
      "\n",
      "Reading 'punitSingh.docx'...\n",
      "Corpus is now 534980 characters long\n",
      "\n",
      "Wall time: 14.2 s\n"
     ]
    }
   ],
   "source": [
    "%%time\n",
    "corpus_raw = u\"\"\n",
    "for resumes in resume_filenames:\n",
    "    print(\"Reading '{0}'...\".format(resumes))\n",
    "    corpus_raw+=document_to_text(resumes,os.path.join('./',resumes))\n",
    "    print(\"Corpus is now {0} characters long\".format(len(corpus_raw)))\n",
    "    print() \n",
    "    \n",
    "    "
   ]
  },
  {
   "cell_type": "code",
   "execution_count": 124,
   "metadata": {
    "collapsed": false
   },
   "outputs": [],
   "source": [
    "tokenizer = nltk.data.load('tokenizers/punkt/english.pickle')"
   ]
  },
  {
   "cell_type": "code",
   "execution_count": 125,
   "metadata": {
    "collapsed": true
   },
   "outputs": [],
   "source": [
    "raw_sentences = tokenizer.tokenize(corpus_raw)"
   ]
  },
  {
   "cell_type": "markdown",
   "metadata": {},
   "source": [
    "## Cleanup - preprocessing"
   ]
  },
  {
   "cell_type": "code",
   "execution_count": 164,
   "metadata": {
    "collapsed": true
   },
   "outputs": [],
   "source": [
    "from nltk.corpus import stopwords\n",
    "stop_words = stopwords.words('english')\n",
    "punctuations_list = [',', '?', ':', ';', '!', ')', '(', '\\'','\"','*','/','<','>','{','}','[',']']"
   ]
  },
  {
   "cell_type": "code",
   "execution_count": 165,
   "metadata": {
    "collapsed": false
   },
   "outputs": [],
   "source": [
    "#convert into a list of words\n",
    "#rtemove unnnecessary,, split into words, no hyphens\n",
    "#list of words\n",
    "def sentence_to_wordlist(raw):\n",
    "    for punctuation in punctuations_list:            \n",
    "        raw = raw.replace(punctuation, \" \")\n",
    "    clean1 = re.sub(\"\\|\",\" \", raw)\n",
    "    clean2 = re.sub(\"\\r\\n\",\" \",clean1)\n",
    "    clean3 = re.sub(\"\\t\", \" \", clean2)\n",
    "    clean4 = re.sub(\"\\n\", \" \", clean3)\n",
    "    clean5 = cleanStr(clean4)\n",
    "    clean6 = clean5.lower().split()\n",
    "    words=[w for w in clean6 if w not in stop_words]\n",
    "    return words\n",
    "\n"
   ]
  },
  {
   "cell_type": "code",
   "execution_count": 166,
   "metadata": {
    "collapsed": false
   },
   "outputs": [],
   "source": [
    "#sentence where each word is tokenized\n",
    "sentences = []\n",
    "for raw_sentence in raw_sentences:\n",
    "    if len(raw_sentence) > 0:\n",
    "        sentences.append(sentence_to_wordlist(raw_sentence))"
   ]
  },
  {
   "cell_type": "code",
   "execution_count": 167,
   "metadata": {
    "collapsed": false
   },
   "outputs": [
    {
     "name": "stdout",
     "output_type": "stream",
     "text": [
      "|\r\n",
      "|Hands on experience in Java and J2EE (JDBC, Servlet, JSP).\n",
      "['hands', 'experience', 'java', 'j2ee', 'jdbc', 'servlet', 'jsp', '.']\n"
     ]
    }
   ],
   "source": [
    "print(raw_sentences[1])\n",
    "print(sentence_to_wordlist(raw_sentences[1]))"
   ]
  },
  {
   "cell_type": "code",
   "execution_count": 168,
   "metadata": {
    "collapsed": false
   },
   "outputs": [
    {
     "name": "stdout",
     "output_type": "stream",
     "text": [
      "The resumes corpus contains 54,434 tokens\n"
     ]
    }
   ],
   "source": [
    "token_count = sum([len(sentence) for sentence in sentences])\n",
    "print(\"The resumes corpus contains {0:,} tokens\".format(token_count))"
   ]
  },
  {
   "cell_type": "code",
   "execution_count": 169,
   "metadata": {
    "collapsed": false
   },
   "outputs": [
    {
     "data": {
      "text/plain": [
       "4"
      ]
     },
     "execution_count": 169,
     "metadata": {},
     "output_type": "execute_result"
    }
   ],
   "source": [
    "multiprocessing.cpu_count()"
   ]
  },
  {
   "cell_type": "markdown",
   "metadata": {},
   "source": [
    "## Train Word2Vec"
   ]
  },
  {
   "cell_type": "code",
   "execution_count": 211,
   "metadata": {
    "collapsed": true
   },
   "outputs": [],
   "source": [
    "#ONCE we have vectors\n",
    "#step 3 - build model\n",
    "#3 main tasks that vectors help with\n",
    "#DISTANCE, SIMILARITY, RANKING\n",
    "\n",
    "# Dimensionality of the resulting word vectors.\n",
    "#more dimensions, more computationally expensive to train\n",
    "#but also more accurate\n",
    "#more dimensions = more generalized\n",
    "num_features = 500\n",
    "# Minimum word count threshold.\n",
    "min_word_count = 3\n",
    "\n",
    "# Number of threads to run in parallel.\n",
    "#more workers, faster we train\n",
    "num_workers = multiprocessing.cpu_count()\n",
    "\n",
    "# Context window length.\n",
    "context_size = 4\n",
    "\n",
    "# Downsample setting for frequent words.\n",
    "#0 - 1e-5 is good for this\n",
    "downsampling = 1e-3\n",
    "\n",
    "# Seed for the RNG, to make the results reproducible.\n",
    "#random number generator\n",
    "#deterministic, good for debugging\n",
    "seed = 1\n",
    "\n",
    "token_count = sum([len(sentence) for sentence in sentences])"
   ]
  },
  {
   "cell_type": "code",
   "execution_count": 212,
   "metadata": {
    "collapsed": true
   },
   "outputs": [],
   "source": [
    "res2vec=w2v.Word2Vec(sg=0,seed=seed,workers=num_workers,size=num_features,min_count=min_word_count,window=context_size,sample=downsampling)"
   ]
  },
  {
   "cell_type": "code",
   "execution_count": 213,
   "metadata": {
    "collapsed": false
   },
   "outputs": [
    {
     "name": "stderr",
     "output_type": "stream",
     "text": [
      "2017-07-02 02:13:14,119 : INFO : collecting all words and their counts\n",
      "2017-07-02 02:13:14,122 : INFO : PROGRESS: at sentence #0, processed 0 words, keeping 0 word types\n",
      "2017-07-02 02:13:14,148 : INFO : collected 8752 word types from a corpus of 54434 raw words and 4070 sentences\n",
      "2017-07-02 02:13:14,151 : INFO : Loading a fresh vocabulary\n",
      "2017-07-02 02:13:14,177 : INFO : min_count=3 retains 3028 unique words (34% of original 8752, drops 5724)\n",
      "2017-07-02 02:13:14,179 : INFO : min_count=3 leaves 47308 word corpus (86% of original 54434, drops 7126)\n",
      "2017-07-02 02:13:14,207 : INFO : deleting the raw counts dictionary of 8752 items\n",
      "2017-07-02 02:13:14,209 : INFO : sample=0.001 downsamples 45 most-common words\n",
      "2017-07-02 02:13:14,211 : INFO : downsampling leaves estimated 43357 word corpus (91.6% of prior 47308)\n",
      "2017-07-02 02:13:14,213 : INFO : estimated required memory for 3028 words and 500 dimensions: 13626000 bytes\n",
      "2017-07-02 02:13:14,237 : INFO : resetting layer weights\n"
     ]
    },
    {
     "name": "stdout",
     "output_type": "stream",
     "text": [
      "Wall time: 242 ms\n"
     ]
    }
   ],
   "source": [
    "%%time\n",
    "res2vec.build_vocab(sentences)"
   ]
  },
  {
   "cell_type": "code",
   "execution_count": 214,
   "metadata": {
    "collapsed": false
   },
   "outputs": [
    {
     "name": "stdout",
     "output_type": "stream",
     "text": [
      "Word2Vec vocabulary length: 3028\n"
     ]
    }
   ],
   "source": [
    "print(\"Word2Vec vocabulary length:\", len(res2vec.wv.vocab))"
   ]
  },
  {
   "cell_type": "markdown",
   "metadata": {},
   "source": [
    "## Start Training"
   ]
  },
  {
   "cell_type": "code",
   "execution_count": 215,
   "metadata": {
    "collapsed": false
   },
   "outputs": [
    {
     "name": "stderr",
     "output_type": "stream",
     "text": [
      "2017-07-02 02:13:30,548 : INFO : training model with 4 workers on 3028 vocabulary and 500 features, using sg=0 hs=0 sample=0.001 negative=5 window=4\n",
      "2017-07-02 02:13:31,247 : INFO : worker thread finished; awaiting finish of 3 more threads\n",
      "2017-07-02 02:13:31,252 : INFO : worker thread finished; awaiting finish of 2 more threads\n",
      "2017-07-02 02:13:31,276 : INFO : worker thread finished; awaiting finish of 1 more threads\n",
      "2017-07-02 02:13:31,284 : INFO : worker thread finished; awaiting finish of 0 more threads\n",
      "2017-07-02 02:13:31,286 : INFO : training on 272170 raw words (216808 effective words) took 0.7s, 303823 effective words/s\n",
      "2017-07-02 02:13:31,288 : WARNING : under 10 jobs per worker: consider setting a smaller `batch_words' for smoother alpha decay\n",
      "2017-07-02 02:13:31,290 : WARNING : supplied example count (20350) did not equal expected count (272170)\n"
     ]
    },
    {
     "name": "stdout",
     "output_type": "stream",
     "text": [
      "Wall time: 742 ms\n"
     ]
    },
    {
     "data": {
      "text/plain": [
       "216808"
      ]
     },
     "execution_count": 215,
     "metadata": {},
     "output_type": "execute_result"
    }
   ],
   "source": [
    "%%time\n",
    "res2vec.train(sentences,total_examples = token_count,epochs = res2vec.iter )"
   ]
  },
  {
   "cell_type": "code",
   "execution_count": 216,
   "metadata": {
    "collapsed": false
   },
   "outputs": [
    {
     "name": "stderr",
     "output_type": "stream",
     "text": [
      "2017-07-02 02:13:55,842 : INFO : saving Word2Vec object under ../res2vecModITDomain4CBOW.w2v, separately None\n",
      "2017-07-02 02:13:55,845 : INFO : not storing attribute syn0norm\n",
      "2017-07-02 02:13:55,847 : INFO : not storing attribute cum_table\n",
      "2017-07-02 02:13:56,058 : INFO : saved ../res2vecModITDomain4CBOW.w2v\n"
     ]
    }
   ],
   "source": [
    "res2vec.save(os.path.join('../res2vecModITDomain4CBOW.w2v'))"
   ]
  },
  {
   "cell_type": "code",
   "execution_count": 217,
   "metadata": {
    "collapsed": false
   },
   "outputs": [
    {
     "name": "stderr",
     "output_type": "stream",
     "text": [
      "2017-07-02 02:14:00,085 : INFO : loading Word2Vec object from ../res2vecModITDomain4CBOW.w2v\n",
      "2017-07-02 02:14:00,273 : INFO : loading wv recursively from ../res2vecModITDomain4CBOW.w2v.wv.* with mmap=None\n",
      "2017-07-02 02:14:00,274 : INFO : setting ignored attribute syn0norm to None\n",
      "2017-07-02 02:14:00,276 : INFO : setting ignored attribute cum_table to None\n",
      "2017-07-02 02:14:00,277 : INFO : loaded ../res2vecModITDomain4CBOW.w2v\n"
     ]
    }
   ],
   "source": [
    "res2vec = w2v.Word2Vec.load(os.path.join('../res2vecModITDomain4CBOW.w2v'))"
   ]
  },
  {
   "cell_type": "markdown",
   "metadata": {},
   "source": [
    "## Test Model"
   ]
  },
  {
   "cell_type": "code",
   "execution_count": 112,
   "metadata": {
    "collapsed": false
   },
   "outputs": [
    {
     "name": "stderr",
     "output_type": "stream",
     "text": [
      "2017-07-01 18:59:39,886 : INFO : xref found: pos=b'116'\n",
      "2017-07-01 18:59:39,888 : INFO : read_xref_from: start=116, token=162\n",
      "2017-07-01 18:59:39,893 : INFO : xref stream: objid=(146, 31), fields=1,2,1\n",
      "2017-07-01 18:59:39,895 : INFO : trailer: {'DecodeParms': {'Columns': 4, 'Predictor': 12}, 'Filter': /'FlateDecode', 'ID': [b'#y\\x94~<\\x14\\xddE\\x8a\\xf9>{\\xdd\\t\\xce,', b'\\x8b\\xf8\\x00\\x80\\x9f\\xe05M\\x9e\\x00\\xdc*G\\xbf\\x8c\\xf6'], 'Index': [146, 31], 'Info': <PDFObjRef:145>, 'Length': 82, 'Prev': 26967, 'Root': <PDFObjRef:147>, 'Size': 177, 'Type': /'XRef', 'W': [1, 2, 1]}\n",
      "2017-07-01 18:59:39,897 : INFO : read_xref_from: start=26967, token=10\n",
      "2017-07-01 18:59:39,902 : INFO : xref stream: objid=(0, 146), fields=1,2,1\n",
      "2017-07-01 18:59:39,904 : INFO : trailer: {'DecodeParms': {'Columns': 4, 'Predictor': 12}, 'Filter': /'FlateDecode', 'ID': [b'#y\\x94~<\\x14\\xddE\\x8a\\xf9>{\\xdd\\t\\xce,', b'\\x8b\\xf8\\x00\\x80\\x9f\\xe05M\\x9e\\x00\\xdc*G\\xbf\\x8c\\xf6'], 'Info': <PDFObjRef:145>, 'Length': 74, 'Root': <PDFObjRef:147>, 'Size': 146, 'Type': /'XRef', 'W': [1, 2, 1]}\n"
     ]
    },
    {
     "name": "stdout",
     "output_type": "stream",
     "text": [
      "Reading 'AnitaGanguli_363321_-15_-_1.docx'...\n",
      "Corpus is now 686294 characters long\n",
      "\n",
      "Reading 'AnumehaVerma_362785_-07_00-_1.pdf'...\n"
     ]
    },
    {
     "name": "stderr",
     "output_type": "stream",
     "text": [
      "2017-07-01 18:59:40,113 : INFO : Pages: Kids=[<PDFObjRef:148>, <PDFObjRef:1>]\n",
      "2017-07-01 18:59:40,125 : INFO : Page: {'Contents': [<PDFObjRef:150>, <PDFObjRef:151>, <PDFObjRef:152>, <PDFObjRef:153>, <PDFObjRef:154>, <PDFObjRef:155>, <PDFObjRef:156>, <PDFObjRef:158>], 'CropBox': [0.0, 0.0, 595.32, 841.92], 'Group': <PDFObjRef:175>, 'MediaBox': [0.0, 0.0, 595.32, 841.92], 'Parent': <PDFObjRef:144>, 'Resources': {'ColorSpace': {'CS0': <PDFObjRef:163>, 'CS1': <PDFObjRef:164>, 'CS2': <PDFObjRef:163>}, 'ExtGState': {'GS0': <PDFObjRef:165>}, 'Font': {'TT0': <PDFObjRef:167>, 'TT1': <PDFObjRef:169>, 'TT2': <PDFObjRef:171>, 'TT3': <PDFObjRef:173>}, 'XObject': {'Im0': <PDFObjRef:157>, 'Im1': <PDFObjRef:157>, 'Im10': <PDFObjRef:157>, 'Im11': <PDFObjRef:157>, 'Im12': <PDFObjRef:157>, 'Im13': <PDFObjRef:157>, 'Im14': <PDFObjRef:157>, 'Im15': <PDFObjRef:157>, 'Im16': <PDFObjRef:157>, 'Im17': <PDFObjRef:157>, 'Im18': <PDFObjRef:157>, 'Im19': <PDFObjRef:157>, 'Im2': <PDFObjRef:157>, 'Im3': <PDFObjRef:157>, 'Im4': <PDFObjRef:157>, 'Im5': <PDFObjRef:157>, 'Im6': <PDFObjRef:157>, 'Im7': <PDFObjRef:157>, 'Im8': <PDFObjRef:157>, 'Im9': <PDFObjRef:157>}}, 'Rotate': 0, 'StructParents': 0, 'Type': /'Page'}\n",
      "2017-07-01 18:59:40,127 : INFO : Processing page: <PDFPage: Resources={'ColorSpace': {'CS0': <PDFObjRef:163>, 'CS1': <PDFObjRef:164>, 'CS2': <PDFObjRef:163>}, 'ExtGState': {'GS0': <PDFObjRef:165>}, 'Font': {'TT0': <PDFObjRef:167>, 'TT1': <PDFObjRef:169>, 'TT2': <PDFObjRef:171>, 'TT3': <PDFObjRef:173>}, 'XObject': {'Im0': <PDFObjRef:157>, 'Im1': <PDFObjRef:157>, 'Im10': <PDFObjRef:157>, 'Im11': <PDFObjRef:157>, 'Im12': <PDFObjRef:157>, 'Im13': <PDFObjRef:157>, 'Im14': <PDFObjRef:157>, 'Im15': <PDFObjRef:157>, 'Im16': <PDFObjRef:157>, 'Im17': <PDFObjRef:157>, 'Im18': <PDFObjRef:157>, 'Im19': <PDFObjRef:157>, 'Im2': <PDFObjRef:157>, 'Im3': <PDFObjRef:157>, 'Im4': <PDFObjRef:157>, 'Im5': <PDFObjRef:157>, 'Im6': <PDFObjRef:157>, 'Im7': <PDFObjRef:157>, 'Im8': <PDFObjRef:157>, 'Im9': <PDFObjRef:157>}}, MediaBox=[0.0, 0.0, 595.32, 841.92]>\n",
      "2017-07-01 18:59:40,130 : INFO : render_contents: resources={'ColorSpace': {'CS0': <PDFObjRef:163>, 'CS1': <PDFObjRef:164>, 'CS2': <PDFObjRef:163>}, 'ExtGState': {'GS0': <PDFObjRef:165>}, 'Font': {'TT0': <PDFObjRef:167>, 'TT1': <PDFObjRef:169>, 'TT2': <PDFObjRef:171>, 'TT3': <PDFObjRef:173>}, 'XObject': {'Im0': <PDFObjRef:157>, 'Im1': <PDFObjRef:157>, 'Im10': <PDFObjRef:157>, 'Im11': <PDFObjRef:157>, 'Im12': <PDFObjRef:157>, 'Im13': <PDFObjRef:157>, 'Im14': <PDFObjRef:157>, 'Im15': <PDFObjRef:157>, 'Im16': <PDFObjRef:157>, 'Im17': <PDFObjRef:157>, 'Im18': <PDFObjRef:157>, 'Im19': <PDFObjRef:157>, 'Im2': <PDFObjRef:157>, 'Im3': <PDFObjRef:157>, 'Im4': <PDFObjRef:157>, 'Im5': <PDFObjRef:157>, 'Im6': <PDFObjRef:157>, 'Im7': <PDFObjRef:157>, 'Im8': <PDFObjRef:157>, 'Im9': <PDFObjRef:157>}}, streams=[<PDFObjRef:150>, <PDFObjRef:151>, <PDFObjRef:152>, <PDFObjRef:153>, <PDFObjRef:154>, <PDFObjRef:155>, <PDFObjRef:156>, <PDFObjRef:158>], ctm=(1, 0, 0, 1, -0.0, -0.0)\n",
      "2017-07-01 18:59:40,189 : INFO : get_font: create: objid=167, spec={'BaseFont': /'TimesNewRomanPSMT', 'Encoding': /'WinAnsiEncoding', 'FirstChar': 0, 'FontDescriptor': <PDFObjRef:166>, 'LastChar': 255, 'Subtype': /'TrueType', 'Type': /'Font', 'Widths': [778, 778, 778, 778, 778, 778, 778, 778, 778, 778, 778, 778, 778, 778, 778, 778, 778, 778, 778, 778, 778, 778, 778, 778, 778, 778, 778, 778, 778, 778, 778, 778, 250, 333, 408, 500, 500, 833, 778, 180, 333, 333, 500, 564, 250, 333, 250, 278, 500, 500, 500, 500, 500, 500, 500, 500, 500, 500, 278, 278, 564, 564, 564, 444, 921, 722, 667, 667, 722, 611, 556, 722, 722, 333, 389, 722, 611, 889, 722, 722, 556, 722, 667, 556, 611, 722, 722, 944, 722, 722, 611, 333, 278, 333, 469, 500, 333, 444, 500, 444, 500, 444, 333, 500, 500, 278, 278, 500, 278, 778, 500, 500, 500, 500, 333, 389, 278, 500, 500, 722, 500, 500, 444, 480, 200, 480, 541, 350, 500, 350, 333, 500, 444, 1000, 500, 500, 333, 1000, 556, 333, 889, 350, 611, 350, 350, 333, 333, 444, 444, 350, 500, 1000, 333, 980, 389, 333, 722, 350, 444, 722, 250, 333, 500, 500, 500, 500, 200, 500, 333, 760, 276, 500, 564, 333, 760, 500, 400, 549, 300, 300, 333, 576, 453, 333, 333, 300, 310, 500, 750, 750, 750, 444, 722, 722, 722, 722, 722, 722, 889, 667, 611, 611, 611, 611, 333, 333, 333, 333, 722, 722, 722, 722, 722, 722, 722, 564, 722, 722, 722, 722, 722, 722, 556, 500, 444, 444, 444, 444, 444, 444, 667, 444, 444, 444, 444, 444, 278, 278, 278, 278, 500, 500, 500, 500, 500, 500, 500, 549, 500, 500, 500, 500, 500, 500, 500, 500]}\n",
      "2017-07-01 18:59:40,192 : INFO : get_font: create: objid=169, spec={'BaseFont': /'TimesNewRomanPS-ItalicMT', 'Encoding': /'WinAnsiEncoding', 'FirstChar': 0, 'FontDescriptor': <PDFObjRef:168>, 'LastChar': 255, 'Subtype': /'TrueType', 'Type': /'Font', 'Widths': [778, 778, 778, 778, 778, 778, 778, 778, 778, 778, 778, 778, 778, 778, 778, 778, 778, 778, 778, 778, 778, 778, 778, 778, 778, 778, 778, 778, 778, 778, 778, 778, 250, 333, 420, 500, 500, 833, 778, 214, 333, 333, 500, 675, 250, 333, 250, 278, 500, 500, 500, 500, 500, 500, 500, 500, 500, 500, 333, 333, 675, 675, 675, 500, 920, 611, 611, 667, 722, 611, 611, 722, 722, 333, 444, 667, 556, 833, 667, 722, 611, 722, 611, 500, 556, 722, 611, 833, 611, 556, 556, 389, 278, 389, 422, 500, 333, 500, 500, 444, 500, 444, 278, 500, 500, 278, 278, 444, 278, 722, 500, 500, 500, 500, 389, 389, 278, 500, 444, 667, 444, 444, 389, 400, 275, 400, 541, 350, 500, 350, 333, 500, 556, 889, 500, 500, 333, 1000, 500, 333, 944, 350, 556, 350, 350, 333, 333, 556, 556, 350, 500, 889, 333, 980, 389, 333, 667, 350, 389, 556, 250, 389, 500, 500, 500, 500, 275, 500, 333, 760, 276, 500, 675, 333, 760, 500, 400, 549, 300, 300, 333, 576, 523, 250, 333, 300, 310, 500, 750, 750, 750, 500, 611, 611, 611, 611, 611, 611, 889, 667, 611, 611, 611, 611, 333, 333, 333, 333, 722, 667, 722, 722, 722, 722, 722, 675, 722, 722, 722, 722, 722, 556, 611, 500, 500, 500, 500, 500, 500, 500, 667, 444, 444, 444, 444, 444, 278, 278, 278, 278, 500, 500, 500, 500, 500, 500, 500, 549, 500, 500, 500, 500, 500, 444, 500, 444]}\n",
      "2017-07-01 18:59:40,194 : INFO : get_font: create: objid=171, spec={'BaseFont': /'TimesNewRomanPS-BoldMT', 'Encoding': /'WinAnsiEncoding', 'FirstChar': 0, 'FontDescriptor': <PDFObjRef:170>, 'LastChar': 255, 'Subtype': /'TrueType', 'Type': /'Font', 'Widths': [778, 778, 778, 778, 778, 778, 778, 778, 778, 778, 778, 778, 778, 778, 778, 778, 778, 778, 778, 778, 778, 778, 778, 778, 778, 778, 778, 778, 778, 778, 778, 778, 250, 333, 555, 500, 500, 1000, 833, 278, 333, 333, 500, 570, 250, 333, 250, 278, 500, 500, 500, 500, 500, 500, 500, 500, 500, 500, 333, 333, 570, 570, 570, 500, 930, 722, 667, 722, 722, 667, 611, 778, 778, 389, 500, 778, 667, 944, 722, 778, 611, 778, 722, 556, 667, 722, 722, 1000, 722, 722, 667, 333, 278, 333, 581, 500, 333, 500, 556, 444, 556, 444, 333, 500, 556, 278, 333, 556, 278, 833, 556, 500, 556, 556, 444, 389, 333, 556, 500, 722, 500, 500, 444, 394, 220, 394, 520, 350, 500, 350, 333, 500, 500, 1000, 500, 500, 333, 1000, 556, 333, 1000, 350, 667, 350, 350, 333, 333, 500, 500, 350, 500, 1000, 333, 1000, 389, 333, 722, 350, 444, 722, 250, 333, 500, 500, 500, 500, 220, 500, 333, 747, 300, 500, 570, 333, 747, 500, 400, 549, 300, 300, 333, 576, 540, 333, 333, 300, 330, 500, 750, 750, 750, 500, 722, 722, 722, 722, 722, 722, 1000, 722, 667, 667, 667, 667, 389, 389, 389, 389, 722, 722, 778, 778, 778, 778, 778, 570, 778, 722, 722, 722, 722, 722, 611, 556, 500, 500, 500, 500, 500, 500, 722, 444, 444, 444, 444, 444, 278, 278, 278, 278, 500, 556, 500, 500, 500, 500, 500, 549, 500, 556, 556, 556, 556, 500, 556, 500]}\n",
      "2017-07-01 18:59:40,197 : INFO : get_font: create: objid=173, spec={'BaseFont': /'ArialMT', 'Encoding': /'WinAnsiEncoding', 'FirstChar': 0, 'FontDescriptor': <PDFObjRef:172>, 'LastChar': 255, 'Subtype': /'TrueType', 'Type': /'Font', 'Widths': [750, 750, 750, 750, 750, 750, 750, 750, 750, 750, 750, 750, 750, 750, 750, 750, 750, 750, 750, 750, 750, 750, 750, 750, 750, 750, 750, 750, 750, 750, 750, 750, 278, 278, 355, 556, 556, 889, 667, 191, 333, 333, 389, 584, 278, 333, 278, 278, 556, 556, 556, 556, 556, 556, 556, 556, 556, 556, 278, 278, 584, 584, 584, 556, 1015, 667, 667, 722, 722, 667, 611, 778, 722, 278, 500, 667, 556, 833, 722, 778, 667, 778, 722, 667, 611, 722, 667, 944, 667, 667, 611, 278, 278, 278, 469, 556, 333, 556, 556, 500, 556, 556, 278, 556, 556, 222, 222, 500, 222, 833, 556, 556, 556, 556, 333, 500, 278, 556, 500, 722, 500, 500, 500, 334, 260, 334, 584, 350, 556, 350, 222, 556, 333, 1000, 556, 556, 333, 1000, 667, 333, 1000, 350, 611, 350, 350, 222, 222, 333, 333, 350, 556, 1000, 333, 1000, 500, 333, 944, 350, 500, 667, 278, 333, 556, 556, 556, 556, 260, 556, 333, 737, 370, 556, 584, 333, 737, 552, 400, 549, 333, 333, 333, 576, 537, 333, 333, 333, 365, 556, 834, 834, 834, 611, 667, 667, 667, 667, 667, 667, 1000, 722, 667, 667, 667, 667, 278, 278, 278, 278, 722, 722, 778, 778, 778, 778, 778, 584, 778, 722, 722, 722, 722, 667, 667, 611, 556, 556, 556, 556, 556, 556, 889, 500, 556, 556, 556, 556, 278, 278, 278, 278, 556, 556, 556, 556, 556, 556, 556, 549, 611, 556, 556, 556, 556, 500, 556, 500]}\n",
      "2017-07-01 18:59:40,318 : INFO : Processing xobj: <PDFStream(157): raw=627, {'BitsPerComponent': 8, 'ColorSpace': <PDFObjRef:174>, 'Filter': /'DCTDecode', 'Height': 12, 'Length': 625, 'Name': /'X', 'SMask': <PDFObjRef:161>, 'Subtype': /'Image', 'Type': /'XObject', 'Width': 12}>\n",
      "2017-07-01 18:59:40,337 : INFO : Processing xobj: <PDFStream(157): raw=627, {'BitsPerComponent': 8, 'ColorSpace': <PDFObjRef:174>, 'Filter': /'DCTDecode', 'Height': 12, 'Length': 625, 'Name': /'X', 'SMask': <PDFObjRef:161>, 'Subtype': /'Image', 'Type': /'XObject', 'Width': 12}>\n",
      "2017-07-01 18:59:40,360 : INFO : Processing xobj: <PDFStream(157): raw=627, {'BitsPerComponent': 8, 'ColorSpace': <PDFObjRef:174>, 'Filter': /'DCTDecode', 'Height': 12, 'Length': 625, 'Name': /'X', 'SMask': <PDFObjRef:161>, 'Subtype': /'Image', 'Type': /'XObject', 'Width': 12}>\n",
      "2017-07-01 18:59:40,374 : INFO : Processing xobj: <PDFStream(157): raw=627, {'BitsPerComponent': 8, 'ColorSpace': <PDFObjRef:174>, 'Filter': /'DCTDecode', 'Height': 12, 'Length': 625, 'Name': /'X', 'SMask': <PDFObjRef:161>, 'Subtype': /'Image', 'Type': /'XObject', 'Width': 12}>\n",
      "2017-07-01 18:59:40,395 : INFO : Processing xobj: <PDFStream(157): raw=627, {'BitsPerComponent': 8, 'ColorSpace': <PDFObjRef:174>, 'Filter': /'DCTDecode', 'Height': 12, 'Length': 625, 'Name': /'X', 'SMask': <PDFObjRef:161>, 'Subtype': /'Image', 'Type': /'XObject', 'Width': 12}>\n",
      "2017-07-01 18:59:40,414 : INFO : Processing xobj: <PDFStream(157): raw=627, {'BitsPerComponent': 8, 'ColorSpace': <PDFObjRef:174>, 'Filter': /'DCTDecode', 'Height': 12, 'Length': 625, 'Name': /'X', 'SMask': <PDFObjRef:161>, 'Subtype': /'Image', 'Type': /'XObject', 'Width': 12}>\n",
      "2017-07-01 18:59:40,429 : INFO : Processing xobj: <PDFStream(157): raw=627, {'BitsPerComponent': 8, 'ColorSpace': <PDFObjRef:174>, 'Filter': /'DCTDecode', 'Height': 12, 'Length': 625, 'Name': /'X', 'SMask': <PDFObjRef:161>, 'Subtype': /'Image', 'Type': /'XObject', 'Width': 12}>\n",
      "2017-07-01 18:59:40,449 : INFO : Processing xobj: <PDFStream(157): raw=627, {'BitsPerComponent': 8, 'ColorSpace': <PDFObjRef:174>, 'Filter': /'DCTDecode', 'Height': 12, 'Length': 625, 'Name': /'X', 'SMask': <PDFObjRef:161>, 'Subtype': /'Image', 'Type': /'XObject', 'Width': 12}>\n",
      "2017-07-01 18:59:40,469 : INFO : Processing xobj: <PDFStream(157): raw=627, {'BitsPerComponent': 8, 'ColorSpace': <PDFObjRef:174>, 'Filter': /'DCTDecode', 'Height': 12, 'Length': 625, 'Name': /'X', 'SMask': <PDFObjRef:161>, 'Subtype': /'Image', 'Type': /'XObject', 'Width': 12}>\n",
      "2017-07-01 18:59:40,490 : INFO : Processing xobj: <PDFStream(157): raw=627, {'BitsPerComponent': 8, 'ColorSpace': <PDFObjRef:174>, 'Filter': /'DCTDecode', 'Height': 12, 'Length': 625, 'Name': /'X', 'SMask': <PDFObjRef:161>, 'Subtype': /'Image', 'Type': /'XObject', 'Width': 12}>\n",
      "2017-07-01 18:59:40,509 : INFO : Processing xobj: <PDFStream(157): raw=627, {'BitsPerComponent': 8, 'ColorSpace': <PDFObjRef:174>, 'Filter': /'DCTDecode', 'Height': 12, 'Length': 625, 'Name': /'X', 'SMask': <PDFObjRef:161>, 'Subtype': /'Image', 'Type': /'XObject', 'Width': 12}>\n",
      "2017-07-01 18:59:40,520 : INFO : Processing xobj: <PDFStream(157): raw=627, {'BitsPerComponent': 8, 'ColorSpace': <PDFObjRef:174>, 'Filter': /'DCTDecode', 'Height': 12, 'Length': 625, 'Name': /'X', 'SMask': <PDFObjRef:161>, 'Subtype': /'Image', 'Type': /'XObject', 'Width': 12}>\n",
      "2017-07-01 18:59:40,541 : INFO : Processing xobj: <PDFStream(157): raw=627, {'BitsPerComponent': 8, 'ColorSpace': <PDFObjRef:174>, 'Filter': /'DCTDecode', 'Height': 12, 'Length': 625, 'Name': /'X', 'SMask': <PDFObjRef:161>, 'Subtype': /'Image', 'Type': /'XObject', 'Width': 12}>\n",
      "2017-07-01 18:59:40,549 : INFO : Processing xobj: <PDFStream(157): raw=627, {'BitsPerComponent': 8, 'ColorSpace': <PDFObjRef:174>, 'Filter': /'DCTDecode', 'Height': 12, 'Length': 625, 'Name': /'X', 'SMask': <PDFObjRef:161>, 'Subtype': /'Image', 'Type': /'XObject', 'Width': 12}>\n",
      "2017-07-01 18:59:40,565 : INFO : Processing xobj: <PDFStream(157): raw=627, {'BitsPerComponent': 8, 'ColorSpace': <PDFObjRef:174>, 'Filter': /'DCTDecode', 'Height': 12, 'Length': 625, 'Name': /'X', 'SMask': <PDFObjRef:161>, 'Subtype': /'Image', 'Type': /'XObject', 'Width': 12}>\n",
      "2017-07-01 18:59:40,577 : INFO : Processing xobj: <PDFStream(157): raw=627, {'BitsPerComponent': 8, 'ColorSpace': <PDFObjRef:174>, 'Filter': /'DCTDecode', 'Height': 12, 'Length': 625, 'Name': /'X', 'SMask': <PDFObjRef:161>, 'Subtype': /'Image', 'Type': /'XObject', 'Width': 12}>\n",
      "2017-07-01 18:59:40,599 : INFO : Processing xobj: <PDFStream(157): raw=627, {'BitsPerComponent': 8, 'ColorSpace': <PDFObjRef:174>, 'Filter': /'DCTDecode', 'Height': 12, 'Length': 625, 'Name': /'X', 'SMask': <PDFObjRef:161>, 'Subtype': /'Image', 'Type': /'XObject', 'Width': 12}>\n",
      "2017-07-01 18:59:40,609 : INFO : Processing xobj: <PDFStream(157): raw=627, {'BitsPerComponent': 8, 'ColorSpace': <PDFObjRef:174>, 'Filter': /'DCTDecode', 'Height': 12, 'Length': 625, 'Name': /'X', 'SMask': <PDFObjRef:161>, 'Subtype': /'Image', 'Type': /'XObject', 'Width': 12}>\n",
      "2017-07-01 18:59:40,620 : INFO : Processing xobj: <PDFStream(157): raw=627, {'BitsPerComponent': 8, 'ColorSpace': <PDFObjRef:174>, 'Filter': /'DCTDecode', 'Height': 12, 'Length': 625, 'Name': /'X', 'SMask': <PDFObjRef:161>, 'Subtype': /'Image', 'Type': /'XObject', 'Width': 12}>\n",
      "2017-07-01 18:59:40,633 : INFO : Processing xobj: <PDFStream(157): raw=627, {'BitsPerComponent': 8, 'ColorSpace': <PDFObjRef:174>, 'Filter': /'DCTDecode', 'Height': 12, 'Length': 625, 'Name': /'X', 'SMask': <PDFObjRef:161>, 'Subtype': /'Image', 'Type': /'XObject', 'Width': 12}>\n",
      "2017-07-01 18:59:40,824 : INFO : Page: {'Contents': <PDFObjRef:2>, 'CropBox': [0.0, 0.0, 595.32, 841.92], 'Group': <PDFObjRef:175>, 'MediaBox': [0.0, 0.0, 595.32, 841.92], 'Parent': <PDFObjRef:144>, 'Resources': {'ColorSpace': {'CS0': <PDFObjRef:163>, 'CS1': <PDFObjRef:164>, 'CS2': <PDFObjRef:163>}, 'ExtGState': {'GS0': <PDFObjRef:165>}, 'Font': {'TT0': <PDFObjRef:167>, 'TT1': <PDFObjRef:171>, 'TT2': <PDFObjRef:173>, 'TT3': <PDFObjRef:169>, 'TT4': <PDFObjRef:12>}, 'XObject': {'Im0': <PDFObjRef:157>, 'Im1': <PDFObjRef:157>, 'Im10': <PDFObjRef:157>, 'Im11': <PDFObjRef:157>, 'Im12': <PDFObjRef:157>, 'Im13': <PDFObjRef:157>, 'Im2': <PDFObjRef:157>, 'Im3': <PDFObjRef:157>, 'Im4': <PDFObjRef:157>, 'Im5': <PDFObjRef:157>, 'Im6': <PDFObjRef:157>, 'Im7': <PDFObjRef:157>, 'Im8': <PDFObjRef:157>, 'Im9': <PDFObjRef:157>}}, 'Rotate': 0, 'StructParents': 1, 'Type': /'Page'}\n",
      "2017-07-01 18:59:40,828 : INFO : Processing page: <PDFPage: Resources={'ColorSpace': {'CS0': <PDFObjRef:163>, 'CS1': <PDFObjRef:164>, 'CS2': <PDFObjRef:163>}, 'ExtGState': {'GS0': <PDFObjRef:165>}, 'Font': {'TT0': <PDFObjRef:167>, 'TT1': <PDFObjRef:171>, 'TT2': <PDFObjRef:173>, 'TT3': <PDFObjRef:169>, 'TT4': <PDFObjRef:12>}, 'XObject': {'Im0': <PDFObjRef:157>, 'Im1': <PDFObjRef:157>, 'Im10': <PDFObjRef:157>, 'Im11': <PDFObjRef:157>, 'Im12': <PDFObjRef:157>, 'Im13': <PDFObjRef:157>, 'Im2': <PDFObjRef:157>, 'Im3': <PDFObjRef:157>, 'Im4': <PDFObjRef:157>, 'Im5': <PDFObjRef:157>, 'Im6': <PDFObjRef:157>, 'Im7': <PDFObjRef:157>, 'Im8': <PDFObjRef:157>, 'Im9': <PDFObjRef:157>}}, MediaBox=[0.0, 0.0, 595.32, 841.92]>\n",
      "2017-07-01 18:59:40,831 : INFO : render_contents: resources={'ColorSpace': {'CS0': <PDFObjRef:163>, 'CS1': <PDFObjRef:164>, 'CS2': <PDFObjRef:163>}, 'ExtGState': {'GS0': <PDFObjRef:165>}, 'Font': {'TT0': <PDFObjRef:167>, 'TT1': <PDFObjRef:171>, 'TT2': <PDFObjRef:173>, 'TT3': <PDFObjRef:169>, 'TT4': <PDFObjRef:12>}, 'XObject': {'Im0': <PDFObjRef:157>, 'Im1': <PDFObjRef:157>, 'Im10': <PDFObjRef:157>, 'Im11': <PDFObjRef:157>, 'Im12': <PDFObjRef:157>, 'Im13': <PDFObjRef:157>, 'Im2': <PDFObjRef:157>, 'Im3': <PDFObjRef:157>, 'Im4': <PDFObjRef:157>, 'Im5': <PDFObjRef:157>, 'Im6': <PDFObjRef:157>, 'Im7': <PDFObjRef:157>, 'Im8': <PDFObjRef:157>, 'Im9': <PDFObjRef:157>}}, streams=[<PDFStream(2): raw=4284, {'Filter': /'FlateDecode', 'Length': 4282}>], ctm=(1, 0, 0, 1, -0.0, -0.0)\n",
      "2017-07-01 18:59:40,841 : INFO : get_font: create: objid=12, spec={'BaseFont': /'TimesNewRomanPS-BoldItalicMT', 'Encoding': /'WinAnsiEncoding', 'FirstChar': 0, 'FontDescriptor': <PDFObjRef:11>, 'LastChar': 255, 'Subtype': /'TrueType', 'Type': /'Font', 'Widths': [778, 778, 778, 778, 778, 778, 778, 778, 778, 778, 778, 778, 778, 778, 778, 778, 778, 778, 778, 778, 778, 778, 778, 778, 778, 778, 778, 778, 778, 778, 778, 778, 250, 389, 555, 500, 500, 833, 778, 278, 333, 333, 500, 570, 250, 333, 250, 278, 500, 500, 500, 500, 500, 500, 500, 500, 500, 500, 333, 333, 570, 570, 570, 500, 832, 667, 667, 667, 722, 667, 667, 722, 778, 389, 500, 667, 611, 889, 722, 722, 611, 722, 667, 556, 611, 722, 667, 889, 667, 611, 611, 333, 278, 333, 570, 500, 333, 500, 500, 444, 500, 444, 333, 500, 556, 278, 278, 500, 278, 778, 556, 500, 500, 500, 389, 389, 278, 556, 444, 667, 500, 444, 389, 348, 220, 348, 570, 350, 500, 350, 333, 500, 500, 1000, 500, 500, 333, 1000, 556, 333, 944, 350, 611, 350, 350, 333, 333, 500, 500, 350, 500, 1000, 333, 1000, 389, 333, 722, 350, 389, 611, 250, 389, 500, 500, 500, 500, 220, 500, 333, 747, 266, 500, 606, 333, 747, 500, 400, 549, 300, 300, 333, 576, 500, 250, 333, 300, 300, 500, 750, 750, 750, 500, 667, 667, 667, 667, 667, 667, 944, 667, 667, 667, 667, 667, 389, 389, 389, 389, 722, 722, 722, 722, 722, 722, 722, 570, 722, 722, 722, 722, 722, 611, 611, 500, 500, 500, 500, 500, 500, 500, 722, 444, 444, 444, 444, 444, 278, 278, 278, 278, 500, 556, 500, 500, 500, 500, 500, 549, 500, 556, 556, 556, 556, 444, 500, 444]}\n",
      "2017-07-01 18:59:40,872 : INFO : Processing xobj: <PDFStream(157): raw=627, {'BitsPerComponent': 8, 'ColorSpace': <PDFObjRef:174>, 'Filter': /'DCTDecode', 'Height': 12, 'Length': 625, 'Name': /'X', 'SMask': <PDFObjRef:161>, 'Subtype': /'Image', 'Type': /'XObject', 'Width': 12}>\n",
      "2017-07-01 18:59:40,886 : INFO : Processing xobj: <PDFStream(157): raw=627, {'BitsPerComponent': 8, 'ColorSpace': <PDFObjRef:174>, 'Filter': /'DCTDecode', 'Height': 12, 'Length': 625, 'Name': /'X', 'SMask': <PDFObjRef:161>, 'Subtype': /'Image', 'Type': /'XObject', 'Width': 12}>\n",
      "2017-07-01 18:59:40,907 : INFO : Processing xobj: <PDFStream(157): raw=627, {'BitsPerComponent': 8, 'ColorSpace': <PDFObjRef:174>, 'Filter': /'DCTDecode', 'Height': 12, 'Length': 625, 'Name': /'X', 'SMask': <PDFObjRef:161>, 'Subtype': /'Image', 'Type': /'XObject', 'Width': 12}>\n",
      "2017-07-01 18:59:40,915 : INFO : Processing xobj: <PDFStream(157): raw=627, {'BitsPerComponent': 8, 'ColorSpace': <PDFObjRef:174>, 'Filter': /'DCTDecode', 'Height': 12, 'Length': 625, 'Name': /'X', 'SMask': <PDFObjRef:161>, 'Subtype': /'Image', 'Type': /'XObject', 'Width': 12}>\n",
      "2017-07-01 18:59:40,930 : INFO : Processing xobj: <PDFStream(157): raw=627, {'BitsPerComponent': 8, 'ColorSpace': <PDFObjRef:174>, 'Filter': /'DCTDecode', 'Height': 12, 'Length': 625, 'Name': /'X', 'SMask': <PDFObjRef:161>, 'Subtype': /'Image', 'Type': /'XObject', 'Width': 12}>\n",
      "2017-07-01 18:59:40,936 : INFO : Processing xobj: <PDFStream(157): raw=627, {'BitsPerComponent': 8, 'ColorSpace': <PDFObjRef:174>, 'Filter': /'DCTDecode', 'Height': 12, 'Length': 625, 'Name': /'X', 'SMask': <PDFObjRef:161>, 'Subtype': /'Image', 'Type': /'XObject', 'Width': 12}>\n",
      "2017-07-01 18:59:40,949 : INFO : Processing xobj: <PDFStream(157): raw=627, {'BitsPerComponent': 8, 'ColorSpace': <PDFObjRef:174>, 'Filter': /'DCTDecode', 'Height': 12, 'Length': 625, 'Name': /'X', 'SMask': <PDFObjRef:161>, 'Subtype': /'Image', 'Type': /'XObject', 'Width': 12}>\n",
      "2017-07-01 18:59:40,960 : INFO : Processing xobj: <PDFStream(157): raw=627, {'BitsPerComponent': 8, 'ColorSpace': <PDFObjRef:174>, 'Filter': /'DCTDecode', 'Height': 12, 'Length': 625, 'Name': /'X', 'SMask': <PDFObjRef:161>, 'Subtype': /'Image', 'Type': /'XObject', 'Width': 12}>\n",
      "2017-07-01 18:59:40,971 : INFO : Processing xobj: <PDFStream(157): raw=627, {'BitsPerComponent': 8, 'ColorSpace': <PDFObjRef:174>, 'Filter': /'DCTDecode', 'Height': 12, 'Length': 625, 'Name': /'X', 'SMask': <PDFObjRef:161>, 'Subtype': /'Image', 'Type': /'XObject', 'Width': 12}>\n",
      "2017-07-01 18:59:40,979 : INFO : Processing xobj: <PDFStream(157): raw=627, {'BitsPerComponent': 8, 'ColorSpace': <PDFObjRef:174>, 'Filter': /'DCTDecode', 'Height': 12, 'Length': 625, 'Name': /'X', 'SMask': <PDFObjRef:161>, 'Subtype': /'Image', 'Type': /'XObject', 'Width': 12}>\n",
      "2017-07-01 18:59:41,045 : INFO : Processing xobj: <PDFStream(157): raw=627, {'BitsPerComponent': 8, 'ColorSpace': <PDFObjRef:174>, 'Filter': /'DCTDecode', 'Height': 12, 'Length': 625, 'Name': /'X', 'SMask': <PDFObjRef:161>, 'Subtype': /'Image', 'Type': /'XObject', 'Width': 12}>\n",
      "2017-07-01 18:59:41,063 : INFO : Processing xobj: <PDFStream(157): raw=627, {'BitsPerComponent': 8, 'ColorSpace': <PDFObjRef:174>, 'Filter': /'DCTDecode', 'Height': 12, 'Length': 625, 'Name': /'X', 'SMask': <PDFObjRef:161>, 'Subtype': /'Image', 'Type': /'XObject', 'Width': 12}>\n",
      "2017-07-01 18:59:41,080 : INFO : Processing xobj: <PDFStream(157): raw=627, {'BitsPerComponent': 8, 'ColorSpace': <PDFObjRef:174>, 'Filter': /'DCTDecode', 'Height': 12, 'Length': 625, 'Name': /'X', 'SMask': <PDFObjRef:161>, 'Subtype': /'Image', 'Type': /'XObject', 'Width': 12}>\n",
      "2017-07-01 18:59:41,104 : INFO : Processing xobj: <PDFStream(157): raw=627, {'BitsPerComponent': 8, 'ColorSpace': <PDFObjRef:174>, 'Filter': /'DCTDecode', 'Height': 12, 'Length': 625, 'Name': /'X', 'SMask': <PDFObjRef:161>, 'Subtype': /'Image', 'Type': /'XObject', 'Width': 12}>\n",
      "2017-07-01 18:59:41,317 : INFO : xref found: pos=b'116'\n",
      "2017-07-01 18:59:41,319 : INFO : read_xref_from: start=116, token=37\n",
      "2017-07-01 18:59:41,326 : INFO : xref stream: objid=(13, 45), fields=1,3,1\n",
      "2017-07-01 18:59:41,328 : INFO : trailer: {'DecodeParms': {'Columns': 5, 'Predictor': 12}, 'Filter': /'FlateDecode', 'ID': [b'\\xc0\\xfe/u\\td[J\\xab\\xbdM\\xa8n\\x80\\x96\\xd4', b'\\xc0\\xfe/u\\td[J\\xab\\xbdM\\xa8n\\x80\\x96\\xd4'], 'Index': [13, 45], 'Info': <PDFObjRef:12>, 'Length': 111, 'Prev': 124471, 'Root': <PDFObjRef:14>, 'Size': 58, 'Type': /'XRef', 'W': [1, 3, 1]}\n",
      "2017-07-01 18:59:41,332 : INFO : read_xref_from: start=124471, token=8\n",
      "2017-07-01 18:59:41,337 : INFO : xref stream: objid=(0, 13), fields=1,3,0\n",
      "2017-07-01 18:59:41,339 : INFO : trailer: {'DecodeParms': {'Columns': 4, 'Predictor': 12}, 'Filter': /'FlateDecode', 'ID': [b'\\xc0\\xfe/u\\td[J\\xab\\xbdM\\xa8n\\x80\\x96\\xd4', b'\\xc0\\xfe/u\\td[J\\xab\\xbdM\\xa8n\\x80\\x96\\xd4'], 'Info': <PDFObjRef:12>, 'Length': 56, 'Root': <PDFObjRef:14>, 'Size': 13, 'Type': /'XRef', 'W': [1, 3, 0]}\n",
      "2017-07-01 18:59:41,427 : INFO : Pages: Kids=[<PDFObjRef:15>, <PDFObjRef:1>]\n",
      "2017-07-01 18:59:41,433 : INFO : Page: {'Contents': [<PDFObjRef:19>, <PDFObjRef:20>, <PDFObjRef:22>, <PDFObjRef:25>, <PDFObjRef:26>, <PDFObjRef:27>, <PDFObjRef:28>, <PDFObjRef:29>], 'CropBox': [0, 0, 612, 792], 'MediaBox': [0, 0, 612, 792], 'Parent': <PDFObjRef:11>, 'Resources': {'Font': {'F10': <PDFObjRef:40>, 'F11': <PDFObjRef:43>, 'F12': <PDFObjRef:46>, 'F7': <PDFObjRef:49>, 'F8': <PDFObjRef:52>, 'F9': <PDFObjRef:55>}, 'ProcSet': <PDFObjRef:56>}, 'Rotate': 0, 'Type': /'Page'}\n",
      "2017-07-01 18:59:41,435 : INFO : Processing page: <PDFPage: Resources={'Font': {'F10': <PDFObjRef:40>, 'F11': <PDFObjRef:43>, 'F12': <PDFObjRef:46>, 'F7': <PDFObjRef:49>, 'F8': <PDFObjRef:52>, 'F9': <PDFObjRef:55>}, 'ProcSet': <PDFObjRef:56>}, MediaBox=[0, 0, 612, 792]>\n",
      "2017-07-01 18:59:41,437 : INFO : render_contents: resources={'Font': {'F10': <PDFObjRef:40>, 'F11': <PDFObjRef:43>, 'F12': <PDFObjRef:46>, 'F7': <PDFObjRef:49>, 'F8': <PDFObjRef:52>, 'F9': <PDFObjRef:55>}, 'ProcSet': <PDFObjRef:56>}, streams=[<PDFObjRef:19>, <PDFObjRef:20>, <PDFObjRef:22>, <PDFObjRef:25>, <PDFObjRef:26>, <PDFObjRef:27>, <PDFObjRef:28>, <PDFObjRef:29>], ctm=(1, 0, 0, 1, 0, 0)\n",
      "2017-07-01 18:59:41,471 : INFO : get_font: create: objid=40, spec={'BaseFont': /'EBCDEE+Arial', 'DW': 1000, 'DescendantFonts': [<PDFObjRef:39>], 'Encoding': /'Identity-H', 'Name': /'F10', 'Subtype': /'Type0', 'ToUnicode': <PDFObjRef:21>, 'Type': /'Font'}\n",
      "2017-07-01 18:59:41,475 : INFO : get_font: create: objid=None, spec={'BaseFont': /'EBCDEE+Arial,Bold', 'CIDSystemInfo': {'Ordering': b'Identity', 'Registry': b'Adobe', 'Supplement': 0}, 'CIDToGIDMap': /'Identity', 'FontDescriptor': <PDFObjRef:38>, 'Subtype': /'CIDFontType2', 'Type': /'Font', 'W': [3, [278]], 'Encoding': /'Identity-H', 'ToUnicode': <PDFStream(21): raw=228, {'Filter': [/'FlateDecode'], 'Length': 226}>}\n"
     ]
    },
    {
     "name": "stdout",
     "output_type": "stream",
     "text": [
      "Corpus is now 686294 characters long\n",
      "\n",
      "Reading 'KellyKislaya_359993_-06_00-_1.doc'...\n",
      "Corpus is now 686294 characters long\n",
      "\n",
      "Reading 'MunmunMitra_357457_-11_00-_1.doc'...\n",
      "Corpus is now 686294 characters long\n",
      "\n",
      "Reading 'Rajiv  B _JOB010014HR_Uploads_.pdf'...\n"
     ]
    },
    {
     "name": "stderr",
     "output_type": "stream",
     "text": [
      "2017-07-01 18:59:41,484 : INFO : get_font: create: objid=43, spec={'BaseFont': /'FBCDEE+Symbol', 'DW': 1000, 'DescendantFonts': [<PDFObjRef:42>], 'Encoding': /'Identity-H', 'Name': /'F11', 'Subtype': /'Type0', 'ToUnicode': <PDFObjRef:23>, 'Type': /'Font'}\n",
      "2017-07-01 18:59:41,490 : INFO : get_font: create: objid=None, spec={'BaseFont': /'FBCDEE+Symbol', 'CIDSystemInfo': {'Ordering': b'Identity', 'Registry': b'Adobe', 'Supplement': 0}, 'CIDToGIDMap': /'Identity', 'FontDescriptor': <PDFObjRef:41>, 'Subtype': /'CIDFontType2', 'Type': /'Font', 'W': [120, [460]], 'Encoding': /'Identity-H', 'ToUnicode': <PDFStream(23): raw=230, {'Filter': [/'FlateDecode'], 'Length': 228}>}\n",
      "2017-07-01 18:59:41,496 : INFO : get_font: create: objid=46, spec={'BaseFont': /'GBCDEE+Arial', 'DW': 1000, 'DescendantFonts': [<PDFObjRef:45>], 'Encoding': /'Identity-H', 'Name': /'F12', 'Subtype': /'Type0', 'ToUnicode': <PDFObjRef:24>, 'Type': /'Font'}\n",
      "2017-07-01 18:59:41,500 : INFO : get_font: create: objid=None, spec={'BaseFont': /'GBCDEE+Arial', 'CIDSystemInfo': {'Ordering': b'Identity', 'Registry': b'Adobe', 'Supplement': 0}, 'CIDToGIDMap': /'Identity', 'FontDescriptor': <PDFObjRef:44>, 'Subtype': /'CIDFontType2', 'Type': /'Font', 'W': [3, [278]], 'Encoding': /'Identity-H', 'ToUnicode': <PDFStream(24): raw=228, {'Filter': [/'FlateDecode'], 'Length': 226}>}\n",
      "2017-07-01 18:59:41,508 : INFO : get_font: create: objid=49, spec={'BaseFont': /'BBCDEE+Calibri', 'DW': 1000, 'DescendantFonts': [<PDFObjRef:48>], 'Encoding': /'Identity-H', 'Name': /'F7', 'Subtype': /'Type0', 'ToUnicode': <PDFObjRef:17>, 'Type': /'Font'}\n",
      "2017-07-01 18:59:41,510 : INFO : get_font: create: objid=None, spec={'BaseFont': /'BBCDEE+Calibri,Bold', 'CIDSystemInfo': {'Ordering': b'Identity', 'Registry': b'Adobe', 'Supplement': 0}, 'CIDToGIDMap': /'Identity', 'FontDescriptor': <PDFObjRef:47>, 'Subtype': /'CIDFontType2', 'Type': /'Font', 'W': [3, [226, 606], 17, [561, 529], 24, [630], 28, [488], 38, [459, 637], 44, [631], 47, [267], 58, [331], 60, [547], 62, [423], 68, [874, 659], 75, [676], 87, [532], 89, [686, 563], 94, [473], 100, [495], 104, [653], 115, [591], 121, [551, 520], 258, [494], 271, [537, 418], 282, [537], 286, [503], 296, [316], 336, [474], 346, [537], 349, [246], 364, [480], 367, [246], 373, [813, 537], 381, [538], 393, [537], 396, [355], 400, [399], 410, [347], 437, [537], 448, [473, 745], 454, [459, 474], 853, [258], 855, [276, 267], 882, [306], 884, [498], 894, [312, 312], 923, [898], 1004, [507, 507, 507, 507, 507, 507, 507, 507, 507, 507]], 'Encoding': /'Identity-H', 'ToUnicode': <PDFStream(17): raw=638, {'Filter': [/'FlateDecode'], 'Length': 636}>}\n",
      "2017-07-01 18:59:41,529 : INFO : get_font: create: objid=52, spec={'BaseFont': /'CBCDEE+Calibri', 'DW': 1000, 'DescendantFonts': [<PDFObjRef:51>], 'Encoding': /'Identity-H', 'Name': /'F8', 'Subtype': /'Type0', 'ToUnicode': <PDFObjRef:18>, 'Type': /'Font'}\n",
      "2017-07-01 18:59:41,533 : INFO : get_font: create: objid=None, spec={'BaseFont': /'CBCDEE+Calibri', 'CIDSystemInfo': {'Ordering': b'Identity', 'Registry': b'Adobe', 'Supplement': 0}, 'CIDToGIDMap': /'Identity', 'FontDescriptor': <PDFObjRef:50>, 'Subtype': /'CIDFontType2', 'Type': /'Font', 'W': [3, [226, 579], 17, [544, 533], 24, [615], 28, [488], 38, [459, 631], 44, [623], 47, [252], 58, [319], 60, [520], 62, [420], 68, [855, 646], 75, [662], 87, [517], 89, [673, 543], 94, [459], 100, [487], 258, [479], 271, [525, 423], 282, [525], 286, [498], 296, [305], 336, [471], 346, [525], 349, [229], 361, [239], 364, [455], 367, [229], 373, [799, 525], 381, [527], 393, [525], 396, [349], 400, [391], 410, [335], 437, [525], 448, [452, 715], 454, [433, 453], 853, [250], 855, [268, 252], 882, [306], 884, [498], 890, [498], 894, [303, 303], 910, [498], 920, [682], 923, [894], 1004, [507, 507, 507, 507, 507, 507, 507, 507, 507, 507], 1066, [671], 1085, [498]], 'Encoding': /'Identity-H', 'ToUnicode': <PDFStream(18): raw=652, {'Filter': [/'FlateDecode'], 'Length': 650}>}\n",
      "2017-07-01 18:59:41,560 : INFO : get_font: create: objid=55, spec={'BaseFont': /'DBCDEE+Calibri', 'DW': 1000, 'DescendantFonts': [<PDFObjRef:54>], 'Encoding': /'Identity-H', 'Name': /'F9', 'Subtype': /'Type0', 'ToUnicode': <PDFObjRef:36>, 'Type': /'Font'}\n",
      "2017-07-01 18:59:41,564 : INFO : get_font: create: objid=None, spec={'BaseFont': /'DBCDEE+Calibri,BoldItalic', 'CIDSystemInfo': {'Ordering': b'Identity', 'Registry': b'Adobe', 'Supplement': 0}, 'CIDToGIDMap': /'Identity', 'FontDescriptor': <PDFObjRef:53>, 'Subtype': /'CIDFontType2', 'Type': /'Font', 'W': [3, [226]], 'Encoding': /'Identity-H', 'ToUnicode': <PDFStream(36): raw=228, {'Filter': [/'FlateDecode'], 'Length': 226}>}\n",
      "2017-07-01 18:59:42,309 : INFO : Page: {'Contents': <PDFObjRef:2>, 'CropBox': [0, 0, 612, 792], 'MediaBox': [0, 0, 612, 792], 'Parent': <PDFObjRef:11>, 'Resources': {'Font': {'F10': <PDFObjRef:40>, 'F11': <PDFObjRef:43>, 'F12': <PDFObjRef:46>, 'F7': <PDFObjRef:49>, 'F8': <PDFObjRef:52>}, 'ProcSet': <PDFObjRef:9>}, 'Rotate': 0, 'Type': /'Page'}\n",
      "2017-07-01 18:59:42,312 : INFO : Processing page: <PDFPage: Resources={'Font': {'F10': <PDFObjRef:40>, 'F11': <PDFObjRef:43>, 'F12': <PDFObjRef:46>, 'F7': <PDFObjRef:49>, 'F8': <PDFObjRef:52>}, 'ProcSet': <PDFObjRef:9>}, MediaBox=[0, 0, 612, 792]>\n",
      "2017-07-01 18:59:42,315 : INFO : render_contents: resources={'Font': {'F10': <PDFObjRef:40>, 'F11': <PDFObjRef:43>, 'F12': <PDFObjRef:46>, 'F7': <PDFObjRef:49>, 'F8': <PDFObjRef:52>}, 'ProcSet': <PDFObjRef:9>}, streams=[<PDFStream(2): raw=2567, {'Filter': [/'FlateDecode'], 'Length': 2565}>], ctm=(1, 0, 0, 1, 0, 0)\n"
     ]
    },
    {
     "name": "stdout",
     "output_type": "stream",
     "text": [
      "Corpus is now 686294 characters long\n",
      "\n",
      "Reading 'VidyaGautham_362551_-09_00-_1.doc'...\n",
      "Corpus is now 686294 characters long\n",
      "\n",
      "Wall time: 2.91 s\n"
     ]
    }
   ],
   "source": [
    "%%time\n",
    "os.chdir('D:/D drive/DataAnalytics_StudyMaterial/IIMB-BDA/ProjectZ/Iteration2/Case Writer-Applications/TestData')\n",
    "resume_filenames_test = sorted(glob.glob(\"*.*\"))\n",
    "\n",
    "corpus_raw_test = u\"\"\n",
    "for resumes in resume_filenames_test:\n",
    "    print(\"Reading '{0}'...\".format(resumes))\n",
    "    corpus_raw_test+=document_to_text(resumes,os.path.join('./',resumes))\n",
    "    print(\"Corpus is now {0} characters long\".format(len(corpus_raw)))\n",
    "    print() \n",
    "    "
   ]
  },
  {
   "cell_type": "code",
   "execution_count": 115,
   "metadata": {
    "collapsed": true
   },
   "outputs": [],
   "source": [
    "raw_sentences_test = tokenizer.tokenize(corpus_raw_test)\n",
    "\n",
    "#sentence where each word is tokenized\n",
    "sentences_test = []\n",
    "for raw_sentence in raw_sentences_test:\n",
    "    if len(raw_sentence) > 0:\n",
    "        sentences_test.append(sentence_to_wordlist(raw_sentence))"
   ]
  },
  {
   "cell_type": "code",
   "execution_count": 228,
   "metadata": {
    "collapsed": false
   },
   "outputs": [],
   "source": [
    "#res2vec.accuracy(corpus_raw_test)"
   ]
  },
  {
   "cell_type": "markdown",
   "metadata": {},
   "source": [
    "## Explore Trained Model"
   ]
  },
  {
   "cell_type": "code",
   "execution_count": 218,
   "metadata": {
    "collapsed": true
   },
   "outputs": [],
   "source": [
    "tsne = sklearn.manifold.TSNE(n_components=2, random_state=0)"
   ]
  },
  {
   "cell_type": "code",
   "execution_count": 219,
   "metadata": {
    "collapsed": false
   },
   "outputs": [],
   "source": [
    "all_word_vectors_matrix = res2vec.wv.syn0"
   ]
  },
  {
   "cell_type": "code",
   "execution_count": 220,
   "metadata": {
    "collapsed": false
   },
   "outputs": [
    {
     "name": "stdout",
     "output_type": "stream",
     "text": [
      "Wall time: 1min 9s\n"
     ]
    }
   ],
   "source": [
    "%%time\n",
    "all_word_vectors_matrix_2d = tsne.fit_transform(all_word_vectors_matrix)"
   ]
  },
  {
   "cell_type": "markdown",
   "metadata": {},
   "source": [
    "## Plot the model"
   ]
  },
  {
   "cell_type": "code",
   "execution_count": 221,
   "metadata": {
    "collapsed": false
   },
   "outputs": [],
   "source": [
    "points = pd.DataFrame(\n",
    "    [\n",
    "        (word, coords[0], coords[1])\n",
    "        for word, coords in [\n",
    "            (word, all_word_vectors_matrix_2d[res2vec.wv.vocab[word].index])\n",
    "            for word in res2vec.wv.vocab\n",
    "        ]\n",
    "    ],\n",
    "    columns=[\"word\", \"x\", \"y\"]\n",
    ")"
   ]
  },
  {
   "cell_type": "code",
   "execution_count": 222,
   "metadata": {
    "collapsed": false
   },
   "outputs": [
    {
     "data": {
      "text/html": [
       "<div>\n",
       "<table border=\"1\" class=\"dataframe\">\n",
       "  <thead>\n",
       "    <tr style=\"text-align: right;\">\n",
       "      <th></th>\n",
       "      <th>word</th>\n",
       "      <th>x</th>\n",
       "      <th>y</th>\n",
       "    </tr>\n",
       "  </thead>\n",
       "  <tbody>\n",
       "    <tr>\n",
       "      <th>0</th>\n",
       "      <td>professional</td>\n",
       "      <td>-9.550831</td>\n",
       "      <td>0.379533</td>\n",
       "    </tr>\n",
       "    <tr>\n",
       "      <th>1</th>\n",
       "      <td>summary</td>\n",
       "      <td>-9.498754</td>\n",
       "      <td>-0.050809</td>\n",
       "    </tr>\n",
       "    <tr>\n",
       "      <th>2</th>\n",
       "      <td>6</td>\n",
       "      <td>-8.265814</td>\n",
       "      <td>-12.330054</td>\n",
       "    </tr>\n",
       "    <tr>\n",
       "      <th>3</th>\n",
       "      <td>years</td>\n",
       "      <td>-7.948086</td>\n",
       "      <td>-6.544656</td>\n",
       "    </tr>\n",
       "    <tr>\n",
       "      <th>4</th>\n",
       "      <td>experience</td>\n",
       "      <td>-7.877292</td>\n",
       "      <td>-6.779753</td>\n",
       "    </tr>\n",
       "    <tr>\n",
       "      <th>5</th>\n",
       "      <td>software</td>\n",
       "      <td>-4.679388</td>\n",
       "      <td>14.952334</td>\n",
       "    </tr>\n",
       "    <tr>\n",
       "      <th>6</th>\n",
       "      <td>developer</td>\n",
       "      <td>-4.905546</td>\n",
       "      <td>13.566231</td>\n",
       "    </tr>\n",
       "    <tr>\n",
       "      <th>7</th>\n",
       "      <td>industry.</td>\n",
       "      <td>-6.390371</td>\n",
       "      <td>1.037626</td>\n",
       "    </tr>\n",
       "    <tr>\n",
       "      <th>8</th>\n",
       "      <td>hands</td>\n",
       "      <td>13.617215</td>\n",
       "      <td>5.877726</td>\n",
       "    </tr>\n",
       "    <tr>\n",
       "      <th>9</th>\n",
       "      <td>java</td>\n",
       "      <td>-3.136567</td>\n",
       "      <td>15.849635</td>\n",
       "    </tr>\n",
       "  </tbody>\n",
       "</table>\n",
       "</div>"
      ],
      "text/plain": [
       "           word          x          y\n",
       "0  professional  -9.550831   0.379533\n",
       "1       summary  -9.498754  -0.050809\n",
       "2             6  -8.265814 -12.330054\n",
       "3         years  -7.948086  -6.544656\n",
       "4    experience  -7.877292  -6.779753\n",
       "5      software  -4.679388  14.952334\n",
       "6     developer  -4.905546  13.566231\n",
       "7     industry.  -6.390371   1.037626\n",
       "8         hands  13.617215   5.877726\n",
       "9          java  -3.136567  15.849635"
      ]
     },
     "execution_count": 222,
     "metadata": {},
     "output_type": "execute_result"
    }
   ],
   "source": [
    "points.head(10)"
   ]
  },
  {
   "cell_type": "code",
   "execution_count": 223,
   "metadata": {
    "collapsed": true
   },
   "outputs": [],
   "source": [
    "sns.set_context(\"poster\")"
   ]
  },
  {
   "cell_type": "code",
   "execution_count": 224,
   "metadata": {
    "collapsed": false
   },
   "outputs": [
    {
     "data": {
      "text/plain": [
       "<matplotlib.axes._subplots.AxesSubplot at 0x9f2f0a1438>"
      ]
     },
     "execution_count": 224,
     "metadata": {},
     "output_type": "execute_result"
    },
    {
     "data": {
      "image/png": "[encoded data removed]",
      "text/plain": [
       "<matplotlib.figure.Figure at 0x9f30747908>"
      ]
     },
     "metadata": {},
     "output_type": "display_data"
    }
   ],
   "source": [
    "points.plot.scatter(\"x\", \"y\", s=10, figsize=(20, 12))"
   ]
  },
  {
   "cell_type": "code",
   "execution_count": 225,
   "metadata": {
    "collapsed": true
   },
   "outputs": [],
   "source": [
    "def plot_region(x_bounds, y_bounds):\n",
    "    slc = points[\n",
    "        (x_bounds[0] <= points.x) &\n",
    "        (points.x <= x_bounds[1]) & \n",
    "        (y_bounds[0] <= points.y) &\n",
    "        (points.y <= y_bounds[1])\n",
    "    ]\n",
    "    ax = slc.plot.scatter(\"x\", \"y\", s=35, figsize=(10, 8))\n",
    "    for i, point in slc.iterrows():\n",
    "        ax.text(point.x + 0.005, point.y + 0.005, point.word, fontsize=11)"
   ]
  },
  {
   "cell_type": "code",
   "execution_count": 227,
   "metadata": {
    "collapsed": false
   },
   "outputs": [
    {
     "data": {
      "image/png": "[encoded data removed]",
      "text/plain": [
       "<matplotlib.figure.Figure at 0x9f2ebf05f8>"
      ]
     },
     "metadata": {},
     "output_type": "display_data"
    }
   ],
   "source": [
    "plot_region(x_bounds=(-5, 0), y_bounds=(-20, -15))"
   ]
  },
  {
   "cell_type": "code",
   "execution_count": 210,
   "metadata": {
    "collapsed": false
   },
   "outputs": [
    {
     "data": {
      "image/png": "[encoded data removed]",
      "text/plain": [
       "<matplotlib.figure.Figure at 0x9f30bdd9e8>"
      ]
     },
     "metadata": {},
     "output_type": "display_data"
    }
   ],
   "source": [
    "plot_region(x_bounds=(0,0.4), y_bounds=(-8.8,-8.4))"
   ]
  },
  {
   "cell_type": "code",
   "execution_count": null,
   "metadata": {
    "collapsed": true
   },
   "outputs": [],
   "source": []
  }
 ],
 "metadata": {
  "kernelspec": {
   "display_name": "Python 3",
   "language": "python",
   "name": "python3"
  },
  "language_info": {
   "codemirror_mode": {
    "name": "ipython",
    "version": 3
   },
   "file_extension": ".py",
   "mimetype": "text/x-python",
   "name": "python",
   "nbconvert_exporter": "python",
   "pygments_lexer": "ipython3",
   "version": "3.6.0"
  }
 },
 "nbformat": 4,
 "nbformat_minor": 2
}
